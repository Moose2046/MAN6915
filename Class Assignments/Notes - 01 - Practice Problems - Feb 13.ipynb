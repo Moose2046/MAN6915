{
 "cells": [
  {
   "cell_type": "markdown",
   "metadata": {},
   "source": [
    "# Basic IO"
   ]
  },
  {
   "cell_type": "markdown",
   "metadata": {},
   "source": [
    "Write a program that displays your name and address."
   ]
  },
  {
   "cell_type": "code",
   "execution_count": 1,
   "metadata": {
    "collapsed": true
   },
   "outputs": [],
   "source": [
    "def exercise():\n",
    "    \"\"\"Describe your solution approach\"\"\"\n",
    "        \n",
    "exercise()"
   ]
  },
  {
   "cell_type": "markdown",
   "metadata": {},
   "source": [
    "Write a program that prints the numbers 1 to 4 on the same line with each pair of adjacent numbers separated by one space. "
   ]
  },
  {
   "cell_type": "code",
   "execution_count": 2,
   "metadata": {
    "collapsed": true
   },
   "outputs": [],
   "source": [
    "def exercise():\n",
    "    \"\"\"Describe your solution approach\"\"\"\n",
    "        \n",
    "exercise()"
   ]
  },
  {
   "cell_type": "markdown",
   "metadata": {},
   "source": [
    "Write a program that asks you to enter an ASCII code value, such as 66, and then prints the character having that ASCII code."
   ]
  },
  {
   "cell_type": "code",
   "execution_count": 3,
   "metadata": {
    "collapsed": false,
    "scrolled": true
   },
   "outputs": [],
   "source": [
    "def exercise():\n",
    "    \"\"\"Describe your solution approach\"\"\"\n",
    "        \n",
    "exercise()"
   ]
  },
  {
   "cell_type": "markdown",
   "metadata": {},
   "source": [
    "Write a program that sounds an alert and then prints the following text:\n",
    "\n",
    "> `Startled by the sudden sound, Sally shouted,\n",
    "\"By the Great Pumpkin, what was that!\"`"
   ]
  },
  {
   "cell_type": "code",
   "execution_count": 4,
   "metadata": {
    "collapsed": false,
    "scrolled": true
   },
   "outputs": [],
   "source": [
    "def exercise():\n",
    "    \"\"\"Describe your solution approach\"\"\"\n",
    "        \n",
    "exercise()"
   ]
  },
  {
   "cell_type": "markdown",
   "metadata": {},
   "source": [
    "Write a program that asks for your first name, your last name, and then prints the names in the format last, first."
   ]
  },
  {
   "cell_type": "code",
   "execution_count": 5,
   "metadata": {
    "collapsed": false
   },
   "outputs": [],
   "source": [
    "def exercise():\n",
    "    \"\"\"Describe your solution approach\"\"\"\n",
    "    \n",
    "exercise()"
   ]
  },
  {
   "cell_type": "markdown",
   "metadata": {},
   "source": [
    "Write a program that requests your first name and does the following with it:\n",
    "1. Prints it enclosed in double quotation marks\n",
    "2. Prints it in a field 20 characters wide, with the whole field in quotes and the name at the right end of the field\n",
    "3. Prints it at the left end of a field 20 characters wide, with the whole field enclosed in quotes\n",
    "4. Prints it in a field three characters wider than the name"
   ]
  },
  {
   "cell_type": "code",
   "execution_count": 6,
   "metadata": {
    "collapsed": false
   },
   "outputs": [],
   "source": [
    "def exercise():\n",
    "    \"\"\"Describe your solution approach\"\"\"\n",
    "    \n",
    "exercise()"
   ]
  },
  {
   "cell_type": "markdown",
   "metadata": {},
   "source": [
    "Write a program that requests the user’s first name and then the user’s last name. Have it print the entered names on one line and the number of letters in each name on the following line. Align each letter count with the end of the corresponding name, as in the following:\n",
    "\n",
    ">`Melissa Honeybee\n",
    "      7        8`\n",
    "\n",
    "Next, have it print the same information, but with the counts aligned with the beginning of each name.\n",
    "\n",
    ">`Melissa Honeybee\n",
    "7       8`"
   ]
  },
  {
   "cell_type": "code",
   "execution_count": 7,
   "metadata": {
    "collapsed": true
   },
   "outputs": [],
   "source": [
    "def exercise():\n",
    "    \"\"\"Describe your solution approach\"\"\"\n",
    "        \n",
    "exercise()"
   ]
  },
  {
   "cell_type": "markdown",
   "metadata": {},
   "source": [
    "# Numerical Operations"
   ]
  },
  {
   "cell_type": "markdown",
   "metadata": {},
   "source": [
    "Write a program that asks for a distance in furlongs and converts it to yards. (One furlong is 220 yards.)"
   ]
  },
  {
   "cell_type": "code",
   "execution_count": 8,
   "metadata": {
    "collapsed": true
   },
   "outputs": [],
   "source": [
    "def exercise():\n",
    "    \"\"\"Describe your solution approach\"\"\"\n",
    "        \n",
    "exercise()"
   ]
  },
  {
   "cell_type": "markdown",
   "metadata": {},
   "source": [
    "Write a program that reads in a floating-point number and prints it first in decimal-point notation, then in exponential notation. Have the output use the following format (the actual number of digits displayed for the exponent depends on the system):\n",
    "\n",
    ">`Enter a floating-point value: 64.25\n",
    "fixed-point notation: 64.250000\n",
    "exponential notation: 6.425000e+01`"
   ]
  },
  {
   "cell_type": "code",
   "execution_count": 9,
   "metadata": {
    "collapsed": false
   },
   "outputs": [],
   "source": [
    "def exercise():\n",
    "    \"\"\"Describe your solution approach\"\"\"\n",
    "        \n",
    "exercise()"
   ]
  },
  {
   "cell_type": "markdown",
   "metadata": {},
   "source": [
    "There are approximately $3.156 × 10^7$ seconds in a year. Write a program that requests your age in years and then displays the equivalent number of seconds."
   ]
  },
  {
   "cell_type": "code",
   "execution_count": 10,
   "metadata": {
    "collapsed": false
   },
   "outputs": [],
   "source": [
    "def exercise():\n",
    "    \"\"\"Describe your solution approach\"\"\"\n",
    "        \n",
    "exercise()"
   ]
  },
  {
   "cell_type": "markdown",
   "metadata": {},
   "source": [
    "The mass of a single molecule of water is about $3.0×10^{-23}$ grams. A quart of water is about 950 grams. Write a program that requests an amount of water, in quarts, and displays the number of water molecules in that amount."
   ]
  },
  {
   "cell_type": "code",
   "execution_count": 11,
   "metadata": {
    "collapsed": false
   },
   "outputs": [],
   "source": [
    "def exercise():\n",
    "    \"\"\"Describe your solution approach\"\"\"\n",
    "        \n",
    "exercise()"
   ]
  },
  {
   "cell_type": "markdown",
   "metadata": {},
   "source": [
    "There are 2.54 centimeters to the inch. Write a program that asks you to enter your height in inches and then displays your height in centimeters. Or, if you prefer, ask for the height in centimeters and convert that to inches."
   ]
  },
  {
   "cell_type": "code",
   "execution_count": 12,
   "metadata": {
    "collapsed": false
   },
   "outputs": [],
   "source": [
    "def exercise():\n",
    "    \"\"\"Describe your solution approach\"\"\"\n",
    "        \n",
    "exercise()"
   ]
  },
  {
   "cell_type": "markdown",
   "metadata": {},
   "source": [
    "In the U.S. system of volume measurements, a pint is 2 cups, a cup is 8 ounces, an ounce is 2 tablespoons, and a tablespoon is 3 teaspoons. Write a program that requests a volume in cups and that displays the equivalent volumes in pints, ounces, tablespoons, and teaspoons. Why does a floating-point type make more sense for this application than an integer type?"
   ]
  },
  {
   "cell_type": "code",
   "execution_count": 13,
   "metadata": {
    "collapsed": false
   },
   "outputs": [],
   "source": [
    "def exercise():\n",
    "    \"\"\"Describe your solution approach\"\"\"\n",
    "        \n",
    "exercise()"
   ]
  },
  {
   "cell_type": "markdown",
   "metadata": {},
   "source": [
    "Write a program that reads in a floating-point number and prints it first in decimal-point notation and then in exponential notation. Have the output use the following formats (the number of digits shown in the exponent may be different for your system):\n",
    "\n",
    "1. The input is 21.3 or 2.1e+001.\n",
    "2. The input is +21.290 or 2.129E+001."
   ]
  },
  {
   "cell_type": "code",
   "execution_count": 14,
   "metadata": {
    "collapsed": false
   },
   "outputs": [],
   "source": [
    "def exercise():\n",
    "    \"\"\"Describe your solution approach\"\"\"\n",
    "    \n",
    "exercise()"
   ]
  },
  {
   "cell_type": "markdown",
   "metadata": {},
   "source": [
    "Write a program that requests your height in inches and your name, and then displays the information in the following form:\n",
    "\n",
    ">`Dabney, you are 6.208 feet tall`\n",
    "\n",
    "If you prefer, request the height in centimeters and display it in meters."
   ]
  },
  {
   "cell_type": "code",
   "execution_count": 15,
   "metadata": {
    "collapsed": false
   },
   "outputs": [],
   "source": [
    "def exercise():\n",
    "    \"\"\"Describe your solution approach\"\"\"\n",
    "    \n",
    "exercise()"
   ]
  },
  {
   "cell_type": "markdown",
   "metadata": {},
   "source": [
    "Write a program that requests the download speed in megabits per second (Mbs) and the size of a file in megabytes (MB). The program should calculate the download time for the file. Note that in this context one byte is eight bits. Use type float, and use / for division. The program should report all three values (download speed, file size, and download time) showing two digits to the right of the decimal point, as in the following:\n",
    "\n",
    ">`At 18.12 megabits per second, a file of 2.20 megabytes downloads in 0.97 seconds.`"
   ]
  },
  {
   "cell_type": "code",
   "execution_count": 16,
   "metadata": {
    "collapsed": false
   },
   "outputs": [],
   "source": [
    "def exercise():\n",
    "    \"\"\"Describe your solution approach\"\"\"\n",
    "    \n",
    "exercise()"
   ]
  },
  {
   "cell_type": "markdown",
   "metadata": {},
   "source": [
    "Write a program that asks the user to enter the number of miles traveled and the number of gallons of gasoline consumed. It should then calculate and display the miles-per-gallon value, showing one place to the right of the decimal. Next, using the fact that one gallon is about 3.785 liters and one mile is about 1.609 kilometers, it should convert the mile-per-gallon value to a liters-per-100-km value, the usual European way of expressing fuel consumption, and display the result, showing one place to the right of the decimal. Note that the U. S. scheme measures the distance traveled per amount of fuel (higher is better), whereas the European scheme measures the amount of fuel per distance (lower is better). Use symbolic constants for the two conversion factors."
   ]
  },
  {
   "cell_type": "code",
   "execution_count": 17,
   "metadata": {
    "collapsed": true
   },
   "outputs": [],
   "source": [
    "def exercise():\n",
    "    \"\"\"Describe your solution approach\"\"\"\n",
    "        \n",
    "exercise()"
   ]
  },
  {
   "cell_type": "markdown",
   "metadata": {},
   "source": [
    "# Selection Statements"
   ]
  },
  {
   "cell_type": "markdown",
   "metadata": {},
   "source": [
    "Write a program to read two strings and report whether the strings are equal. If not, report which of the two is larger. "
   ]
  },
  {
   "cell_type": "code",
   "execution_count": 18,
   "metadata": {
    "collapsed": true
   },
   "outputs": [],
   "source": [
    "def exercise():\n",
    "    \"\"\"Describe your solution approach\"\"\"\n",
    "    \n",
    "exercise()"
   ]
  },
  {
   "cell_type": "markdown",
   "metadata": {},
   "source": [
    "Write a program that asks the user to enter two integers, obtains the numbers from the user, then prints the larger number followed by the words \"is larger.\" If the numbers are equal, print the message \"These numbers are equal.\""
   ]
  },
  {
   "cell_type": "code",
   "execution_count": 19,
   "metadata": {
    "collapsed": false
   },
   "outputs": [],
   "source": [
    "def exercise():\n",
    "    \"\"\"Describe your solution approach\"\"\"\n",
    "    \n",
    "exercise()"
   ]
  },
  {
   "cell_type": "markdown",
   "metadata": {},
   "source": [
    "Write a program that inputs three integers from the keyboard and prints the sum, average, product, smallest and largest of these numbers. The screen dialog should appear as follows:\n",
    "\n",
    ">`Input three different integers: 13 27 14\n",
    "Sum is 54\n",
    "Average is 18\n",
    "Product is 4914\n",
    "Smallest is 13\n",
    "Largest is 27`"
   ]
  },
  {
   "cell_type": "code",
   "execution_count": 20,
   "metadata": {
    "collapsed": false
   },
   "outputs": [],
   "source": [
    "def exercise(x, y, z):\n",
    "    \"\"\"Describe your solution approach\"\"\"\n",
    "\n",
    "exercise(1, 1, 1)"
   ]
  },
  {
   "cell_type": "markdown",
   "metadata": {},
   "source": [
    "# User-Defined Functions"
   ]
  },
  {
   "cell_type": "markdown",
   "metadata": {},
   "source": [
    "Write a program that requests a number and prints the value of the number cubed. Use a function of your own design to cube the value and print it. The main() program should pass the entered value to this function."
   ]
  },
  {
   "cell_type": "code",
   "execution_count": 5,
   "metadata": {
    "collapsed": false
   },
   "outputs": [
    {
     "name": "stdout",
     "output_type": "stream",
     "text": [
      "Please input a number: 2\n",
      "The number cubed is 8.0\n"
     ]
    }
   ],
   "source": [
    "def exercise():\n",
    "    \"\"\"Validate input, take user input number and cube it. \"\"\"\n",
    "    while True:\n",
    "        try:\n",
    "            userNumber = float(input(\"Please input a number: \"))\n",
    "            userNumberCubed = userNumber ** 3\n",
    "            print(\"The number cubed is \"+ str(userNumberCubed))\n",
    "            break\n",
    "        except:\n",
    "            print(\"Please input a valid number.\")\n",
    "exercise()"
   ]
  },
  {
   "cell_type": "markdown",
   "metadata": {},
   "source": [
    "Write a program that requests the user to enter a Fahrenheit temperature. The program should read the temperature as a type double number and pass it as an argument to a user-supplied function called Temperatures(). This function should calculate the Celsius equivalent and the Kelvin equivalent and display all three temperatures with a precision of two places to the right of the decimal. It should identify each value with the temperature scale it represents. Here is the formula for converting Fahrenheit to Celsius: \n",
    "\n",
    ">`Celsius = 5.0 / 9.0 * (Fahrenheit - 32.0)`\n",
    "\n",
    "The Kelvin scale, commonly used in science, is a scale in which 0 represents absolute zero, the lower limit to possible temperatures. Here is the formula for converting Celsius to Kelvin:\n",
    "Kelvin = Celsius + 273.16\n",
    "\n",
    "The Temperatures() function should use symbolic representations of the three constants that appear in the conversions. The main() function should use a loop to allow the user to enter temperatures repeatedly, stopping when a q or other nonnumeric value is entered. "
   ]
  },
  {
   "cell_type": "code",
   "execution_count": 5,
   "metadata": {
    "collapsed": false
   },
   "outputs": [
    {
     "name": "stdout",
     "output_type": "stream",
     "text": [
      "Please input a temperature in Fahreheit 32\n",
      "Temperature Fahrenheit: 32.0\n",
      "Temperature Celsius: 0.0\n",
      "Temperature Kelvin: 273.16\n"
     ]
    }
   ],
   "source": [
    "def Temperatrues(fahrenheitTemp):\n",
    "    \"\"\"Describe your solution approach\"\"\"\n",
    "    CELSIUS_5_9 = 5.0/9.0\n",
    "    FAHRENHEIT_SUB = 32.0\n",
    "    KELVIN_ADDITION = 273.16\n",
    "    celsTemp = CELSIUS_5_9 * (fahrenheitTemp - FAHRENHEIT_SUB)\n",
    "    kelvTemp = celsTemp + KELVIN_ADDITION\n",
    "    print(\"Temperature Fahrenheit: \" + str(fahrenheitTemp))\n",
    "    print(\"Temperature Celsius: \" + str(celsTemp))\n",
    "    print(\"Temperature Kelvin: \" + str(kelvTemp))\n",
    "\n",
    "while True:\n",
    "    try:\n",
    "        fahrenheitTemp = float(input(\"Please input a temperature in Fahreheit \"))\n",
    "        Temperatrues(fahrenheitTemp)\n",
    "        break\n",
    "    except:\n",
    "        print(\"Input a valid number\")\n"
   ]
  },
  {
   "cell_type": "markdown",
   "metadata": {},
   "source": [
    "Devise a function called `min(x,y)` that returns the smaller of two double values. Test the function with a simple driver."
   ]
  },
  {
   "cell_type": "code",
   "execution_count": 16,
   "metadata": {
    "collapsed": false
   },
   "outputs": [
    {
     "data": {
      "text/plain": [
       "2"
      ]
     },
     "execution_count": 16,
     "metadata": {},
     "output_type": "execute_result"
    }
   ],
   "source": [
    "def min(x,y):\n",
    "    #takes two numbers x and y and find the minimum\n",
    "    \n",
    "    if x < y:\n",
    "        return x\n",
    "    elif y< x:\n",
    "        return y\n",
    "    else:\n",
    "        return \"equal\"\n",
    "    \n",
    "    \n",
    "min(2,3)"
   ]
  },
  {
   "cell_type": "markdown",
   "metadata": {},
   "source": [
    "Devise a function `chline(ch,i,j)` that prints the requested character in columns `i` through `j`. Test it in a simple driver."
   ]
  },
  {
   "cell_type": "code",
   "execution_count": 17,
   "metadata": {
    "collapsed": false
   },
   "outputs": [
    {
     "name": "stdout",
     "output_type": "stream",
     "text": [
      "p l e "
     ]
    }
   ],
   "source": [
    "def chline(ch, i,j):\n",
    "    for w in range(i,j+1):\n",
    "        print(ch[w], end= ' ')\n",
    "    \n",
    "chline('Simple Driver', 3,5)"
   ]
  },
  {
   "cell_type": "markdown",
   "metadata": {},
   "source": [
    "Write a function that takes three arguments: a character and two integers. The character is to be printed. The first integer specifies the number of times that the character is to be printed on a line, and the second integer specifies the number of lines that are to be printed. Write a program that makes use of this function."
   ]
  },
  {
   "cell_type": "code",
   "execution_count": 19,
   "metadata": {
    "collapsed": false
   },
   "outputs": [
    {
     "name": "stdout",
     "output_type": "stream",
     "text": [
      "dd dd dd \n",
      "dd dd dd \n",
      "dd dd dd \n",
      "dd dd dd \n"
     ]
    }
   ],
   "source": [
    "def exercise(ch, x, y):\n",
    "    #take in character, x number of times to print per line, and y lines to print on\n",
    "    \n",
    "    #repeat print func y times\n",
    "    for line in range(1,y+1):\n",
    "        #print the character on the same line x times\n",
    "        print((ch+\" \") * x)\n",
    "    \n",
    "exercise(\"dd\", 3,4)\n"
   ]
  },
  {
   "cell_type": "markdown",
   "metadata": {},
   "source": [
    "The harmonic mean of two numbers is obtained by taking the inverses of the two numbers, averaging them, and taking the inverse of the result. Write a function that takes two double arguments and returns the harmonic mean of the two numbers."
   ]
  },
  {
   "cell_type": "code",
   "execution_count": 14,
   "metadata": {
    "collapsed": false
   },
   "outputs": [
    {
     "data": {
      "text/plain": [
       "2.6666666666666665"
      ]
     },
     "execution_count": 14,
     "metadata": {},
     "output_type": "execute_result"
    }
   ],
   "source": [
    "def exercise(x, y):\n",
    "    # calculate the harmonic mean\n",
    "    \n",
    "    #take the inverse of x and y\n",
    "    inv_x = 1/x\n",
    "    inv_y = 1/y\n",
    "    \n",
    "    #get the mean of the inverses\n",
    "    mean= (inv_x + inv_y)/2\n",
    "    \n",
    "    #take the inverse of the mean\n",
    "    inv_mean = 1/mean\n",
    "    return inv_mean\n",
    "    \n",
    "exercise(2,4)"
   ]
  },
  {
   "cell_type": "markdown",
   "metadata": {},
   "source": [
    "Write and test a function called `larger_of()` that replaces the contents of two double variables with the maximum of the two values. For example, `larger_of(x,y)` would reset both `x` and `y` to the larger of the two."
   ]
  },
  {
   "cell_type": "code",
   "execution_count": 13,
   "metadata": {
    "collapsed": false
   },
   "outputs": [
    {
     "data": {
      "text/plain": [
       "(12, 12)"
      ]
     },
     "execution_count": 13,
     "metadata": {},
     "output_type": "execute_result"
    }
   ],
   "source": [
    "def larger_of(x,y):\n",
    "    #take the larger of the two numbers and change the smaller one to the largers \n",
    "    \n",
    "    #test which num is larger. change the smaller to the larger and return both\n",
    "    if x > y:\n",
    "        y = x\n",
    "        return x,y\n",
    "    elif y>x:\n",
    "        x = y\n",
    "        return x,y\n",
    "    else:\n",
    "        return x,y\n",
    "    \n",
    "larger_of(4,12)"
   ]
  },
  {
   "cell_type": "markdown",
   "metadata": {},
   "source": [
    "Write and test a function that takes the addresses of three double variables as arguments and that moves the value of the smallest variable into the first variable, the middle value to the second variable, and the largest value into the third variable."
   ]
  },
  {
   "cell_type": "code",
   "execution_count": 9,
   "metadata": {
    "collapsed": false
   },
   "outputs": [
    {
     "name": "stdout",
     "output_type": "stream",
     "text": [
      "x:  1 , y:  3 , z:  4\n"
     ]
    },
    {
     "data": {
      "text/plain": [
       "(1, 3, 4)"
      ]
     },
     "execution_count": 9,
     "metadata": {},
     "output_type": "execute_result"
    }
   ],
   "source": [
    "def exercise(x, y, z):\n",
    "    threevariables = [x, y, z]\n",
    "    threevariables.sort()\n",
    "    print('x: ', threevariables[0], ', y: ', threevariables[1], ', z: ', threevariables[2])\n",
    "    x = threevariables[0]\n",
    "    y = threevariables[1]\n",
    "    z = threevariables[2]\n",
    "    return x, y, z\n",
    "exercise(3, 4, 1) "
   ]
  },
  {
   "cell_type": "markdown",
   "metadata": {},
   "source": [
    "Write and test a `Factorial()` function that uses recursion to calculate factorial numbers."
   ]
  },
  {
   "cell_type": "code",
   "execution_count": 10,
   "metadata": {
    "collapsed": false
   },
   "outputs": [
    {
     "data": {
      "text/plain": [
       "6"
      ]
     },
     "execution_count": 10,
     "metadata": {},
     "output_type": "execute_result"
    }
   ],
   "source": [
    "def Factorial(n):\n",
    "    #Factorials = n! if n = 3, 3 * 2 * 1. If n = 1, return 1. Anything else, multiply the value by (value-1)\n",
    "    if n == 1:\n",
    "        return 1\n",
    "    else:\n",
    "        return n * Factorial(n-1)\n",
    "    \n",
    "Factorial(3) "
   ]
  },
  {
   "cell_type": "markdown",
   "metadata": {},
   "source": [
    "Write and test a `Fibonacci()` function that uses recursion to calculate Fibonacci numbers."
   ]
  },
  {
   "cell_type": "code",
   "execution_count": 12,
   "metadata": {
    "collapsed": false
   },
   "outputs": [
    {
     "data": {
      "text/plain": [
       "5"
      ]
     },
     "execution_count": 12,
     "metadata": {},
     "output_type": "execute_result"
    }
   ],
   "source": [
    "def Fibonacci(n):\n",
    "    #Fibonacci sequence is where the next number in a sequence is the sum of the previous two. \n",
    "    #Pass a number (n) into the function, check if n is 0 or 1 and return the appropriate value. If not, return the next sequence value\n",
    "    if n == 0:\n",
    "        return 0\n",
    "    elif n == 1:\n",
    "        return 1\n",
    "    else:\n",
    "        return Fibonacci(n-1) + Fibonacci(n-2)\n",
    "    \n",
    "Fibonacci(5) "
   ]
  },
  {
   "cell_type": "markdown",
   "metadata": {},
   "source": [
    "# Repetition Statements"
   ]
  },
  {
   "cell_type": "markdown",
   "metadata": {},
   "source": [
    "Write a program that uses `while` to sum the numbers from 50 to 100"
   ]
  },
  {
   "cell_type": "code",
   "execution_count": 31,
   "metadata": {
    "collapsed": true
   },
   "outputs": [],
   "source": [
    "def exercise():\n",
    "    \"\"\"Describe your solution approach\"\"\"\n",
    "        \n",
    "exercise()"
   ]
  },
  {
   "cell_type": "markdown",
   "metadata": {},
   "source": [
    "Write a program that uses a while loop to count down from 10 to 0, printing out the current value at each iteration."
   ]
  },
  {
   "cell_type": "code",
   "execution_count": 32,
   "metadata": {
    "collapsed": true
   },
   "outputs": [],
   "source": [
    "def exercise():\n",
    "    \"\"\"Describe your solution approach\"\"\"\n",
    "        \n",
    "exercise()"
   ]
  },
  {
   "cell_type": "markdown",
   "metadata": {},
   "source": [
    "Write a program that asks the user to type in numbers. After each entry, the program should report the cumulative sum of the entries to date. The program should terminate when the user enters 0."
   ]
  },
  {
   "cell_type": "code",
   "execution_count": null,
   "metadata": {
    "collapsed": true
   },
   "outputs": [],
   "source": []
  },
  {
   "cell_type": "markdown",
   "metadata": {},
   "source": [
    "Write a program that asks for an integer and then prints all the integers from (and including) that value up to (and including) a value larger by 10. (That is, if the input is 5, the output runs from 5 to 15.) Be sure to separate each output value by a space or tab or newline."
   ]
  },
  {
   "cell_type": "code",
   "execution_count": 33,
   "metadata": {
    "collapsed": false
   },
   "outputs": [],
   "source": [
    "def exercise():\n",
    "    \"\"\"Describe your solution approach\"\"\"\n",
    "        \n",
    "exercise()"
   ]
  },
  {
   "cell_type": "markdown",
   "metadata": {},
   "source": [
    "Write and test a `Fibonacci()` function that uses a loop instead of recursion to calculate Fibonacci numbers."
   ]
  },
  {
   "cell_type": "code",
   "execution_count": 34,
   "metadata": {
    "collapsed": true
   },
   "outputs": [],
   "source": [
    "def exercise():\n",
    "    pass\n",
    "    \n",
    "exercise()"
   ]
  },
  {
   "cell_type": "markdown",
   "metadata": {},
   "source": [
    "Write a program that converts time in minutes to time in hours and minutes. Use a symbolic constant for 60. Use a while loop to allow the user to enter values repeatedly and terminate the loop if a value for the time of 0 or less is entered."
   ]
  },
  {
   "cell_type": "code",
   "execution_count": 35,
   "metadata": {
    "collapsed": false
   },
   "outputs": [],
   "source": [
    "def exercise():\n",
    "    \"\"\"Describe your solution approach\"\"\"\n",
    "        \n",
    "exercise()"
   ]
  },
  {
   "cell_type": "markdown",
   "metadata": {},
   "source": [
    "Write a program that asks the user to enter the number of days and then converts that value to weeks and days. For example, it would convert 18 days to 2 weeks, 4 days. Display results in the following format:\n",
    "\n",
    ">`18 days are 2 weeks, 4 days.`\n",
    "\n",
    "Use a while loop to allow the user to repeatedly enter day values; terminate the loop when the user enters a nonpositive value, such as 0 or -20."
   ]
  },
  {
   "cell_type": "code",
   "execution_count": 36,
   "metadata": {
    "collapsed": false
   },
   "outputs": [],
   "source": [
    "def exercise():\n",
    "    \"\"\"Describe your solution approach\"\"\"\n",
    "        \n",
    "exercise()"
   ]
  },
  {
   "cell_type": "markdown",
   "metadata": {},
   "source": [
    "Write a program that asks the user to enter a height in centimeters and then displays the height in centimeters and in feet and inches. Fractional centimeters and inches should be allowed, and the program should allow the user to continue entering heights until a nonpositive value is entered. A sample run should look like this:\n",
    "\n",
    ">`Enter a height in centimeters: 182\n",
    "182.0 cm = 5 feet, 11.7 inches\n",
    "Enter a height in centimeters (<=0 to quit): 168.7\n",
    "168.0 cm = 5 feet, 6.4\n",
    " inches\n",
    "Enter a height in centimeters (<=0 to quit): 0\n",
    "bye`"
   ]
  },
  {
   "cell_type": "code",
   "execution_count": 37,
   "metadata": {
    "collapsed": false
   },
   "outputs": [],
   "source": [
    "def exercise():\n",
    "    \"\"\"Describe your solution approach\"\"\"\n",
    "        \n",
    "exercise()"
   ]
  },
  {
   "cell_type": "markdown",
   "metadata": {},
   "source": [
    "Write a program that displays the results of applying the modulus operation. The user should first enter an integer to be used as the second operand, which will then remain unchanged. Then the user enters the numbers for which the modulus will be computed, terminating the process by entering 0 or less. A sample run should look like this:\n",
    "This program computes moduli.\n",
    "\n",
    ">`Enter an integer to serve as the second operand: 256\n",
    "Now enter the first operand: 438\n",
    "438 % 256 is 182\n",
    "Enter next number for first operand (<= 0 to quit): 1234567\n",
    "1234567 % 256 is 135\n",
    "Enter next number for first operand (<= 0 to quit): 0\n",
    "Done`"
   ]
  },
  {
   "cell_type": "code",
   "execution_count": 38,
   "metadata": {
    "collapsed": true
   },
   "outputs": [],
   "source": [
    "def exercise():\n",
    "    \"\"\"Describe your solution approach\"\"\"\n",
    "        \n",
    "exercise()"
   ]
  },
  {
   "cell_type": "markdown",
   "metadata": {},
   "source": [
    "Write a program that reads up to 10 values into a list. The program should terminate input on non-numeric input. It should report the average of the numbers and also report how many numbers in the kust are larger than the average."
   ]
  },
  {
   "cell_type": "code",
   "execution_count": 39,
   "metadata": {
    "collapsed": true
   },
   "outputs": [],
   "source": [
    "def exercise():\n",
    "    \"\"\"Describe your solution approach\"\"\"\n",
    "        \n",
    "exercise()"
   ]
  },
  {
   "cell_type": "markdown",
   "metadata": {},
   "source": [
    "Write a program that creates a list with 26 elements and stores the 26 lowercase letters in it. Also have it show the list contents."
   ]
  },
  {
   "cell_type": "code",
   "execution_count": 40,
   "metadata": {
    "collapsed": true
   },
   "outputs": [],
   "source": [
    "def exercise():\n",
    "    \"\"\"Describe your solution approach\"\"\"\n",
    "        \n",
    "exercise()"
   ]
  },
  {
   "cell_type": "markdown",
   "metadata": {},
   "source": [
    "Use nested loops to produce the following pattern:\n",
    "\n",
    ">`$\n",
    "$$\n",
    "$$$\n",
    "$$$$\n",
    "$$$$$`"
   ]
  },
  {
   "cell_type": "code",
   "execution_count": 41,
   "metadata": {
    "collapsed": true
   },
   "outputs": [],
   "source": [
    "def exercise():\n",
    "    \"\"\"Describe your solution approach\"\"\"\n",
    "        \n",
    "exercise()"
   ]
  },
  {
   "cell_type": "markdown",
   "metadata": {},
   "source": [
    "Use nested loops to produce the following pattern:\n",
    "\n",
    ">`F\n",
    "FE\n",
    "FED\n",
    "FEDC\n",
    "FEDCB\n",
    "FEDCBA`"
   ]
  },
  {
   "cell_type": "code",
   "execution_count": 42,
   "metadata": {
    "collapsed": true
   },
   "outputs": [],
   "source": [
    "def exercise():\n",
    "    \"\"\"Describe your solution approach\"\"\"\n",
    "        \n",
    "exercise()"
   ]
  },
  {
   "cell_type": "markdown",
   "metadata": {},
   "source": [
    "Use nested loops to produce the following pattern:\n",
    ">`A\n",
    "BC\n",
    "DEF\n",
    "GHIJ\n",
    "KLMNO\n",
    "PQRSTU`"
   ]
  },
  {
   "cell_type": "code",
   "execution_count": 43,
   "metadata": {
    "collapsed": true
   },
   "outputs": [],
   "source": [
    "def exercise():\n",
    "    \"\"\"Describe your solution approach\"\"\"\n",
    "        \n",
    "exercise()"
   ]
  },
  {
   "cell_type": "markdown",
   "metadata": {},
   "source": [
    "Have a program request the user to enter an uppercase letter. Use nested loops to produce a pyramid pattern like this:\n",
    "\n",
    ">`.   A\n",
    "   ABA\n",
    "  ABCBA\n",
    " ABCDCBA\n",
    "ABCDEDCBA`\n",
    "\n",
    "The pattern should extend to the character entered. For example, the preceding pattern would result from an input value of E. Hint: Use an outer loop to handle the rows. Use three inner loops in a row, one to handle the spaces, one for printing letters in ascending order, and one for printing letters in descending order."
   ]
  },
  {
   "cell_type": "code",
   "execution_count": 44,
   "metadata": {
    "collapsed": true
   },
   "outputs": [],
   "source": [
    "def exercise():\n",
    "    \"\"\"Describe your solution approach\"\"\"\n",
    "        \n",
    "exercise()"
   ]
  },
  {
   "cell_type": "markdown",
   "metadata": {},
   "source": [
    "Write a program that prints a table with each line giving an integer, its square, and its cube. Ask the user to input the lower and upper limits for the table. Use a for loop."
   ]
  },
  {
   "cell_type": "code",
   "execution_count": 45,
   "metadata": {
    "collapsed": true
   },
   "outputs": [],
   "source": [
    "def exercise():\n",
    "    \"\"\"Describe your solution approach\"\"\"\n",
    "        \n",
    "exercise()"
   ]
  },
  {
   "cell_type": "markdown",
   "metadata": {},
   "source": [
    "Write a program that reads a single word into a sequence and then prints the word backward."
   ]
  },
  {
   "cell_type": "code",
   "execution_count": 46,
   "metadata": {
    "collapsed": true
   },
   "outputs": [],
   "source": [
    "def exercise():\n",
    "    \"\"\"Describe your solution approach\"\"\"\n",
    "        \n",
    "exercise()"
   ]
  },
  {
   "cell_type": "markdown",
   "metadata": {},
   "source": [
    "Write a program that reads eight integers into an array and then prints them in reverse order."
   ]
  },
  {
   "cell_type": "code",
   "execution_count": 47,
   "metadata": {
    "collapsed": true
   },
   "outputs": [],
   "source": [
    "def exercise():\n",
    "    \"\"\"Describe your solution approach\"\"\"\n",
    "        \n",
    "exercise()"
   ]
  },
  {
   "cell_type": "markdown",
   "metadata": {},
   "source": [
    "Write a program that reads in a line of input and then prints the line in reverse order."
   ]
  },
  {
   "cell_type": "code",
   "execution_count": 48,
   "metadata": {
    "collapsed": true
   },
   "outputs": [],
   "source": [
    "def exercise():\n",
    "    \"\"\"Describe your solution approach\"\"\"\n",
    "        \n",
    "exercise()"
   ]
  },
  {
   "cell_type": "markdown",
   "metadata": {},
   "source": [
    "A palindrome is a sequence of characters that reads the same backward as forward. For example, each of the following five-digit integers is a palindrome: 12321, 55555, 45554 and 11611. Write a program that reads in a five-digit integer and determines whether it’s a palindrome."
   ]
  },
  {
   "cell_type": "code",
   "execution_count": 49,
   "metadata": {
    "collapsed": true
   },
   "outputs": [],
   "source": [
    "def exercise():\n",
    "    \"\"\"Describe your solution approach\"\"\"\n",
    "        \n",
    "exercise()"
   ]
  },
  {
   "cell_type": "markdown",
   "metadata": {},
   "source": [
    "Write a program that requests two floating-point numbers and prints the value of their difference divided by their product. Have the program loop through pairs of input values until the user enters nonnumeric input."
   ]
  },
  {
   "cell_type": "code",
   "execution_count": 50,
   "metadata": {
    "collapsed": true
   },
   "outputs": [],
   "source": [
    "def exercise():\n",
    "    \"\"\"Describe your solution approach\"\"\"\n",
    "        \n",
    "exercise()"
   ]
  },
  {
   "cell_type": "markdown",
   "metadata": {},
   "source": [
    "Write a function that requests two floating-point numbers and returns the value of their difference divided by their product. Write a program that uses this function and loops through pairs of input values until the user enters nonnumeric input."
   ]
  },
  {
   "cell_type": "code",
   "execution_count": 51,
   "metadata": {
    "collapsed": true
   },
   "outputs": [],
   "source": [
    "def exercise():\n",
    "    \"\"\"Describe your solution approach\"\"\"\n",
    "        \n",
    "exercise()"
   ]
  },
  {
   "cell_type": "markdown",
   "metadata": {},
   "source": [
    "Write a program that requests lower and upper integer limits, calculates the sum of all the integer squares from the square of the lower limit to the square of the upper limit, and displays the answer. The program should then continue to prompt for limits and display answers until the user enters an upper limit that is equal to or less than the lower limit. A sample run should look something like this:\n",
    "\n",
    ">`Enter lower and upper integer limits: 5 9\n",
    "The sums of the squares from 25 to 81 is 255\n",
    "Enter next set of limits: 3 25\n",
    "The sums of the squares from 9 to 625 is 5520\n",
    "Enter next set of limits: 5 5\n",
    "Done`"
   ]
  },
  {
   "cell_type": "code",
   "execution_count": 52,
   "metadata": {
    "collapsed": true
   },
   "outputs": [],
   "source": [
    "def exercise():\n",
    "    \"\"\"Describe your solution approach\"\"\"\n",
    "        \n",
    "exercise()"
   ]
  },
  {
   "cell_type": "markdown",
   "metadata": {},
   "source": [
    "Consider these two infinite series:\n",
    ">`1.0 + 1.0/2.0 + 1.0/3.0 + 1.0/4.0 + ...\n",
    "1.0 - 1.0/2.0 + 1.0/3.0 - 1.0/4.0 + ...`\n",
    "\n",
    "Write a program that evaluates running totals of these two series up to some limit of number of terms. Hint: –1 times itself an odd number of times is –1, and –1 times itself an even number of times is 1. Have the user enter the limit interactively; let a zero or negative value terminate input. Look at the running totals after 100 terms, 1000 terms, 10,000 terms. Does either series appear to be converging to some value?"
   ]
  },
  {
   "cell_type": "code",
   "execution_count": 53,
   "metadata": {
    "collapsed": true
   },
   "outputs": [],
   "source": [
    "def exercise():\n",
    "    \"\"\"Describe your solution approach\"\"\"\n",
    "        \n",
    "exercise()"
   ]
  },
  {
   "cell_type": "markdown",
   "metadata": {},
   "source": [
    "Write a program that creates an eight-element array of ints and sets the elements to the first eight powers of 2 and then prints the values. Use a for loop to set the values, and, for variety, use a while loop to display the values."
   ]
  },
  {
   "cell_type": "code",
   "execution_count": 54,
   "metadata": {
    "collapsed": true
   },
   "outputs": [],
   "source": [
    "def exercise():\n",
    "    \"\"\"Describe your solution approach\"\"\"\n",
    "        \n",
    "exercise()"
   ]
  },
  {
   "cell_type": "markdown",
   "metadata": {},
   "source": [
    "Write a program that creates two eight-element arrays of doubles and uses a loop to let the user enter values for the eight elements of the first array. Have the program set the elements of the second array to the cumulative totals of the elements of the first array. For example, the fourth element of the second array should equal the sum of the first four elements of the first array, and the fifth element of the second array should equal the sum of the first five elements of the first array. (It’s possible to do this with nested loops, but by using the fact that the fifth element of the second array equals the fourth element of the second array plus the fifth element of the first array, you can avoid nesting and just use a single loop for this task.) Finally, use loops to display the contents of the two arrays, with the first array displayed on one line and with each element of the second array displayed below the corresponding element of the first array."
   ]
  },
  {
   "cell_type": "code",
   "execution_count": 55,
   "metadata": {
    "collapsed": true
   },
   "outputs": [],
   "source": [
    "def exercise():\n",
    "    \"\"\"Describe your solution approach\"\"\"\n",
    "        \n",
    "exercise()"
   ]
  },
  {
   "cell_type": "markdown",
   "metadata": {},
   "source": [
    "Daphne invests \\$100 at 10% simple interest. That is, every year, the investment earns 10% of the original investment, or \\$10 each and every year:\n",
    "\n",
    "`interest = 0.10 × original balance`\n",
    "\n",
    "At the same time, Cleo invests \\$100 at 5% compound interest. That is, interest is 5% of the current balance, including previous additions of interest:\n",
    "\n",
    "`interest = 0.05 × current balance`\n",
    "\n",
    "Cleo earns 5% of \\$100 the first year, giving her \\$105. The next year she earns 5% of \\$105, or \\$5.25, and so on. Write a program that finds how many years it takes for the value of Cleo’s investment to exceed the value of Daphne’s investment and then displays the value of both investments at that time."
   ]
  },
  {
   "cell_type": "code",
   "execution_count": 56,
   "metadata": {
    "collapsed": true
   },
   "outputs": [],
   "source": [
    "def exercise():\n",
    "    \"\"\"Describe your solution approach\"\"\"\n",
    "        \n",
    "exercise()"
   ]
  },
  {
   "cell_type": "markdown",
   "metadata": {},
   "source": [
    "Chuckie Lucky won a million dollars (after taxes), which he places in an account that earns 8% a year. On the last day of each year, Chuckie withdraws $100,000. Write a program that finds out how many years it takes for Chuckie to empty his account."
   ]
  },
  {
   "cell_type": "code",
   "execution_count": 57,
   "metadata": {
    "collapsed": true
   },
   "outputs": [],
   "source": [
    "def exercise():\n",
    "    \"\"\"Describe your solution approach\"\"\"\n",
    "        \n",
    "exercise()"
   ]
  },
  {
   "cell_type": "markdown",
   "metadata": {},
   "source": [
    "Professor Rabnud joined a social media group. Initially he had five friends. He noticed that his friend count grew in the following fashion. The first week one friend dropped out and the remaining number of friends doubled. The second week two friends dropped out and the remaining number of friends doubled. In general, in the Nth week, N friends dropped out and the remaining number doubled. Write a program that computes and displays the number of friends each week. The program should continue until the count exceeds Dunbar’s number. Dunbar’s number is a rough estimate of the maximum size of a cohesive social group in which each member knows every other member and how they relate to one another. Its approximate value is 150."
   ]
  },
  {
   "cell_type": "code",
   "execution_count": 58,
   "metadata": {
    "collapsed": true
   },
   "outputs": [],
   "source": [
    "def exercise():\n",
    "    \"\"\"Describe your solution approach\"\"\"\n",
    "        \n",
    "exercise()"
   ]
  },
  {
   "cell_type": "markdown",
   "metadata": {},
   "source": [
    "Write a program that reads input until encountering the # character and then reports the number of spaces read, the number of newline characters read, and the number of all other characters read."
   ]
  },
  {
   "cell_type": "code",
   "execution_count": 59,
   "metadata": {
    "collapsed": true
   },
   "outputs": [],
   "source": [
    "def exercise():\n",
    "    \"\"\"Describe your solution approach\"\"\"\n",
    "        \n",
    "exercise()"
   ]
  },
  {
   "cell_type": "markdown",
   "metadata": {},
   "source": [
    "Write a program that reads input until encountering #. Have the program print each input character and its ASCII decimal code. Print eight character-code pairs per line. Suggestion: Use a character count and the modulus operator (%) to print a newline character for every eight cycles of the loop."
   ]
  },
  {
   "cell_type": "code",
   "execution_count": 60,
   "metadata": {
    "collapsed": true
   },
   "outputs": [],
   "source": [
    "def exercise():\n",
    "    \"\"\"Describe your solution approach\"\"\"\n",
    "        \n",
    "exercise()"
   ]
  },
  {
   "cell_type": "markdown",
   "metadata": {},
   "source": [
    "Write a program that reads integers until 0 is entered. After input terminates, the program should report the total number of even integers (excluding the 0) entered, the average value of the even integers, the total number of odd integers entered, and the average value of the odd integers."
   ]
  },
  {
   "cell_type": "code",
   "execution_count": 61,
   "metadata": {
    "collapsed": true
   },
   "outputs": [],
   "source": [
    "def exercise():\n",
    "    \"\"\"Describe your solution approach\"\"\"\n",
    "        \n",
    "exercise()"
   ]
  },
  {
   "cell_type": "markdown",
   "metadata": {},
   "source": [
    "Using if else statements, write a program that reads input up to #, replaces each period with an exclamation mark, replaces each exclamation mark initially present with two exclamation marks, and reports at the end the number of substitutions it has made."
   ]
  },
  {
   "cell_type": "code",
   "execution_count": 62,
   "metadata": {
    "collapsed": true
   },
   "outputs": [],
   "source": [
    "def exercise():\n",
    "    \"\"\"Describe your solution approach\"\"\"\n",
    "        \n",
    "exercise()"
   ]
  },
  {
   "cell_type": "markdown",
   "metadata": {},
   "source": [
    "Write a program that reads input up to # and reports the number of times that the sequence `ei` occurs.\n",
    "\n",
    "Note: The program will have to “remember” the preceding character as well as the current character. Test it with input such as “Receive your eieio award.”"
   ]
  },
  {
   "cell_type": "code",
   "execution_count": 63,
   "metadata": {
    "collapsed": true
   },
   "outputs": [],
   "source": [
    "def exercise():\n",
    "    \"\"\"Describe your solution approach\"\"\"\n",
    "        \n",
    "exercise()"
   ]
  },
  {
   "cell_type": "markdown",
   "metadata": {},
   "source": [
    "Write a program that requests the hours worked in a week and then prints the gross pay, the taxes, and the net pay. Assume the following:\n",
    ">`a. Basic pay rate = $10.00/hr\n",
    "b. Overtime (in excess of 40 hours) = time and a half\n",
    "c. Tax rate: 15% of the first $300\n",
    "             20% of the next $150\n",
    "             25% of the rest`"
   ]
  },
  {
   "cell_type": "code",
   "execution_count": 64,
   "metadata": {
    "collapsed": true
   },
   "outputs": [],
   "source": [
    "def exercise():\n",
    "    \"\"\"Describe your solution approach\"\"\"\n",
    "        \n",
    "exercise()"
   ]
  },
  {
   "cell_type": "markdown",
   "metadata": {},
   "source": [
    "Modify assumption a. in the previous exercise so that the program presents a menu of pay rates from which to choose. The beginning of a run should look something like this:\n",
    "\n",
    ">`*****************************************************************\n",
    "Enter the number corresponding to the desired pay rate or action:\n",
    "1) $8.75/hr                         2) $9.33/hr\n",
    "3) $10.00/hr                        4) $11.20/hr\n",
    "5) quit\n",
    "*****************************************************************`\n",
    "\n",
    "If choices 1 through 4 are selected, the program should request the hours worked. The program should recycle until 5 is entered. If something other than choices 1 through 5 is entered, the program should remind the user what the proper choices are and then recycle. "
   ]
  },
  {
   "cell_type": "code",
   "execution_count": 65,
   "metadata": {
    "collapsed": true
   },
   "outputs": [],
   "source": [
    "def exercise():\n",
    "    \"\"\"Describe your solution approach\"\"\"\n",
    "        \n",
    "exercise()"
   ]
  },
  {
   "cell_type": "markdown",
   "metadata": {},
   "source": [
    "Write a program that accepts a positive integer as input and then displays all the prime numbers smaller than or equal to that number."
   ]
  },
  {
   "cell_type": "code",
   "execution_count": 66,
   "metadata": {
    "collapsed": true
   },
   "outputs": [],
   "source": [
    "def exercise():\n",
    "    \"\"\"Describe your solution approach\"\"\"\n",
    "        \n",
    "exercise()"
   ]
  },
  {
   "cell_type": "markdown",
   "metadata": {},
   "source": [
    "The ABC Mail Order Grocery sells artichokes for \\$2.05 per pound, beets for \\$1.15 per pound, and carrots for \\$1.09 per pound. It gives a 5% discount for orders of \\$100 or more prior to adding shipping costs. It charges \\$6.50 shipping and handling for any order of 5 pounds or under, \\$14.00 shipping and handling for orders over 5 pounds and under 20 pounds, and \\$14.00 plus \\$0.50 per pound for shipments of 20 pounds or more. Write a program that uses a loop such that a response of `a` lets the user enter the pounds of artichokes desired, `b` the pounds of beets, `c` the pounds of carrots, and `q` allows the user to exit the ordering process. The program should keep track of cumulative totals. That is, if the user enters 4 pounds of beets and later enters 5 pounds of beets, the program should use report 9 pounds of beets. The program then should compute the total charges, the discount, if any, the shipping charges, and the grand total. The program then should display all the purchase information: the cost per pound, the pounds ordered, and the cost for that order for each vegetable, the total cost of the order, the discount (if there is one), the shipping charge, and the grand total of all the charges."
   ]
  },
  {
   "cell_type": "code",
   "execution_count": 67,
   "metadata": {
    "collapsed": true
   },
   "outputs": [],
   "source": [
    "def exercise():\n",
    "    \"\"\"Describe your solution approach\"\"\"\n",
    "        \n",
    "exercise()"
   ]
  },
  {
   "cell_type": "markdown",
   "metadata": {},
   "source": [
    "Write a program that shows you a menu offering you the choice of addition, subtraction, multiplication, or division. After getting your choice, the program asks for two numbers, then performs the requested operation. The program should accept only the offered menu choices. It should use type float for the numbers and allow the user to try again if he or she fails to enter a number. In the case of division, the program should prompt the user to enter a new value if 0 is entered as the value for the second number. A typical program run should look like this:\n",
    " \n",
    "\n",
    ">`Enter the operation of your choice:\n",
    "a. add           s. subtract\n",
    "m. multiply      d. divide\n",
    "q. quit\n",
    "a\n",
    "Enter first number: 22.4\n",
    "Enter second number: one\n",
    "one is not an number.\n",
    "Please enter a number, such as 2.5, -1.78E8, or 3: 1\n",
    "22.4 + 1 = 23.4\n",
    "Enter the operation of your choice:\n",
    "a. add           s. subtract\n",
    "m. multiply      d. divide\n",
    "q. quit\n",
    "d\n",
    "Enter first number: 18.4\n",
    "Enter second number: 0\n",
    "Enter a number other than 0: 0.2\n",
    "18.4 / 0.2 = 92\n",
    "Enter the operation of your choice:\n",
    "a. add           s. subtract\n",
    "m. multiply      d. divide\n",
    "q. quit\n",
    "q\n",
    "Bye.`"
   ]
  },
  {
   "cell_type": "code",
   "execution_count": 68,
   "metadata": {
    "collapsed": true
   },
   "outputs": [],
   "source": [
    "def exercise():\n",
    "    pass\n",
    "    \n",
    "exercise()"
   ]
  },
  {
   "cell_type": "markdown",
   "metadata": {},
   "source": [
    "Write a program that initializes an array and then copies the contents of the array into another array. Have the function take as arguments the name of the target array, the name of the source array, and the number of elements to be copied."
   ]
  },
  {
   "cell_type": "code",
   "execution_count": 69,
   "metadata": {
    "collapsed": true
   },
   "outputs": [],
   "source": [
    "def exercise():\n",
    "    pass\n",
    "    \n",
    "exercise()"
   ]
  },
  {
   "cell_type": "markdown",
   "metadata": {},
   "source": [
    "Write a function that returns the largest value stored in an array-of-int. Test the function in a simple program."
   ]
  },
  {
   "cell_type": "code",
   "execution_count": 70,
   "metadata": {
    "collapsed": true
   },
   "outputs": [],
   "source": [
    "def exercise():\n",
    "    pass\n",
    "    \n",
    "exercise()"
   ]
  },
  {
   "cell_type": "markdown",
   "metadata": {},
   "source": [
    "Write a function that returns the index of the largest value stored in an array-of-double. Test the function in a simple program."
   ]
  },
  {
   "cell_type": "code",
   "execution_count": 71,
   "metadata": {
    "collapsed": true
   },
   "outputs": [],
   "source": [
    "def exercise():\n",
    "    pass\n",
    "    \n",
    "exercise()"
   ]
  },
  {
   "cell_type": "markdown",
   "metadata": {},
   "source": [
    "Write a function that returns the difference between the largest and smallest elements of an array-of-double. Test the function in a simple program."
   ]
  },
  {
   "cell_type": "code",
   "execution_count": 72,
   "metadata": {
    "collapsed": true
   },
   "outputs": [],
   "source": [
    "def exercise():\n",
    "    pass\n",
    "    \n",
    "exercise()"
   ]
  },
  {
   "cell_type": "markdown",
   "metadata": {},
   "source": [
    "Write a function that reverses the contents of an array of double and test it in a simple program."
   ]
  },
  {
   "cell_type": "code",
   "execution_count": 73,
   "metadata": {
    "collapsed": true
   },
   "outputs": [],
   "source": [
    "def exercise():\n",
    "    pass\n",
    "    \n",
    "exercise()"
   ]
  },
  {
   "cell_type": "markdown",
   "metadata": {},
   "source": [
    "Write a program that initializes a two-dimensional array-of-double and copies it to a second two-dimensional array."
   ]
  },
  {
   "cell_type": "code",
   "execution_count": 74,
   "metadata": {
    "collapsed": true
   },
   "outputs": [],
   "source": [
    "def exercise():\n",
    "    pass\n",
    "    \n",
    "exercise()"
   ]
  },
  {
   "cell_type": "markdown",
   "metadata": {},
   "source": [
    "Write a function that will display a two-dimensional array and test it in a simple program."
   ]
  },
  {
   "cell_type": "code",
   "execution_count": 75,
   "metadata": {
    "collapsed": true
   },
   "outputs": [],
   "source": [
    "def exercise():\n",
    "    pass\n",
    "    \n",
    "exercise()"
   ]
  },
  {
   "cell_type": "markdown",
   "metadata": {},
   "source": [
    "Write a program that inputs five numbers, each between 10 and 100, inclusive. As each number is read, display it only if it’s not a duplicate of a number already read. Provide for the “worst case,” in which all five numbers are different. Display the complete set of unique values input after the user inputs each new value."
   ]
  },
  {
   "cell_type": "code",
   "execution_count": null,
   "metadata": {
    "collapsed": true
   },
   "outputs": [],
   "source": []
  },
  {
   "cell_type": "markdown",
   "metadata": {},
   "source": [
    "Write a function that sets each element in an array to the sum of the corresponding elements in two other arrays. That is, if array 1 has the values 2, 4, 5, and 8 and array 2 has the values 1, 0, 4, and 6, the function assigns array 3 the values 3, 4, 9, and 14. The function should take three array names and an array size as arguments. Test the function in a simple program."
   ]
  },
  {
   "cell_type": "code",
   "execution_count": 76,
   "metadata": {
    "collapsed": true
   },
   "outputs": [],
   "source": [
    "def exercise():\n",
    "    pass\n",
    "    \n",
    "exercise()"
   ]
  },
  {
   "cell_type": "markdown",
   "metadata": {},
   "source": [
    "Write a program that declares a 3×5 array of int and initializes it to some values of your choice. Have the program print the values, double all the values, and then display the new values. Write a function to do the displaying and a second function to do the doubling. Have the functions take the array name and the number of rows as arguments."
   ]
  },
  {
   "cell_type": "code",
   "execution_count": 77,
   "metadata": {
    "collapsed": true
   },
   "outputs": [],
   "source": [
    "def exercise():\n",
    "    pass\n",
    "    \n",
    "exercise()"
   ]
  },
  {
   "cell_type": "markdown",
   "metadata": {},
   "source": [
    "Write a program that prompts the user to enter three sets of five double numbers each. (You may assume the user responds correctly and doesn’t enter non-numeric data.) The program should accomplish all of the following:\n",
    "\n",
    "1. Store the information in a 3×5 array.\n",
    "2. Compute the average of each set of five values.\n",
    "3. Compute the average of all the values.\n",
    "4. Determine the largest value of the 15 values.\n",
    "5. Report the results.\n",
    "\n",
    "Each major task should be handled by a separate function. Accomplish task “b” by using a function that computes and returns the average of a one-dimensional array; use a loop to call this function three times. The other tasks should take the entire array as an argument, and the functions performing tasks “c” and “d” should return the answer to the calling program."
   ]
  },
  {
   "cell_type": "code",
   "execution_count": 78,
   "metadata": {
    "collapsed": true
   },
   "outputs": [],
   "source": [
    "def exercise():\n",
    "    pass\n",
    "    \n",
    "exercise()"
   ]
  },
  {
   "cell_type": "markdown",
   "metadata": {},
   "source": [
    "Write a program that reads a string of characters including punctuation and writes what was read but with the punctuation removed."
   ]
  },
  {
   "cell_type": "code",
   "execution_count": 79,
   "metadata": {
    "collapsed": true
   },
   "outputs": [],
   "source": [
    "def exercise():\n",
    "    pass\n",
    "    \n",
    "exercise()"
   ]
  },
  {
   "cell_type": "markdown",
   "metadata": {},
   "source": [
    "Design and test a function that reads the first word from a line of input into an array and discards the rest of the line. It should skip over leading whitespace. Define a word as a sequence of characters with no blanks, tabs, or newlines in it."
   ]
  },
  {
   "cell_type": "code",
   "execution_count": 80,
   "metadata": {
    "collapsed": true
   },
   "outputs": [],
   "source": [
    "def exercise():\n",
    "    pass\n",
    "    \n",
    "exercise()"
   ]
  },
  {
   "cell_type": "markdown",
   "metadata": {},
   "source": [
    "Design and test a function like that described in the last exercise, except that it accepts a second parameter specifying the maximum number of characters that can be read."
   ]
  },
  {
   "cell_type": "code",
   "execution_count": 81,
   "metadata": {
    "collapsed": true
   },
   "outputs": [],
   "source": [
    "def exercise():\n",
    "    pass\n",
    "    \n",
    "exercise()"
   ]
  },
  {
   "cell_type": "markdown",
   "metadata": {},
   "source": [
    "Design and test a function that searches the string specified by the first function parameter for the first occurrence of a character specified by the second function parameter. Have the function return the index of character if successful, and None if the character is not found in the string. Test the function in a complete program that uses a loop to provide input values for feeding to the function."
   ]
  },
  {
   "cell_type": "code",
   "execution_count": 82,
   "metadata": {
    "collapsed": true
   },
   "outputs": [],
   "source": [
    "def exercise():\n",
    "    pass\n",
    "    \n",
    "exercise()"
   ]
  },
  {
   "cell_type": "markdown",
   "metadata": {},
   "source": [
    "In C, the strncpy(s1,s2,n) function copies exactly n characters from s2 to s1, truncating s2 or padding it with extra null characters as necessary. The target string may not be null-terminated if the length of s2 is n or more. The function returns s1. Write your own version of this function; call it mystrncpy(). Test the function in a complete program that uses a loop to provide input values for feeding to the function."
   ]
  },
  {
   "cell_type": "code",
   "execution_count": 83,
   "metadata": {
    "collapsed": true
   },
   "outputs": [],
   "source": [
    "def exercise():\n",
    "    pass\n",
    "    \n",
    "exercise()"
   ]
  },
  {
   "cell_type": "markdown",
   "metadata": {},
   "source": [
    "Write a function called `string_in()` that takes two strings as arguments. If the second string is contained in the first string, have the function return the index at which the contained string begins. For instance, `string_in(\"hats\", \"at\")` would return the index of the `a` in hats. Otherwise, have the function return `None`. Test the function in a complete program that uses a loop to provide input values for feeding to the function."
   ]
  },
  {
   "cell_type": "code",
   "execution_count": 84,
   "metadata": {
    "collapsed": true
   },
   "outputs": [],
   "source": [
    "def exercise():\n",
    "    pass\n",
    "    \n",
    "exercise()"
   ]
  },
  {
   "cell_type": "markdown",
   "metadata": {},
   "source": [
    "Write a function that replaces the contents of a string with the string reversed. Test the function in a complete program that uses a loop to provide input values for feeding to the function."
   ]
  },
  {
   "cell_type": "code",
   "execution_count": 85,
   "metadata": {
    "collapsed": false
   },
   "outputs": [],
   "source": [
    "def exercise():\n",
    "    pass\n",
    "    \n",
    "exercise()"
   ]
  },
  {
   "cell_type": "markdown",
   "metadata": {},
   "source": [
    "Write a function that takes a string as an argument and removes the spaces from the string. Test it in a program that uses a loop to read lines until you enter an empty line. The program should apply the function to each input string and display the result."
   ]
  },
  {
   "cell_type": "code",
   "execution_count": 86,
   "metadata": {
    "collapsed": true
   },
   "outputs": [],
   "source": [
    "def exercise():\n",
    "    pass\n",
    "    \n",
    "exercise()"
   ]
  },
  {
   "cell_type": "markdown",
   "metadata": {},
   "source": [
    "Write a program that generates a list of 100 random numbers in the range 1–10 in sorted decreasing order."
   ]
  },
  {
   "cell_type": "code",
   "execution_count": 87,
   "metadata": {
    "collapsed": true
   },
   "outputs": [],
   "source": [
    "def exercise():\n",
    "    pass\n",
    "    \n",
    "exercise()"
   ]
  },
  {
   "cell_type": "markdown",
   "metadata": {},
   "source": [
    "Write a program with the following behavior. First, it asks you how many words you wish to enter. Then it has you enter the words, and then it displays the words.  A sample run could look like this:\n",
    "\n",
    ">`How many words do you wish to enter? 5\n",
    "Enter 5 words now:\n",
    "I enjoyed doing this exercise\n",
    "Here are your words:\n",
    "I\n",
    "enjoyed\n",
    "doing\n",
    "this\n",
    "exercise`"
   ]
  },
  {
   "cell_type": "code",
   "execution_count": 88,
   "metadata": {
    "collapsed": true
   },
   "outputs": [],
   "source": [
    "def exercise():\n",
    "    pass\n",
    "    \n",
    "exercise()"
   ]
  },
  {
   "cell_type": "markdown",
   "metadata": {},
   "source": [
    "Write a program that generates 1,000 random numbers in the range 1–10. Don’t save or print the numbers, but do print how many times each number was produced. Have the program do this for 10 different seed values. Do the numbers appear in equal amounts?"
   ]
  },
  {
   "cell_type": "code",
   "execution_count": 89,
   "metadata": {
    "collapsed": true
   },
   "outputs": [],
   "source": [
    "def exercise():\n",
    "    pass\n",
    "    \n",
    "exercise()"
   ]
  },
  {
   "cell_type": "markdown",
   "metadata": {},
   "source": [
    "Write a program that repeatedly asks the user to enter pairs of numbers until at least one of the pair is 0. For each pair, the program should use a function to calculate the harmonic mean of the numbers. The function should return the answer to the main function, which should report the result. The harmonic mean of the numbers is the inverse of the average of the inverses and can be calculated as follows:\n",
    "\n",
    "`harmonic mean = 2.0 × x × y / (x + y)`"
   ]
  },
  {
   "cell_type": "code",
   "execution_count": 90,
   "metadata": {
    "collapsed": true
   },
   "outputs": [],
   "source": [
    "def exercise():\n",
    "    pass\n",
    "    \n",
    "exercise()"
   ]
  },
  {
   "cell_type": "markdown",
   "metadata": {},
   "source": [
    "Write a program that asks the user to enter up to 10 golf scores, which are to be stored in an array. You should provide a means for the user to terminate input prior to entering 10 scores. The program should display all the scores on one line and report the average score. Handle input, display, and the average calculation with three separate sequence-processing functions."
   ]
  },
  {
   "cell_type": "code",
   "execution_count": 91,
   "metadata": {
    "collapsed": true
   },
   "outputs": [],
   "source": [
    "def exercise():\n",
    "    pass\n",
    "    \n",
    "exercise()"
   ]
  },
  {
   "cell_type": "code",
   "execution_count": 92,
   "metadata": {
    "collapsed": false
   },
   "outputs": [
    {
     "name": "stdout",
     "output_type": "stream",
     "text": [
      "1\n",
      "1\n",
      "1\n",
      "1\n",
      "1\n"
     ]
    }
   ],
   "source": [
    "def exercise():\n",
    "    called = 0\n",
    "    def inner():\n",
    "        nonlocal called\n",
    "        called += 1\n",
    "        print(called)\n",
    "        \n",
    "    inner()\n",
    "    \n",
    "exercise()\n",
    "exercise()\n",
    "exercise()\n",
    "exercise()\n",
    "exercise()"
   ]
  },
  {
   "cell_type": "markdown",
   "metadata": {},
   "source": [
    "# Command Line Arguments"
   ]
  },
  {
   "cell_type": "markdown",
   "metadata": {},
   "source": [
    "Write a program that echoes the command-line arguments in reverse word order. That is, if the command-line arguments are `see you later`, the program should print `later you see`."
   ]
  },
  {
   "cell_type": "code",
   "execution_count": 93,
   "metadata": {
    "collapsed": true
   },
   "outputs": [],
   "source": [
    "def exercise():\n",
    "    pass\n",
    "    \n",
    "exercise()"
   ]
  },
  {
   "cell_type": "markdown",
   "metadata": {},
   "source": [
    "Write a power-law program that works on a command-line basis. The first command-line argument should be the type double number to be raised to a certain power, and the second argument should be the integer power."
   ]
  },
  {
   "cell_type": "code",
   "execution_count": 94,
   "metadata": {
    "collapsed": true
   },
   "outputs": [],
   "source": [
    "def exercise():\n",
    "    pass\n",
    "    \n",
    "exercise()"
   ]
  },
  {
   "cell_type": "markdown",
   "metadata": {},
   "source": [
    "# Basic File IO"
   ]
  },
  {
   "cell_type": "markdown",
   "metadata": {},
   "source": [
    "*For information about how to enter an EOF character via standard input, see `sys.stdin` and the `io` module*\n",
    "- https://docs.python.org/3/library/sys.html#sys.stdin\n",
    "- https://docs.python.org/3/library/io.html#module-io"
   ]
  },
  {
   "cell_type": "markdown",
   "metadata": {},
   "source": [
    "Devise a program that counts the number of characters in its input up to the end of file."
   ]
  },
  {
   "cell_type": "code",
   "execution_count": 95,
   "metadata": {
    "collapsed": true
   },
   "outputs": [],
   "source": [
    "def exercise():\n",
    "    \"\"\"Describe your solution approach\"\"\"\n",
    "        \n",
    "exercise()"
   ]
  },
  {
   "cell_type": "markdown",
   "metadata": {},
   "source": [
    "Write a program that reads input as a stream of characters until encountering EOF. Have the program print each input character and its ASCII decimal value. Note that characters preceding the space character in the ASCII sequence are nonprinting characters. Treat them specially. If the nonprinting character is a newline or tab, print \\n or \\t, respectively. Otherwise, use control-character notation. For instance, ASCII 1 is Ctrl+A, which can be displayed as ^A. Note that the ASCII value for A is the value for Ctrl+A plus 64. A similar relation holds for the other nonprinting characters. Print 10 pairs per line, except start a fresh line each time a newline character is encountered. (Note: The operating system may have special interpretations for some control characters and keep them from reaching the program.)"
   ]
  },
  {
   "cell_type": "code",
   "execution_count": 96,
   "metadata": {
    "collapsed": true
   },
   "outputs": [],
   "source": [
    "def exercise():\n",
    "    pass\n",
    "    \n",
    "exercise()"
   ]
  },
  {
   "cell_type": "markdown",
   "metadata": {},
   "source": [
    "Write a program that reads input as a stream of characters until encountering EOF. Have it report the number of uppercase letters, the number of lowercase letters, and the number of other characters in the input. You may assume that the numeric values for the lowercase letters are sequential and assume the same for uppercase. Or, more portably, you can use appropriate classification functions from the ctype.h library."
   ]
  },
  {
   "cell_type": "code",
   "execution_count": 97,
   "metadata": {
    "collapsed": true
   },
   "outputs": [],
   "source": [
    "def exercise():\n",
    "    pass\n",
    "    \n",
    "exercise()"
   ]
  },
  {
   "cell_type": "markdown",
   "metadata": {},
   "source": [
    "Write a program that reads input as a stream of characters until encountering EOF. Have it report the average number of letters per word. Don’t count whitespace as being letters in a word. Actually, punctuation shouldn’t be counted either, but don’t worry about that now."
   ]
  },
  {
   "cell_type": "code",
   "execution_count": 98,
   "metadata": {
    "collapsed": true
   },
   "outputs": [],
   "source": [
    "def exercise():\n",
    "    pass\n",
    "    \n",
    "exercise()"
   ]
  },
  {
   "cell_type": "markdown",
   "metadata": {},
   "source": [
    "Write a program that reads characters from the standard input to end-of-file. For each character, have the program report whether it is a letter. If it is a letter, also report its numerical location in the alphabet. For example, `c` and `C` would both be letter `3`. Incorporate a function that takes a character as an argument and returns the numerical location if the character is a letter and that returns `–1` otherwise."
   ]
  },
  {
   "cell_type": "code",
   "execution_count": 99,
   "metadata": {
    "collapsed": true
   },
   "outputs": [],
   "source": [
    "def exercise():\n",
    "    pass\n",
    "    \n",
    "exercise()"
   ]
  },
  {
   "cell_type": "markdown",
   "metadata": {},
   "source": [
    "Write a program that reads in up to 10 strings or to EOF, whichever comes first. Have it offer the user a menu with five choices: print the original list of strings, print the strings in ASCII collating sequence, print the strings in order of increasing length, print the strings in order of the length of the first word in the string, and quit. Have the menu recycle until the user enters the quit request. The program, of course, should actually perform the promised tasks."
   ]
  },
  {
   "cell_type": "code",
   "execution_count": 100,
   "metadata": {
    "collapsed": true
   },
   "outputs": [],
   "source": [
    "def exercise():\n",
    "    pass\n",
    "    \n",
    "exercise()"
   ]
  },
  {
   "cell_type": "markdown",
   "metadata": {},
   "source": [
    "Write a program that reads input up to EOF and reports the number of words, the number of uppercase letters, the number of lowercase letters, the number of punctuation characters, and the number of digits."
   ]
  },
  {
   "cell_type": "code",
   "execution_count": 101,
   "metadata": {
    "collapsed": true
   },
   "outputs": [],
   "source": [
    "def exercise():\n",
    "    pass\n",
    "    \n",
    "exercise()"
   ]
  },
  {
   "cell_type": "markdown",
   "metadata": {},
   "source": [
    "Write a program that reads in a file of numeric values and prints the largest value in the file. Assume there is one number per line."
   ]
  },
  {
   "cell_type": "code",
   "execution_count": 102,
   "metadata": {
    "collapsed": true
   },
   "outputs": [],
   "source": [
    "def exercise():\n",
    "    pass\n",
    "    \n",
    "exercise()"
   ]
  },
  {
   "cell_type": "markdown",
   "metadata": {},
   "source": [
    "Write a program that reads in a file of numeric values and prints the `n` largest values in the file. Assume there is one number per line. Ask the user for the value of `n`."
   ]
  },
  {
   "cell_type": "code",
   "execution_count": 103,
   "metadata": {
    "collapsed": true
   },
   "outputs": [],
   "source": [
    "def exercise():\n",
    "    pass\n",
    "    \n",
    "exercise()"
   ]
  },
  {
   "cell_type": "markdown",
   "metadata": {},
   "source": [
    "Write a file-copy program that takes the original filename and the copy file from the command line. Use standard I/O and the binary mode, if possible."
   ]
  },
  {
   "cell_type": "code",
   "execution_count": 104,
   "metadata": {
    "collapsed": true
   },
   "outputs": [],
   "source": [
    "def exercise():\n",
    "    pass\n",
    "    \n",
    "exercise()"
   ]
  },
  {
   "cell_type": "markdown",
   "metadata": {},
   "source": [
    "Write a program that will encode a text file with a ROT cypher and print the results to a different file."
   ]
  },
  {
   "cell_type": "code",
   "execution_count": null,
   "metadata": {
    "collapsed": true
   },
   "outputs": [],
   "source": [
    "def encode_rot(data, encoding):\n",
    "    with open('out.txt', 'w') as output:\n",
    "        for line in data:\n",
    "            tokens = line.rstrip().split(' ')\n",
    "            output.write(' '.join([chr(ord(ch) + encoding) for token in tokens for ch in token ]) + '\\n')\n",
    "            \n",
    "with open(\"test.txt\", 'r') as data:\n",
    "    encode_rot(data, 0)"
   ]
  },
  {
   "cell_type": "markdown",
   "metadata": {},
   "source": [
    "Write a file copy program that prompts the user to enter the name of a text file to act as the source file and the name of an output file. The program should convert all text to uppercase as it’s written to the output file. Use standard I/O and the text mode."
   ]
  },
  {
   "cell_type": "code",
   "execution_count": 105,
   "metadata": {
    "collapsed": true
   },
   "outputs": [],
   "source": [
    "def exercise():\n",
    "    pass\n",
    "    \n",
    "exercise()"
   ]
  },
  {
   "cell_type": "markdown",
   "metadata": {},
   "source": [
    "Write a program that sequentially displays onscreen all the files listed in the command line."
   ]
  },
  {
   "cell_type": "code",
   "execution_count": 106,
   "metadata": {
    "collapsed": true
   },
   "outputs": [],
   "source": [
    "def exercise():\n",
    "    pass\n",
    "    \n",
    "exercise()"
   ]
  },
  {
   "cell_type": "markdown",
   "metadata": {},
   "source": [
    "Write a program that opens two files. You can obtain the filenames either by using command-line arguments or by soliciting the user to enter them.\n",
    "1. Have the program print line 1 of the first file, line 1 of the second file, line 2 of the first file, line 2 of the second file, and so on, until the last line of the longer file (in terms of lines) is printed.\n",
    "2. Modify the program so that lines with the same line number are printed on the same line."
   ]
  },
  {
   "cell_type": "code",
   "execution_count": 107,
   "metadata": {
    "collapsed": true
   },
   "outputs": [],
   "source": [
    "def exercise():\n",
    "    pass\n",
    "    \n",
    "exercise()"
   ]
  },
  {
   "cell_type": "markdown",
   "metadata": {},
   "source": [
    "Write a program that takes as command-line arguments a character and zero or more filenames. If no arguments follow the character, have the program read the standard input. Otherwise, have it open each file in turn and report how many times the character appears in each file. The filename and the character itself should be reported along with the count. Include error-checking to see whether the number of arguments is correct and whether the files can be opened. If a file can’t be opened, have the program report that fact and go on to the next file."
   ]
  },
  {
   "cell_type": "code",
   "execution_count": 108,
   "metadata": {
    "collapsed": true
   },
   "outputs": [],
   "source": [
    "def exercise():\n",
    "    pass\n",
    "    \n",
    "exercise()"
   ]
  },
  {
   "cell_type": "markdown",
   "metadata": {},
   "source": [
    "Write a program that takes two command-line arguments. The first is a string; the second is the name of a file. The program should then search the file, printing all lines containing the string."
   ]
  },
  {
   "cell_type": "code",
   "execution_count": 109,
   "metadata": {
    "collapsed": true
   },
   "outputs": [],
   "source": [
    "def exercise():\n",
    "    pass\n",
    "    \n",
    "exercise()"
   ]
  },
  {
   "cell_type": "markdown",
   "metadata": {},
   "source": [
    "Create a text file consisting of 20 rows of 30 integers. The integers should be in the range 0–9 and be separated by spaces. The file is a digital representation of a picture, with the values 0 through 9 representing increasing levels of darkness. Write a program that reads the contents of the file into a 20-by-30 array of ints. In a crude approach toward converting this digital representation to a picture, have the program use the values in this array to initialize a 20-by-31 array of chars, with a 0 value corresponding to a space character, a 1 value to the period character, and so on, with each larger number represented by a character that occupies more space. For example, you might use # to represent 9. The last character (the 31st) in each row should be a null character, making it an array of 20 strings. Have the program display the resulting picture (that is, print the strings) and also store the result in a text file. For example, suppose you start with this data:\n",
    "\n",
    ">`0 0 9 0 0 0 0 0 0 0 0 0 5 8 9 9 8 5 2 0 0 0 0 0 0 0 0 0 0 0\n",
    "0 0 0 0 9 0 0 0 0 0 0 0 5 8 9 9 8 5 5 2 0 0 0 0 0 0 0 0 0 0\n",
    "0 0 0 0 0 0 0 0 0 0 0 0 5 8 1 9 8 5 4 5 2 0 0 0 0 0 0 0 0 0\n",
    "0 0 0 0 9 0 0 0 0 0 0 0 5 8 9 9 8 5 0 4 5 2 0 0 0 0 0 0 0 0\n",
    "0 0 9 0 0 0 0 0 0 0 0 0 5 8 9 9 8 5 0 0 4 5 2 0 0 0 0 0 0 0\n",
    "0 0 0 0 0 0 0 0 0 0 0 0 5 8 9 1 8 5 0 0 0 4 5 2 0 0 0 0 0 0\n",
    "0 0 0 0 0 0 0 0 0 0 0 0 5 8 9 9 8 5 0 0 0 0 4 5 2 0 0 0 0 0\n",
    "5 5 5 5 5 5 5 5 5 5 5 5 5 8 9 9 8 5 5 5 5 5 5 5 5 5 5 5 5 5\n",
    "8 8 8 8 8 8 8 8 8 8 8 8 5 8 9 9 8 5 8 8 8 8 8 8 8 8 8 8 8 8\n",
    "9 9 9 9 0 9 9 9 9 9 9 9 9 9 9 9 9 9 9 9 9 9 3 9 9 9 9 9 9 9\n",
    "8 8 8 8 8 8 8 8 8 8 8 8 5 8 9 9 8 5 8 8 8 8 8 8 8 8 8 8 8 8\n",
    "5 5 5 5 5 5 5 5 5 5 5 5 5 8 9 9 8 5 5 5 5 5 5 5 5 5 5 5 5 5\n",
    "0 0 0 0 0 0 0 0 0 0 0 0 5 8 9 9 8 5 0 0 0 0 0 0 0 0 0 0 0 0\n",
    "0 0 0 0 0 0 0 0 0 0 0 0 5 8 9 9 8 5 0 0 0 0 6 6 0 0 0 0 0 0\n",
    "0 0 0 0 2 2 0 0 0 0 0 0 5 8 9 9 8 5 0 0 5 6 0 0 6 5 0 0 0 0\n",
    "0 0 0 0 3 3 0 0 0 0 0 0 5 8 9 9 8 5 0 5 6 1 1 1 1 6 5 0 0 0\n",
    "0 0 0 0 4 4 0 0 0 0 0 0 5 8 9 9 8 5 0 0 5 6 0 0 6 5 0 0 0 0\n",
    "0 0 0 0 5 5 0 0 0 0 0 0 5 8 9 9 8 5 0 0 0 0 6 6 0 0 0 0 0 0\n",
    "0 0 0 0 0 0 0 0 0 0 0 0 5 8 9 9 8 5 0 0 0 0 0 0 0 0 0 0 0 0\n",
    "0 0 0 0 0 0 0 0 0 0 0 0 5 8 9 9 8 5 0 0 0 0 0 0 0 0 0 0 0 0`\n",
    "\n",
    "For one particular choice of output characters, the output looks like this:\n",
    "><pre>\n",
    "  #         *%##%*'\n",
    "    #       *%##%**'\n",
    "            *%.#%*~*'\n",
    "    #       *%##%* ~*'\n",
    "  #         *%##%*  ~*'\n",
    "            *%#.%*   ~*'\n",
    "            *%##%*    ~*'\n",
    "*************%##%*************\n",
    "%%%%%%%%%%%%*%##%*%%%%%%%%%%%%\n",
    "#### #################:#######\n",
    "%%%%%%%%%%%%*%##%*%%%%%%%%%%%%\n",
    "*************%##%*************\n",
    "            *%##%*\n",
    "            *%##%*    ==\n",
    "    ''      *%##%*  *=  =*\n",
    "    ::      *%##%* *=....=*\n",
    "    ~~      *%##%*  *=  =*\n",
    "    **      *%##%*    ==\n",
    "            *%##%*\n",
    "            *%##%*`\n",
    "            </pre>"
   ]
  },
  {
   "cell_type": "code",
   "execution_count": 110,
   "metadata": {
    "collapsed": true
   },
   "outputs": [],
   "source": [
    "def exercise():\n",
    "    pass\n",
    "    \n",
    "exercise()"
   ]
  },
  {
   "cell_type": "markdown",
   "metadata": {},
   "source": [
    "# Translation"
   ]
  },
  {
   "cell_type": "markdown",
   "metadata": {},
   "source": [
    "Gasoline consumption commonly is computed in miles per gallon in the U.S. and in liters per 100 kilometers in Europe. What follows is part of a program that asks the user to choose a mode (metric or U.S.) and then gathers data and computes fuel consumption:\n",
    "\n",
    "><pre>\n",
    "int main(void)\n",
    "{\n",
    "  int mode;\n",
    "  printf(\"Enter 0 for metric mode, 1 for US mode: \");\n",
    "  scanf(\"%d\", &mode);\n",
    "  while (mode >= 0)\n",
    "  {\n",
    "     set_mode(mode);\n",
    "     get_info();\n",
    "     show_info();\n",
    "     printf(\"Enter 0 for metric mode, 1 for US mode\");\n",
    "     printf(\" (-1 to quit): \");\n",
    "     scanf(\"%d\", &mode);\n",
    "  }\n",
    "  printf(\"Done.\\n\");\n",
    "  return 0;\n",
    "}\n",
    "\n",
    ">Here is some sample output:\n",
    "Enter 0 for metric mode, 1 for US mode: 0\n",
    "Enter distance traveled in kilometers: 600\n",
    "Enter fuel consumed in liters: 78.8\n",
    "Fuel consumption is 13.13 liters per 100 km.\n",
    "Enter 0 for metric mode, 1 for US mode (-1 to quit): 1\n",
    "Enter distance traveled in miles: 434\n",
    "Enter fuel consumed  in gallons: 12.7\n",
    "Fuel consumption is 34.2 miles per gallon.\n",
    "Enter 0 for metric mode, 1 for US mode (-1 to quit): 3\n",
    "Invalid mode specified. Mode 1(US) used.\n",
    "Enter distance traveled in miles: 388\n",
    "Enter fuel consumed  in gallons: 15.3\n",
    "Fuel consumption is 25.4 miles per gallon.\n",
    "Enter 0 for metric mode, 1 for US mode (-1 to quit): -1\n",
    "Done.\n",
    "</pre>\n",
    "\n",
    "If the user enters an incorrect mode, the program comments on that and uses the most recent mode. Translate this program into Python and add the missing functionality to make this work.  You can assume the user responds with numeric input."
   ]
  },
  {
   "cell_type": "code",
   "execution_count": 111,
   "metadata": {
    "collapsed": true
   },
   "outputs": [],
   "source": [
    "def exercise():\n",
    "    pass\n",
    "    \n",
    "exercise()"
   ]
  },
  {
   "cell_type": "markdown",
   "metadata": {},
   "source": [
    "Here’s part of a program:\n",
    "\n",
    "<pre>\n",
    "int * make_array(int elem, int val);\n",
    "void show_array(const int ar[], int n);\n",
    "int main(void)\n",
    "{\n",
    "  int * pa;\n",
    "  int size;\n",
    "  int value;\n",
    "\n",
    "  printf(\"Enter the number of elements: \");\n",
    "  while (scanf(\"%d\", &size) == 1 && size > 0)\n",
    "  {\n",
    "      printf(\"Enter the initialization value: \");\n",
    "      scanf(\"%d\", &value);\n",
    "      pa = make_array(size, value);\n",
    "      if (pa)\n",
    "      {\n",
    "          show_array(pa, size);\n",
    "          free(pa);\n",
    "      }\n",
    "      printf(\"Enter the number of elements (-1 to quit): \");\n",
    "  }\n",
    "  printf(\"Done.\\n\");\n",
    "  return 0;\n",
    "}\n",
    "</pre>\n",
    "\n",
    "Translate this program into Python and complete it by providing function definitions for make_array() and show_array(). The make_array() function takes two arguments. The first is the number of elements of an int array, and the second is a value that is to be assigned to each element. The show_array() function displays the contents, eight numbers to a line."
   ]
  },
  {
   "cell_type": "code",
   "execution_count": 112,
   "metadata": {
    "collapsed": true
   },
   "outputs": [],
   "source": [
    "def exercise():\n",
    "    pass\n",
    "    \n",
    "exercise()"
   ]
  },
  {
   "cell_type": "markdown",
   "metadata": {},
   "source": [
    "# User-Defined Objects"
   ]
  },
  {
   "cell_type": "markdown",
   "metadata": {},
   "source": [
    "Create a class called `Book` that a book store might use to represent inventory. Each `Book` should have a title, author, isbn number, page count, and price."
   ]
  },
  {
   "cell_type": "code",
   "execution_count": 113,
   "metadata": {
    "collapsed": true
   },
   "outputs": [],
   "source": [
    "def exercise():\n",
    "    pass\n",
    "    \n",
    "exercise()"
   ]
  },
  {
   "cell_type": "markdown",
   "metadata": {},
   "source": [
    "The `CandyBar` structure contains three members. The first member holds the brand `name` of a candy bar. The second member holds the `weight` (which may have a fractional part) of the candy bar, and the third member holds the number of `calories` (an integer value) in the candy bar. Write a program that declares such a structure and creates a `CandyBar` variable called snack, initializing its members to `\"Mocha Munch\"`, `2.3`, and `350`, respectively. The initialization should be part of the declaration for snack. Finally, the program should display the contents of the snack variable."
   ]
  },
  {
   "cell_type": "code",
   "execution_count": 114,
   "metadata": {
    "collapsed": true
   },
   "outputs": [],
   "source": [
    "def exercise():\n",
    "    pass\n",
    "    \n",
    "exercise()"
   ]
  },
  {
   "cell_type": "markdown",
   "metadata": {},
   "source": [
    "William Wingate runs a pizza-analysis service. For each pizza, he needs to record the following information:\n",
    "\n",
    "• The name of the pizza company, which can consist of more than one word\n",
    "\n",
    "• The diameter of the pizza\n",
    "\n",
    "• The weight of the pizza\n",
    "\n",
    "Devise a structure that can hold this information and write a program that uses a structure variable of that type. The program should ask the user to enter each of the preceding items of information, and then the program should display that information. "
   ]
  },
  {
   "cell_type": "code",
   "execution_count": 115,
   "metadata": {
    "collapsed": true
   },
   "outputs": [],
   "source": [
    "def exercise():\n",
    "    pass\n",
    "    \n",
    "exercise()"
   ]
  },
  {
   "cell_type": "markdown",
   "metadata": {},
   "source": [
    "Create class `Rectangle`. The class has attributes `length` and `width`, each of which defaults to `1`. It has read-only properties that calculate the `Perimeter` and the `Area` of the rectangle. It has properties for both length and width. The set accessors should verify that length and width are each greater than 0.0 and less than 20.0. Write code to test class Rectangle"
   ]
  },
  {
   "cell_type": "code",
   "execution_count": 116,
   "metadata": {
    "collapsed": true
   },
   "outputs": [],
   "source": [
    "def exercise():\n",
    "    pass\n",
    "    \n",
    "exercise()"
   ]
  },
  {
   "cell_type": "markdown",
   "metadata": {},
   "source": [
    "Design a structure called car that holds the following information about an automobile: its make, as a string in a character array or in a string object, and the year it was built, as an integer. Write a program that asks the user how many cars to catalog. Next, it should prompt the user to input the make (which might consist of more than one word) and year information for each structure. Finally, it should display the contents of each structure. A sample run should look something like the following:\n",
    "\n",
    "<pre>\n",
    "How many cars do you wish to catalog? 2\n",
    "Car #1:\n",
    "Please enter the make: Hudson Hornet\n",
    "Please enter the year made: 1952\n",
    "Car #2:\n",
    "Please enter the make: Kaiser\n",
    "Please enter the year made: 1951\n",
    "Here is your collection:\n",
    "1952 Hudson Hornet\n",
    "1951 Kaiser\n",
    "</pre>"
   ]
  },
  {
   "cell_type": "code",
   "execution_count": null,
   "metadata": {
    "collapsed": true
   },
   "outputs": [],
   "source": []
  },
  {
   "cell_type": "markdown",
   "metadata": {},
   "source": [
    "Create a class called `Invoice` that a hardware store might use to represent an invoice for an item sold at the store. An Invoice should include four pieces of information as instance variables: a part number, a part description, a quantity of the item being purchased, and a price per item. Your class should have a constructor that initializes the four values. Provide a property with a get and set accessor for any instance variables. For the Quantity and PricePerItem properties, if the value passed to the set accessor is negative, the value of the instance variable should be left unchanged. Also, provide a method named `GetInvoiceAmount` that calculates the invoice amount (i.e., multiplies the quantity by the price per item), then returns the amount. Write a test app named `InvoiceTest` that demonstrates class `Invoice`’s capabilities."
   ]
  },
  {
   "cell_type": "code",
   "execution_count": 117,
   "metadata": {
    "collapsed": true
   },
   "outputs": [],
   "source": [
    "def exercise():\n",
    "    pass\n",
    "    \n",
    "exercise()"
   ]
  },
  {
   "cell_type": "markdown",
   "metadata": {},
   "source": [
    "Create a class called `Employee` that includes three pieces of information as instance variables: a first name, a last name and a monthly salary. Your class should have a constructor that initializes the three values. Provide a property with a get and set accessor for any instance variables. If the monthly salary is negative, the set accessor should leave the instance variable unchanged. Write a test app named `EmployeeTest` that demonstrates class `Employee`’s capabilities. Create two Employee objects and display each object’s yearly salary. Then give each Employee a 10% raise and display each Employee’s yearly salary again."
   ]
  },
  {
   "cell_type": "code",
   "execution_count": 118,
   "metadata": {
    "collapsed": true
   },
   "outputs": [],
   "source": [
    "def exercise():\n",
    "    pass\n",
    "    \n",
    "exercise()"
   ]
  },
  {
   "cell_type": "markdown",
   "metadata": {},
   "source": [
    "Create a class called `Date` that includes three variables: a month, a day and a year. Your class should have a constructor that initializes the three variables and assumes that the values provided are correct. Provide a method `DisplayDate` that displays the month, day and year separated by forward slashes (/). Write a test app named `DateTest` that demonstrates class `Date`’s capabilities."
   ]
  },
  {
   "cell_type": "code",
   "execution_count": 119,
   "metadata": {
    "collapsed": true
   },
   "outputs": [],
   "source": [
    "def exercise():\n",
    "    pass\n",
    "    \n",
    "exercise()"
   ]
  },
  {
   "cell_type": "markdown",
   "metadata": {},
   "source": [
    "A Betelgeusean plorg has these properties:\n",
    "\n",
    "Data\n",
    "- A plorg has a name with no more than 19 letters.\n",
    "- A plorg has a contentment index (CI), which is an integer.\n",
    "\n",
    "Operations\n",
    "- A new plorg starts out with a name and a CI of 50.\n",
    "- A plorg’s CI can change.\n",
    "- A plorg can report its name and CI.\n",
    "\n",
    "The default plorg has the name \"Plorga\".\n",
    "\n",
    "Write a Plorg class that represents a plorg and then write a short program that demonstrates all the features of the Plorg class."
   ]
  },
  {
   "cell_type": "code",
   "execution_count": null,
   "metadata": {
    "collapsed": true
   },
   "outputs": [],
   "source": []
  },
  {
   "cell_type": "markdown",
   "metadata": {},
   "source": [
    "Develop a program that will determine whether any of several department-store customers has exceeded the credit limit on a charge account. For each customer, the following facts are available:\n",
    "\n",
    "- account number\n",
    "- balance at the beginning of the month\n",
    "- total of all items charged by the customer this month\n",
    "- total of all credits applied to the customer’s account this month\n",
    "- allowed credit limit\n",
    "\n",
    "The program should input all these facts as integers, calculate the new balance (= beginning balance + charges – credits), display the new balance and determine whether the new balance exceeds the customer’s credit limit. For those whose credit limit is exceeded, the program should display the message \"`Credit limit exceeded`\". \n",
    "\n",
    "The program will obtain data from a CSV file in the current working directory with the following format:\n",
    "\n",
    "    AccountNumber,BeginningBalance,TotalCharges,TotalCredits,CreditLimit\n",
    "    \n",
    "To test your program, create a sample data file. "
   ]
  },
  {
   "cell_type": "code",
   "execution_count": 120,
   "metadata": {
    "collapsed": true
   },
   "outputs": [],
   "source": [
    "def exercise():\n",
    "    pass\n",
    "    \n",
    "exercise()"
   ]
  },
  {
   "cell_type": "markdown",
   "metadata": {},
   "source": [
    "Develop a program that will determine the gross pay for each of three employees. The company pays straight time for the first 40 hours worked by each employee and time-and-a-half for all hours worked in excess of 40 hours. You’re given a CSV file of employees of the company, the number of hours each employee worked last week and the hourly rate of each employee. Your program should input this information for each employee, then should determine and display the employee’s gross pay. "
   ]
  },
  {
   "cell_type": "code",
   "execution_count": 121,
   "metadata": {
    "collapsed": true
   },
   "outputs": [],
   "source": [
    "def exercise():\n",
    "    pass\n",
    "    \n",
    "exercise()"
   ]
  },
  {
   "cell_type": "markdown",
   "metadata": {},
   "source": [
    "Write a program that simulates coin tossing. Let the program toss a coin each time the user chooses the “Toss Coin” menu option. Count the number of times each side of the coin appears. Display the results. Represent the coin as a class with a method called `Flip` that takes no arguments and returns `False` for tails and `True` for heads. Provide an option for a user to flip the coin `n` times in succession. "
   ]
  },
  {
   "cell_type": "code",
   "execution_count": 122,
   "metadata": {
    "collapsed": true
   },
   "outputs": [],
   "source": [
    "def exercise():\n",
    "    pass\n",
    "    \n",
    "exercise()"
   ]
  },
  {
   "cell_type": "markdown",
   "metadata": {},
   "source": [
    "Create the class `SavingsAccount`. Use the static read-write property `AnnualInterestRate` to store the annual interest rate for all account holders. Each object of the class contains a property `SavingsBalance`, indicating the amount the saver currently has on deposit. Provide method `CalculateMonthlyInterest` to calculate the monthly interest by multiplying the `SavingsBalance` by `AnnualInterestRate` divided by 12—this interest should be added to savings-Balance. Write an app to test class `SavingsAccount`. Create two `savingsAccount` objects, `saver1` and `saver2`, with balances of \\$2000.00 and \\$3000.00, respectively. Set `AnnualInterestRate` to 4%, then calculate the monthly interest and display the new balances for both savers. Then set the `AnnualInterestRate` to 5%, calculate the next month’s interest and display the new balances for both savers."
   ]
  },
  {
   "cell_type": "code",
   "execution_count": 123,
   "metadata": {
    "collapsed": true
   },
   "outputs": [],
   "source": [
    "def exercise():\n",
    "    pass\n",
    "    \n",
    "exercise()"
   ]
  },
  {
   "cell_type": "markdown",
   "metadata": {},
   "source": [
    "Create class `IntegerSet`. Each `IntegerSet` object can hold integers in the range 0–100. The set is represented by an array of bools. Array element `a[i]` is true if integer `i` is in the set. Array element `a[j]` is false if integer `j` is not in the set. The parameterless constructor initializes the array to the \"empty set\" (i.e., a set whose array representation contains all false values). Provide the following methods:\n",
    "\n",
    "- Method `Union` creates a third set that’s the set-theoretic union of two existing sets (i.e., an element of the third set’s array is set to true if that element is true in either or both of the existing sets—otherwise, the element of the third set is set to false).\n",
    "- Method `Intersection` creates a third set which is the set-theoretic intersection of two existing sets (i.e., an element of the third set’s array is set to false if that element is false in either or both of the existing sets—otherwise, the element of the third set is set to true).\n",
    "- Method `InsertElement` inserts a new integer `k` into a set (by setting `a[k]` to true).\n",
    "- Method `DeleteElement` deletes integer `m` (by setting `a[m]` to false).\n",
    "- Method `__str__` returns a string containing a set as a list of numbers separated by spaces. Include only those elements that are present in the set. Use --- to represent an empty set.\n",
    "- Method `__eq__` determines whether two sets are equal.\n",
    "\n",
    "Write an app to test class `IntegerSet`. Instantiate several `IntegerSet` objects. Test that all your methods work properly."
   ]
  },
  {
   "cell_type": "code",
   "execution_count": 124,
   "metadata": {
    "collapsed": true
   },
   "outputs": [],
   "source": [
    "def exercise():\n",
    "    pass\n",
    "    \n",
    "exercise()"
   ]
  },
  {
   "cell_type": "markdown",
   "metadata": {},
   "source": [
    "Create a class called `Rational` for performing arithmetic with fractions. Write an app to test your class. Provide a constructor that enables an object of this class to be initialized when it’s declared. The constructor should store the fraction in reduced form.\n",
    "\n",
    "The fraction $2/4$ is equivalent to $1/2$ and would be stored in the object as $1$ in the numerator and $2$ in the denominator. Provide a constructor with default values in case no initializers are provided. Provide public methods that perform each of the following operations (all calculation results should be stored in a reduced form):\n",
    "\n",
    "- Add two Rational numbers.\n",
    "- Subtract two Rational numbers.\n",
    "- Multiply two Rational numbers.\n",
    "- Divide two Rational numbers.\n",
    "- Display Rational numbers in the form a/b, where a is the numerator and b is the denominator.\n",
    "- Display Rational numbers in floating-point format. (Consider providing formatting capabilities that enable the user of the class to specify the number of digits of precision to the right of the decimal point.)"
   ]
  },
  {
   "cell_type": "code",
   "execution_count": 125,
   "metadata": {
    "collapsed": true
   },
   "outputs": [],
   "source": [
    "def exercise():\n",
    "    pass\n",
    "    \n",
    "exercise()"
   ]
  },
  {
   "cell_type": "markdown",
   "metadata": {},
   "source": [
    "Create class `TicTacToe` that will enable you to write a complete app to play the game of Tic-Tac-Toe. The class contains a private 3-by-3 rectangular array of integers. The constructor should initialize the empty board to all 0s. Allow two human players. Wherever the first player moves, place a 1 in the specified square, and place a 2 wherever the second player moves. Each move must be to an empty square. After each move, determine whether the game has been won and whether it’s a draw. "
   ]
  },
  {
   "cell_type": "code",
   "execution_count": 126,
   "metadata": {
    "collapsed": true
   },
   "outputs": [],
   "source": [
    "def exercise():\n",
    "    pass\n",
    "    \n",
    "exercise()"
   ]
  },
  {
   "cell_type": "markdown",
   "metadata": {},
   "source": [
    "Create an inheritance hierarchy that a bank might use to represent customers’ bank accounts. All customers at this bank can deposit (i.e., credit) money into their accounts and withdraw (i.e., debit) money from their accounts. More specific types of accounts also exist. Savings accounts, for instance, earn interest on the money they hold. Checking accounts, on the other hand, charge a fee per transaction.\n",
    "\n",
    "Create base class `Account` and derived classes `SavingsAccount` and `CheckingAccount` that inherit from class `Account`. Base class `Account` should include one private instance variable to represent the account balance. The class should provide a constructor that receives an initial balance and uses it to initialize the instance variable with a public property. The property should validate the initial balance to ensure that it’s greater than or equal to 0.0; if not, throw an exception. The class should provide two public methods. Method `Credit` should add an amount to the current balance. Method `Debit` should withdraw money from the `Account` and ensure that the debit amount does not exceed the `Account`’s balance. If it does, the balance should be left unchanged, and the method should display the message \"Debit amount exceeded account balance.\" The class should also provide a get accessor in property `Balance` that returns the current balance.\n",
    "\n",
    "Derived class `SavingsAccount` should inherit the functionality of an `Account`, but also include an instance variable indicating the interest rate (percentage) assigned to the `Account`. `SavingsAccount`’s constructor should receive the initial balance, as well as an initial value for the interest rate. `SavingsAccount` should provide public method `CalculateInterest` that returns a value indicating the amount of interest earned by an account. Method `CalculateInterest` should determine this amount by multiplying the interest rate by the account balance. [Note: `SavingsAccount` should inherit methods `Credit` and `Debit` without redefining them.]\n",
    "\n",
    "Derived class `CheckingAccount` should inherit from base class `Account` and include an instance variable that represents the fee charged per transaction. `CheckingAccount`’s constructor should receive the initial balance, as well as a parameter indicating a fee amount. Class `CheckingAccount` should redefine methods `Credit` and `Debit` so that they subtract the fee from the account balance whenever either transaction is performed successfully. `CheckingAccount`’s versions of these methods should invoke the base-class `Account` version to perform the updates to an account balance. `CheckingAccount`’s `Debit` method should charge a fee only if money is actually withdrawn (i.e., the debit amount does not exceed the account balance). [Hint: Define `Account`’s `Debit` method so that it returns a bool indicating whether money was withdrawn. Then use the return value to determine whether a fee should be charged.]\n",
    "\n",
    "After defining the classes in this hierarchy, write an app that creates objects of each class and tests their methods. Add interest to the `SavingsAccount` object by first invoking its `CalculateInterest` method, then passing the returned interest amount to the object’s `Credit` method."
   ]
  },
  {
   "cell_type": "code",
   "execution_count": 127,
   "metadata": {
    "collapsed": true
   },
   "outputs": [],
   "source": [
    "def exercise():\n",
    "    pass\n",
    "    \n",
    "exercise()"
   ]
  },
  {
   "cell_type": "markdown",
   "metadata": {},
   "source": [
    "When you join the Benevolent Order of Programmers, you can be known at BOP meetings by your real name, your job title, or your secret BOP name. Write a program that can list members by real name, by job title, by secret name, or by a member’s preference (0 = fullname, 1 = title, 2 = bopname).\n",
    "\n",
    "In the program, create a small array of such structures and initialize it to suitable values. Have the program run a loop that lets the user select from different alternatives:\n",
    "\n",
    ">`a. display by name     b. display by title\n",
    "c. display by bopname  d. display by preference\n",
    "q. quit`\n",
    "\n",
    "Note that \"display by preference\" does not mean display the preference member; it means display the member corresponding to the preference number. For instance, if preference is 1, choice d would display the programmer’s job title. A sample run may look something like the following:\n",
    "\n",
    "<pre>\n",
    "Benevolent Order of Programmers Report\n",
    "a. display by name     b. display by title\n",
    "c. display by bopname  d. display by preference\n",
    "q. quit\n",
    "Enter your choice: a\n",
    "Wimp Macho\n",
    "Raki Rhodes\n",
    "Celia Laiter\n",
    "Hoppy Hipman\n",
    "Pat Hand\n",
    "Next choice: d\n",
    "Wimp Macho\n",
    "Junior Programmer\n",
    "MIPS\n",
    "Analyst Trainee\n",
    "LOOPY\n",
    "Next choice: q\n",
    "Bye!\n",
    "</pre>"
   ]
  },
  {
   "cell_type": "code",
   "execution_count": 128,
   "metadata": {
    "collapsed": true
   },
   "outputs": [],
   "source": [
    "def exercise():\n",
    "    pass\n",
    "    \n",
    "exercise()"
   ]
  },
  {
   "cell_type": "markdown",
   "metadata": {},
   "source": [
    "Put together a program that keeps track of monetary contributions to the Society for the Preservation of Rightful Influence. It should ask the user to enter the number of contributors and then solicit the user to enter the name and contribution of each contributor. After reading all the data, the program should display the names and amounts donated for all donors who contributed $10,000 or more. This list should be headed by the label Grand Patrons. After that, the program should list the remaining donors. That list should be headed Patrons. If there are no donors in one of the categories, the program should print the word \"none.\" Aside from displaying two categories, the program need do no sorting.\n",
    "\n",
    "Alternatively, the list of contributors and contributions can come from a file."
   ]
  },
  {
   "cell_type": "code",
   "execution_count": 129,
   "metadata": {
    "collapsed": true
   },
   "outputs": [],
   "source": [
    "def exercise():\n",
    "    pass\n",
    "    \n",
    "exercise()"
   ]
  },
  {
   "cell_type": "markdown",
   "metadata": {},
   "source": []
  },
  {
   "cell_type": "code",
   "execution_count": null,
   "metadata": {
    "collapsed": true
   },
   "outputs": [],
   "source": []
  },
  {
   "cell_type": "markdown",
   "metadata": {},
   "source": []
  },
  {
   "cell_type": "code",
   "execution_count": null,
   "metadata": {
    "collapsed": true
   },
   "outputs": [],
   "source": []
  },
  {
   "cell_type": "markdown",
   "metadata": {},
   "source": []
  },
  {
   "cell_type": "code",
   "execution_count": null,
   "metadata": {
    "collapsed": true
   },
   "outputs": [],
   "source": []
  },
  {
   "cell_type": "markdown",
   "metadata": {},
   "source": []
  },
  {
   "cell_type": "code",
   "execution_count": null,
   "metadata": {
    "collapsed": true
   },
   "outputs": [],
   "source": []
  },
  {
   "cell_type": "markdown",
   "metadata": {},
   "source": []
  },
  {
   "cell_type": "code",
   "execution_count": null,
   "metadata": {
    "collapsed": true
   },
   "outputs": [],
   "source": []
  },
  {
   "cell_type": "markdown",
   "metadata": {},
   "source": []
  },
  {
   "cell_type": "code",
   "execution_count": null,
   "metadata": {
    "collapsed": true
   },
   "outputs": [],
   "source": []
  },
  {
   "cell_type": "markdown",
   "metadata": {},
   "source": []
  },
  {
   "cell_type": "code",
   "execution_count": null,
   "metadata": {
    "collapsed": true
   },
   "outputs": [],
   "source": []
  }
 ],
 "metadata": {
  "anaconda-cloud": {},
  "kernelspec": {
   "display_name": "Python [conda root]",
   "language": "python",
   "name": "conda-root-py"
  }
 },
 "nbformat": 4,
 "nbformat_minor": 1
}
