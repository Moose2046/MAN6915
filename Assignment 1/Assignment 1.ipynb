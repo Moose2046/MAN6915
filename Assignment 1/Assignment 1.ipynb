{
 "cells": [
  {
   "cell_type": "code",
   "execution_count": 14,
   "metadata": {
    "collapsed": false
   },
   "outputs": [
    {
     "name": "stdout",
     "output_type": "stream",
     "text": [
      "What is your name? Abc\n",
      "Hello, Abc, nice to meet you!\n"
     ]
    }
   ],
   "source": [
    "#Problem #1\n",
    "\n",
    "#Get users name\n",
    "name= input(\"What is your name? \")\n",
    "\n",
    "#Creates output string\n",
    "outputString = \"Hello, \" + name + \", nice to meet you!\"\n",
    "\n",
    "#Prints the output\n",
    "print(outputString)"
   ]
  },
  {
   "cell_type": "code",
   "execution_count": 1,
   "metadata": {
    "collapsed": false
   },
   "outputs": [
    {
     "name": "stdout",
     "output_type": "stream",
     "text": [
      "What is the input string? Hello World\n",
      "Hello World has 11 characters.\n"
     ]
    }
   ],
   "source": [
    "#Problem #2\n",
    "\n",
    "#Input\n",
    "userInputString = input(\"What is the input string? \")\n",
    "\n",
    "#Gets String Lenght and converts it to string\n",
    "stringLength = str(len(userInputString))\n",
    "\n",
    "#Prints output \n",
    "print(userInputString + \" has \" + stringLength + \" characters.\")"
   ]
  },
  {
   "cell_type": "code",
   "execution_count": 3,
   "metadata": {
    "collapsed": false
   },
   "outputs": [
    {
     "name": "stdout",
     "output_type": "stream",
     "text": [
      "Enter a noun: dog\n",
      "Enter a verb: run\n",
      "Enter a adjective: blue\n",
      "Enter a adverb: crazy\n",
      "Do you run your blue dog crazy? That's hilarious!\n"
     ]
    }
   ],
   "source": [
    "#Problem #3\n",
    "\n",
    "#Inputs\n",
    "noun=input(\"Enter a noun: \" )\n",
    "verb=input(\"Enter a verb: \")\n",
    "adjective=input(\"Enter a adjective: \")\n",
    "adverb=input(\"Enter a adverb: \")\n",
    "\n",
    "#Prints Output\n",
    "print(\"Do you \" + verb + \" your \" + adjective + \" \" + noun + \" \" + adverb + \"? That's hilarious!\")"
   ]
  },
  {
   "cell_type": "code",
   "execution_count": 4,
   "metadata": {
    "collapsed": false
   },
   "outputs": [
    {
     "name": "stdout",
     "output_type": "stream",
     "text": [
      "What is the first number? 10\n",
      "What is the second number? 5\n",
      "10 + 5 = 15\n",
      "10 - 5 = 5\n",
      "10 * 5 = 50\n",
      "10 / 5 = 2\n"
     ]
    }
   ],
   "source": [
    "#Problem #4\n",
    "\n",
    "#Gets Number Input\n",
    "firstValueString = input(\"What is the first number? \")\n",
    "secondValueString = input(\"What is the second number? \")\n",
    "\n",
    "#Convert numbers from string to Int\n",
    "firstValueInt = int(firstValueString)\n",
    "secondValueInt = int(secondValueString)\n",
    "\n",
    "#Perform calculations\n",
    "additionValue = firstValueInt + secondValueInt\n",
    "additionString = firstValueString + \" + \" + secondValueString + \" = \" + str(additionValue)\n",
    "\n",
    "subtractionValue = firstValueInt - secondValueInt\n",
    "subtractionString = firstValueString + \" - \" + secondValueString + \" = \" + str(subtractionValue)\n",
    "\n",
    "multiplicationValue = firstValueInt * secondValueInt\n",
    "multiplicationString = firstValueString + \" * \" + secondValueString + \" = \" + str(multiplicationValue)\n",
    "\n",
    "divisionValue = firstValueInt // secondValueInt\n",
    "divisionString = firstValueString + \" / \" + secondValueString + \" = \" + str(divisionValue)\n",
    "\n",
    "#Prints output!\n",
    "print(additionString + '\\n' + subtractionString + '\\n' + multiplicationString + '\\n' + divisionString)\n"
   ]
  },
  {
   "cell_type": "code",
   "execution_count": 6,
   "metadata": {
    "collapsed": false
   },
   "outputs": [
    {
     "name": "stdout",
     "output_type": "stream",
     "text": [
      "What is your current age? 25\n",
      "At what age would you like to retire? 65\n",
      "You have 40 years left until you can retire.\n",
      "It's 2017 so you can retire in 2057.\n"
     ]
    }
   ],
   "source": [
    "#Problem #5\n",
    "#import lib for current date\n",
    "import datetime\n",
    "now = datetime.datetime.now()\n",
    "\n",
    "#Gets the input \n",
    "ageString = input(\"What is your current age? \")\n",
    "retireAgeString = input(\"At what age would you like to retire? \")\n",
    "\n",
    "#Converts input string to ints\n",
    "ageInt = int(ageString)\n",
    "retireAgeInt = int(retireAgeString)\n",
    "\n",
    "#Perform calculations to figure out how many year you have until retirement\n",
    "yearsUntilRetirement = retireAgeInt - ageInt\n",
    "currentYear = now.year\n",
    "retirementYear = currentYear + yearsUntilRetirement\n",
    "\n",
    "#Prints Output\n",
    "print(\"You have \" + str(yearsUntilRetirement) + \" years left until you can retire.\")\n",
    "print(\"It's \" + str(currentYear) + \" so you can retire in \" + str(retirementYear) + \".\")\n"
   ]
  },
  {
   "cell_type": "code",
   "execution_count": 19,
   "metadata": {
    "collapsed": false
   },
   "outputs": [
    {
     "name": "stdout",
     "output_type": "stream",
     "text": [
      "What is the length of the room in feet? 15\n",
      "What is the width of the room in feet? 20\n",
      "You entered dimension of 15 feet by 20\n",
      "The area is\n",
      "300 square feet\n",
      "27.870912 sqaure meters\n"
     ]
    }
   ],
   "source": [
    "#Problem #6\n",
    "#Define conversion rate\n",
    "CONVERSION_RATE_FROM_FEET_TO_METERS = 0.09290304\n",
    "\n",
    "#Get Input\n",
    "lengthString = input(\"What is the length of the room in feet? \")\n",
    "widthString = input(\"What is the width of the room in feet? \")\n",
    "\n",
    "#Convert strings to ints\n",
    "lengthInt = int(lengthString)\n",
    "widthInt = int(widthString)\n",
    "\n",
    "#Calculate area squared\n",
    "areaFeetSquared = lengthInt * widthInt\n",
    "areaMetersSquared = areaFeetSquared * CONVERSION_RATE_FROM_FEET_TO_METERS\n",
    "\n",
    "#Print Output\n",
    "print(\"You entered dimension of \" + lengthString + \" feet by \" + widthString)\n",
    "print(\"The area is\")\n",
    "print(str(areaFeetSquared) + \" square feet\")\n",
    "print(str(areaMetersSquared) + \" sqaure meters\")\n"
   ]
  },
  {
   "cell_type": "code",
   "execution_count": 9,
   "metadata": {
    "collapsed": false
   },
   "outputs": [
    {
     "name": "stdout",
     "output_type": "stream",
     "text": [
      "How many people? 8\n",
      "How many pizzas do you have? 2\n",
      "How many slices per pizza? 8\n",
      "8 people with 2 pizzas\n",
      "Each person gets 2 pieces of pizza.\n",
      "There are 0 leftover pieces.\n"
     ]
    }
   ],
   "source": [
    "#Problem #7\n",
    "\n",
    "#Get Input\n",
    "peopleString = input(\"How many people? \")\n",
    "pizzaString = input(\"How many pizzas do you have? \")\n",
    "slicesString = input(\"How many slices per pizza? \")\n",
    "\n",
    "#Convert from Strings to Ints\n",
    "peopleInt = int(peopleString)\n",
    "pizzaInt = int(pizzaString)\n",
    "slicesInt = int(slicesString)\n",
    "\n",
    "#Figures out how many slices of pizza each person gets\n",
    "totalSlicesInt = pizzaInt * slicesInt\n",
    "slicesPerPersonInt = totalSlicesInt//peopleInt\n",
    "leftOverSlicesInt = totalSlicesInt % peopleInt\n",
    "\n",
    "#Prints output\n",
    "print(peopleString + \" people with \" + pizzaString + \" pizzas\")\n",
    "print(\"Each person gets \" + str(slicesPerPersonInt) + \" pieces of pizza.\")\n",
    "print(\"There are \" + str(leftOverSlicesInt) + \" leftover pieces.\")"
   ]
  },
  {
   "cell_type": "code",
   "execution_count": 2,
   "metadata": {
    "collapsed": false
   },
   "outputs": [
    {
     "name": "stdout",
     "output_type": "stream",
     "text": [
      "What is the length of the room in feet? 10\n",
      "What is the width of the room in feet? 36\n",
      "You will need to purchase 2 gallons of\n",
      "paint to cover 360 square feet\n"
     ]
    }
   ],
   "source": [
    "#Problem #8\n",
    "\n",
    "#Import lib\n",
    "import math \n",
    "\n",
    "#Decalre how much wall a gallon of paint covers\n",
    "SQUARE_FEET_PER_GALLON = 350\n",
    "\n",
    "#Get input\n",
    "lengthString = input(\"What is the length of the room in feet? \")\n",
    "widthString = input(\"What is the width of the room in feet? \")\n",
    "\n",
    "#Converts strings to ints\n",
    "lengthInt = int(lengthString)\n",
    "widthInt = int(widthString)\n",
    "\n",
    "\n",
    "#Figures out how many gallons of paint we need by figureing out the squared area dividing by square feet per gallon\n",
    "#and rounding up\n",
    "areaFeetSquared = lengthInt * widthInt\n",
    "gallonsNeededFloat = math.ceil(areaFeetSquared/SQUARE_FEET_PER_GALLON)\n",
    "\n",
    "#Print output\n",
    "print(\"You will need to purchase \" + str(gallonsNeededFloat) + \" gallons of\")\n",
    "print(\"paint to cover \" + str(areaFeetSquared) + \" square feet\")"
   ]
  },
  {
   "cell_type": "code",
   "execution_count": 7,
   "metadata": {
    "collapsed": false
   },
   "outputs": [
    {
     "name": "stdout",
     "output_type": "stream",
     "text": [
      "Enter the price of item 1: 25\n",
      "Enter the quantity of item 1: 2\n",
      "Enter the price of item 2: 10\n",
      "Enter the quantity of item 2: 1\n",
      "Enter the price of item 2: 4\n",
      "Enter the quantity of item 2: 1\n",
      "Subtotal: $64.00\n",
      "Tax: $3.52\n",
      "Total: $67.52\n"
     ]
    }
   ],
   "source": [
    "#Problem #9\n",
    "#Define tax rate\n",
    "TAX_RATE = 0.055\n",
    "\n",
    "#Gets inputs\n",
    "productOnePriceString = input(\"Enter the price of item 1: \")\n",
    "proudctOneQuantityString = input(\"Enter the quantity of item 1: \")\n",
    "productTwoPriceString = input(\"Enter the price of item 2: \")\n",
    "proudctTwoQuantityString = input(\"Enter the quantity of item 2: \")\n",
    "productThreePriceString = input(\"Enter the price of item 2: \")\n",
    "proudctThreeQuantityString = input(\"Enter the quantity of item 2: \")\n",
    "\n",
    "#Convert string inputs to float values\n",
    "productOnePriceFloat = float(productOnePriceString)\n",
    "productOneQuantityFloat = float(proudctOneQuantityString)\n",
    "productTwoPriceFloat = float(productTwoPriceString)\n",
    "productTwoQuantityFloat = float(proudctTwoQuantityString)\n",
    "productThreePriceFloat = float(productThreePriceString)\n",
    "productThreeQuantityFloat = float(proudctThreeQuantityString)\n",
    "\n",
    "#Figures out sub totals, tax and total using \\ so code can continue onto next line for readability\n",
    "subtotal = productOnePriceFloat * productOneQuantityFloat \\\n",
    "         + productTwoPriceFloat * productTwoQuantityFloat \\\n",
    "         + productThreePriceFloat * productThreeQuantityFloat    \n",
    "tax = subtotal * TAX_RATE\n",
    "total = subtotal + tax\n",
    "\n",
    "#Creates output strings so they can be formatted nicely \n",
    "subtotalString = \"Subtotal: ${:.2f}\".format(subtotal)\n",
    "taxString = \"Tax: ${:.2f}\".format(tax)\n",
    "totalString = \"Total: ${:.2f}\".format(total)\n",
    "\n",
    "#Prints Output\n",
    "print(subtotalString)\n",
    "print(taxString)\n",
    "print(totalString)\n",
    "      "
   ]
  },
  {
   "cell_type": "code",
   "execution_count": 8,
   "metadata": {
    "collapsed": false
   },
   "outputs": [
    {
     "name": "stdout",
     "output_type": "stream",
     "text": [
      "Enter the principal: 1500\n",
      "Enter the rate of interest: 4.3\n",
      "Enter the number of years: 4\n",
      "After 4 years at 4.3% the investment will\n",
      "be worth $1758.00\n"
     ]
    }
   ],
   "source": [
    "#Problem 10 \n",
    "\n",
    "#Gets input\n",
    "principalString = input(\"Enter the principal: \")\n",
    "rateOfInterestString = input(\"Enter the rate of interest: \")\n",
    "numOfYearsString = input(\"Enter the number of years: \")\n",
    "\n",
    "#Converts input to float\n",
    "principalFloat = float(principalString)\n",
    "rateOfInterestFloat = float(rateOfInterestString) / 100\n",
    "\n",
    "#Converts string to Int\n",
    "numOfYearsInt = int(numOfYearsString)\n",
    "\n",
    "#Caclulates simple interest\n",
    "amountAfterInvestmentFloat = principalFloat * (1 + rateOfInterestFloat * numOfYearsInt)\n",
    "\n",
    "print(\"After \" + numOfYearsString + \" years at \" + rateOfInterestString + \"% the investment will\")\n",
    "print(\"be worth ${:.2f}\".format(amountAfterInvestmentFloat) )\n"
   ]
  },
  {
   "cell_type": "code",
   "execution_count": null,
   "metadata": {
    "collapsed": true
   },
   "outputs": [],
   "source": []
  }
 ],
 "metadata": {
  "anaconda-cloud": {},
  "kernelspec": {
   "display_name": "Python [default]",
   "language": "python",
   "name": "python3"
  },
  "language_info": {
   "codemirror_mode": {
    "name": "ipython",
    "version": 3
   },
   "file_extension": ".py",
   "mimetype": "text/x-python",
   "name": "python",
   "nbconvert_exporter": "python",
   "pygments_lexer": "ipython3",
   "version": "3.5.2"
  }
 },
 "nbformat": 4,
 "nbformat_minor": 1
}
