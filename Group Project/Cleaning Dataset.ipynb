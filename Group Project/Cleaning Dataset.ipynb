{
 "cells": [
  {
   "cell_type": "code",
   "execution_count": 5,
   "metadata": {
    "collapsed": false,
    "scrolled": true
   },
   "outputs": [],
   "source": [
    "import pandas as pd\n",
    "import numpy as np\n",
    "from sklearn import linear_model, datasets\n",
    "from sklearn.model_selection import train_test_split \n",
    "%matplotlib inline\n",
    "import matplotlib.pyplot as plt\n",
    "import seaborn as sns"
   ]
  },
  {
   "cell_type": "code",
   "execution_count": 6,
   "metadata": {
    "collapsed": true
   },
   "outputs": [],
   "source": [
    "df = pd.read_csv('Comma Data Updated Headers.csv')"
   ]
  },
  {
   "cell_type": "code",
   "execution_count": 7,
   "metadata": {
    "collapsed": false
   },
   "outputs": [
    {
     "data": {
      "text/html": [
       "<div>\n",
       "<table border=\"1\" class=\"dataframe\">\n",
       "  <thead>\n",
       "    <tr style=\"text-align: right;\">\n",
       "      <th></th>\n",
       "      <th>RespondentID</th>\n",
       "      <th>Sentence</th>\n",
       "      <th>OxfordCommaHeard</th>\n",
       "      <th>OxfordCommaCare</th>\n",
       "      <th>Unnamed: 4</th>\n",
       "      <th>DataPlural</th>\n",
       "      <th>DataPluralCare</th>\n",
       "      <th>GrammarImportance</th>\n",
       "      <th>Gender</th>\n",
       "      <th>Age</th>\n",
       "      <th>Income</th>\n",
       "      <th>Education</th>\n",
       "      <th>Location</th>\n",
       "    </tr>\n",
       "  </thead>\n",
       "  <tbody>\n",
       "    <tr>\n",
       "      <th>0</th>\n",
       "      <td>3292953864</td>\n",
       "      <td>It's important for a person to be honest, kind...</td>\n",
       "      <td>Yes</td>\n",
       "      <td>Some</td>\n",
       "      <td>Some experts say it's important to drink milk,...</td>\n",
       "      <td>No</td>\n",
       "      <td>Not much</td>\n",
       "      <td>Somewhat important</td>\n",
       "      <td>Male</td>\n",
       "      <td>30-44</td>\n",
       "      <td>$50,000 - $99,999</td>\n",
       "      <td>Bachelor degree</td>\n",
       "      <td>South Atlantic</td>\n",
       "    </tr>\n",
       "    <tr>\n",
       "      <th>1</th>\n",
       "      <td>3292950324</td>\n",
       "      <td>It's important for a person to be honest, kind...</td>\n",
       "      <td>No</td>\n",
       "      <td>Not much</td>\n",
       "      <td>Some experts say it's important to drink milk,...</td>\n",
       "      <td>No</td>\n",
       "      <td>Not much</td>\n",
       "      <td>Somewhat unimportant</td>\n",
       "      <td>Male</td>\n",
       "      <td>30-44</td>\n",
       "      <td>$50,000 - $99,999</td>\n",
       "      <td>Graduate degree</td>\n",
       "      <td>Mountain</td>\n",
       "    </tr>\n",
       "    <tr>\n",
       "      <th>2</th>\n",
       "      <td>3292942669</td>\n",
       "      <td>It's important for a person to be honest, kind...</td>\n",
       "      <td>Yes</td>\n",
       "      <td>Some</td>\n",
       "      <td>Some experts say it's important to drink milk,...</td>\n",
       "      <td>Yes</td>\n",
       "      <td>Not at all</td>\n",
       "      <td>Very important</td>\n",
       "      <td>Male</td>\n",
       "      <td>30-44</td>\n",
       "      <td>NaN</td>\n",
       "      <td>NaN</td>\n",
       "      <td>East North Central</td>\n",
       "    </tr>\n",
       "    <tr>\n",
       "      <th>3</th>\n",
       "      <td>3292932796</td>\n",
       "      <td>It's important for a person to be honest, kind...</td>\n",
       "      <td>Yes</td>\n",
       "      <td>Some</td>\n",
       "      <td>Some experts say it's important to drink milk,...</td>\n",
       "      <td>No</td>\n",
       "      <td>Some</td>\n",
       "      <td>Somewhat important</td>\n",
       "      <td>Male</td>\n",
       "      <td>18-29</td>\n",
       "      <td>NaN</td>\n",
       "      <td>Less than high school degree</td>\n",
       "      <td>Middle Atlantic</td>\n",
       "    </tr>\n",
       "    <tr>\n",
       "      <th>4</th>\n",
       "      <td>3292932522</td>\n",
       "      <td>It's important for a person to be honest, kind...</td>\n",
       "      <td>No</td>\n",
       "      <td>Not much</td>\n",
       "      <td>Some experts say it's important to drink milk,...</td>\n",
       "      <td>No</td>\n",
       "      <td>Not much</td>\n",
       "      <td>NaN</td>\n",
       "      <td>NaN</td>\n",
       "      <td>NaN</td>\n",
       "      <td>NaN</td>\n",
       "      <td>NaN</td>\n",
       "      <td>NaN</td>\n",
       "    </tr>\n",
       "  </tbody>\n",
       "</table>\n",
       "</div>"
      ],
      "text/plain": [
       "   RespondentID                                           Sentence  \\\n",
       "0    3292953864  It's important for a person to be honest, kind...   \n",
       "1    3292950324  It's important for a person to be honest, kind...   \n",
       "2    3292942669  It's important for a person to be honest, kind...   \n",
       "3    3292932796  It's important for a person to be honest, kind...   \n",
       "4    3292932522  It's important for a person to be honest, kind...   \n",
       "\n",
       "  OxfordCommaHeard OxfordCommaCare  \\\n",
       "0              Yes            Some   \n",
       "1               No        Not much   \n",
       "2              Yes            Some   \n",
       "3              Yes            Some   \n",
       "4               No        Not much   \n",
       "\n",
       "                                          Unnamed: 4 DataPlural  \\\n",
       "0  Some experts say it's important to drink milk,...         No   \n",
       "1  Some experts say it's important to drink milk,...         No   \n",
       "2  Some experts say it's important to drink milk,...        Yes   \n",
       "3  Some experts say it's important to drink milk,...         No   \n",
       "4  Some experts say it's important to drink milk,...         No   \n",
       "\n",
       "  DataPluralCare     GrammarImportance Gender    Age             Income  \\\n",
       "0       Not much    Somewhat important   Male  30-44  $50,000 - $99,999   \n",
       "1       Not much  Somewhat unimportant   Male  30-44  $50,000 - $99,999   \n",
       "2     Not at all        Very important   Male  30-44                NaN   \n",
       "3           Some    Somewhat important   Male  18-29                NaN   \n",
       "4       Not much                   NaN    NaN    NaN                NaN   \n",
       "\n",
       "                      Education            Location  \n",
       "0               Bachelor degree      South Atlantic  \n",
       "1               Graduate degree            Mountain  \n",
       "2                           NaN  East North Central  \n",
       "3  Less than high school degree     Middle Atlantic  \n",
       "4                           NaN                 NaN  "
      ]
     },
     "execution_count": 7,
     "metadata": {},
     "output_type": "execute_result"
    }
   ],
   "source": [
    "df.head()"
   ]
  },
  {
   "cell_type": "code",
   "execution_count": 8,
   "metadata": {
    "collapsed": false,
    "scrolled": false
   },
   "outputs": [],
   "source": [
    "df = df.dropna(subset = ['Gender', 'Age'])\n",
    "series = df.groupby([\"Gender\", \"Age\"]).transform(lambda x: x.fillna(x.value_counts().index[0]))"
   ]
  },
  {
   "cell_type": "code",
   "execution_count": 9,
   "metadata": {
    "collapsed": false
   },
   "outputs": [
    {
     "data": {
      "text/plain": [
       "pandas.core.frame.DataFrame"
      ]
     },
     "execution_count": 9,
     "metadata": {},
     "output_type": "execute_result"
    }
   ],
   "source": [
    "type(series)"
   ]
  },
  {
   "cell_type": "code",
   "execution_count": 10,
   "metadata": {
    "collapsed": false
   },
   "outputs": [],
   "source": [
    "df2 = df.dropna()\n",
    "df3 = pd.get_dummies(series, drop_first= True)"
   ]
  },
  {
   "cell_type": "code",
   "execution_count": 11,
   "metadata": {
    "collapsed": false
   },
   "outputs": [
    {
     "data": {
      "text/html": [
       "<div>\n",
       "<table border=\"1\" class=\"dataframe\">\n",
       "  <thead>\n",
       "    <tr style=\"text-align: right;\">\n",
       "      <th></th>\n",
       "      <th>RespondentID</th>\n",
       "      <th>Oxford Comma Use</th>\n",
       "      <th>Heard of Oxford Comma</th>\n",
       "      <th>Oxford Care - Not at all</th>\n",
       "      <th>Oxford Care - Not much</th>\n",
       "      <th>Oxford Care - Some</th>\n",
       "      <th>Data Use</th>\n",
       "      <th>Data is Plural</th>\n",
       "      <th>Data Plural Care - Not at all</th>\n",
       "      <th>Data Plural Care - Not much</th>\n",
       "      <th>...</th>\n",
       "      <th>Less than HS Degree</th>\n",
       "      <th>Some college/Associate Degree</th>\n",
       "      <th>Location_East South Central</th>\n",
       "      <th>Location_Middle Atlantic</th>\n",
       "      <th>Location_Mountain</th>\n",
       "      <th>Location_New England</th>\n",
       "      <th>Location_Pacific</th>\n",
       "      <th>Location_South Atlantic</th>\n",
       "      <th>Location_West North Central</th>\n",
       "      <th>Location_West South Central</th>\n",
       "    </tr>\n",
       "  </thead>\n",
       "  <tbody>\n",
       "    <tr>\n",
       "      <th>0</th>\n",
       "      <td>3292953864</td>\n",
       "      <td>0.0</td>\n",
       "      <td>1.0</td>\n",
       "      <td>0.0</td>\n",
       "      <td>0.0</td>\n",
       "      <td>1.0</td>\n",
       "      <td>1.0</td>\n",
       "      <td>0.0</td>\n",
       "      <td>0.0</td>\n",
       "      <td>1.0</td>\n",
       "      <td>...</td>\n",
       "      <td>0.0</td>\n",
       "      <td>0.0</td>\n",
       "      <td>0.0</td>\n",
       "      <td>0.0</td>\n",
       "      <td>0.0</td>\n",
       "      <td>0.0</td>\n",
       "      <td>0.0</td>\n",
       "      <td>1.0</td>\n",
       "      <td>0.0</td>\n",
       "      <td>0.0</td>\n",
       "    </tr>\n",
       "  </tbody>\n",
       "</table>\n",
       "<p>1 rows × 31 columns</p>\n",
       "</div>"
      ],
      "text/plain": [
       "   RespondentID  Oxford Comma Use  Heard of Oxford Comma  \\\n",
       "0    3292953864               0.0                    1.0   \n",
       "\n",
       "   Oxford Care - Not at all  Oxford Care - Not much  Oxford Care - Some  \\\n",
       "0                       0.0                     0.0                 1.0   \n",
       "\n",
       "   Data Use  Data is Plural  Data Plural Care - Not at all  \\\n",
       "0       1.0             0.0                            0.0   \n",
       "\n",
       "   Data Plural Care - Not much             ...               \\\n",
       "0                          1.0             ...                \n",
       "\n",
       "   Less than HS Degree  Some college/Associate Degree  \\\n",
       "0                  0.0                            0.0   \n",
       "\n",
       "   Location_East South Central  Location_Middle Atlantic  Location_Mountain  \\\n",
       "0                          0.0                       0.0                0.0   \n",
       "\n",
       "   Location_New England  Location_Pacific  Location_South Atlantic  \\\n",
       "0                   0.0               0.0                      1.0   \n",
       "\n",
       "   Location_West North Central  Location_West South Central  \n",
       "0                          0.0                          0.0  \n",
       "\n",
       "[1 rows x 31 columns]"
      ]
     },
     "execution_count": 11,
     "metadata": {},
     "output_type": "execute_result"
    }
   ],
   "source": [
    "#rename column names\n",
    "df3 = df3.rename(index = str, columns ={\"Sentence_It's important for a person to be honest, kind, and loyal.\": \"Oxford Comma Use\", \n",
    "                                        \"OxfordCommaHeard_Yes\":\"Heard of Oxford Comma\",\n",
    "                                        \"OxfordCommaCare_Not at all\" : \"Oxford Care - Not at all\", \n",
    "                                        \"OxfordCommaCare_Not much\" : \"Oxford Care - Not much\",\n",
    "                                        \"OxfordCommaCare_Some\" : \"Oxford Care - Some\",\n",
    "                                        \"Unnamed: 4_Some experts say it's important to drink milk, but the data is inconclusive.\" : \"Data Use\",\n",
    "                                        \"DataPlural_Yes\": \"Data is Plural\",\n",
    "                                        \"DataPluralCare_Not at all\": \"Data Plural Care - Not at all\",\n",
    "                                        \"DataPluralCare_Not much\" : \"Data Plural Care - Not much\",\n",
    "                                        \"DataPluralCare_Some\" : \"Data Plural Care - Some\",\n",
    "                                        \"GrammarImportance_Somewhat important\": \"Grammar - Somewhat Important\",\n",
    "                                        \"GrammarImportance_Somewhat unimportant\": \"Grammar - Somewhat Unimportant\",\n",
    "                                        \"GrammarImportance_Very important\": \"Grammar - Very Important\",\n",
    "                                        \"GrammarImportance_Very unimportant\": \"Grammar - Very Unimportant\",\n",
    "                                        \"Education_Graduate degree\": \"Graduate Degree\",\n",
    "                                        \"Education_High school degree\" : \"High School Degree\", \n",
    "                                        \"Education_Less than high school degree\" : \"Less than HS Degree\",\n",
    "                                        \"Education_Some college or Associate degree\": \"Some college/Associate Degree\"})\n",
    "df3.head(1)"
   ]
  },
  {
   "cell_type": "code",
   "execution_count": 12,
   "metadata": {
    "collapsed": false
   },
   "outputs": [],
   "source": [
    "df3.to_csv('clean_data.csv')\n",
    "y = df3[\"Oxford Comma Use\"]\n",
    "x = df3.drop([\"Oxford Comma Use\", \"RespondentID\"], axis=1)\n",
    "x_train, x_test, y_train, y_test = train_test_split(x, y, test_size = .2, random_state=42, stratify=y)"
   ]
  },
  {
   "cell_type": "code",
   "execution_count": 20,
   "metadata": {
    "collapsed": false
   },
   "outputs": [
    {
     "data": {
      "text/html": [
       "<div>\n",
       "<table border=\"1\" class=\"dataframe\">\n",
       "  <thead>\n",
       "    <tr style=\"text-align: right;\">\n",
       "      <th></th>\n",
       "      <th>RespondentID</th>\n",
       "      <th>Sentence</th>\n",
       "      <th>OxfordCommaHeard</th>\n",
       "      <th>OxfordCommaCare</th>\n",
       "      <th>Unnamed: 4</th>\n",
       "      <th>DataPlural</th>\n",
       "      <th>DataPluralCare</th>\n",
       "      <th>GrammarImportance</th>\n",
       "      <th>Gender</th>\n",
       "      <th>Age</th>\n",
       "      <th>Income</th>\n",
       "      <th>Education</th>\n",
       "      <th>Location</th>\n",
       "    </tr>\n",
       "  </thead>\n",
       "  <tbody>\n",
       "    <tr>\n",
       "      <th>0</th>\n",
       "      <td>3292953864</td>\n",
       "      <td>Not Used</td>\n",
       "      <td>Yes</td>\n",
       "      <td>Some</td>\n",
       "      <td>Some experts say it's important to drink milk,...</td>\n",
       "      <td>No</td>\n",
       "      <td>Not much</td>\n",
       "      <td>Somewhat important</td>\n",
       "      <td>Male</td>\n",
       "      <td>30-44</td>\n",
       "      <td>$50,000 - $99,999</td>\n",
       "      <td>Bachelor degree</td>\n",
       "      <td>South Atlantic</td>\n",
       "    </tr>\n",
       "    <tr>\n",
       "      <th>1</th>\n",
       "      <td>3292950324</td>\n",
       "      <td>Used</td>\n",
       "      <td>No</td>\n",
       "      <td>Not much</td>\n",
       "      <td>Some experts say it's important to drink milk,...</td>\n",
       "      <td>No</td>\n",
       "      <td>Not much</td>\n",
       "      <td>Somewhat unimportant</td>\n",
       "      <td>Male</td>\n",
       "      <td>30-44</td>\n",
       "      <td>$50,000 - $99,999</td>\n",
       "      <td>Graduate degree</td>\n",
       "      <td>Mountain</td>\n",
       "    </tr>\n",
       "    <tr>\n",
       "      <th>5</th>\n",
       "      <td>3292926586</td>\n",
       "      <td>Used</td>\n",
       "      <td>No</td>\n",
       "      <td>A lot</td>\n",
       "      <td>Some experts say it's important to drink milk,...</td>\n",
       "      <td>Yes</td>\n",
       "      <td>Some</td>\n",
       "      <td>Very important</td>\n",
       "      <td>Male</td>\n",
       "      <td>18-29</td>\n",
       "      <td>$25,000 - $49,999</td>\n",
       "      <td>Some college or Associate degree</td>\n",
       "      <td>New England</td>\n",
       "    </tr>\n",
       "    <tr>\n",
       "      <th>6</th>\n",
       "      <td>3292908135</td>\n",
       "      <td>Used</td>\n",
       "      <td>Yes</td>\n",
       "      <td>A lot</td>\n",
       "      <td>Some experts say it's important to drink milk,...</td>\n",
       "      <td>Yes</td>\n",
       "      <td>Some</td>\n",
       "      <td>Very important</td>\n",
       "      <td>Male</td>\n",
       "      <td>18-29</td>\n",
       "      <td>$0 - $24,999</td>\n",
       "      <td>Some college or Associate degree</td>\n",
       "      <td>Pacific</td>\n",
       "    </tr>\n",
       "    <tr>\n",
       "      <th>7</th>\n",
       "      <td>3292869879</td>\n",
       "      <td>Used</td>\n",
       "      <td>Yes</td>\n",
       "      <td>A lot</td>\n",
       "      <td>Some experts say it's important to drink milk,...</td>\n",
       "      <td>No</td>\n",
       "      <td>A lot</td>\n",
       "      <td>Very important</td>\n",
       "      <td>Male</td>\n",
       "      <td>18-29</td>\n",
       "      <td>$25,000 - $49,999</td>\n",
       "      <td>Some college or Associate degree</td>\n",
       "      <td>East North Central</td>\n",
       "    </tr>\n",
       "  </tbody>\n",
       "</table>\n",
       "</div>"
      ],
      "text/plain": [
       "   RespondentID  Sentence OxfordCommaHeard OxfordCommaCare  \\\n",
       "0    3292953864  Not Used              Yes            Some   \n",
       "1    3292950324      Used               No        Not much   \n",
       "5    3292926586      Used               No           A lot   \n",
       "6    3292908135      Used              Yes           A lot   \n",
       "7    3292869879      Used              Yes           A lot   \n",
       "\n",
       "                                          Unnamed: 4 DataPlural  \\\n",
       "0  Some experts say it's important to drink milk,...         No   \n",
       "1  Some experts say it's important to drink milk,...         No   \n",
       "5  Some experts say it's important to drink milk,...        Yes   \n",
       "6  Some experts say it's important to drink milk,...        Yes   \n",
       "7  Some experts say it's important to drink milk,...         No   \n",
       "\n",
       "  DataPluralCare     GrammarImportance Gender    Age             Income  \\\n",
       "0       Not much    Somewhat important   Male  30-44  $50,000 - $99,999   \n",
       "1       Not much  Somewhat unimportant   Male  30-44  $50,000 - $99,999   \n",
       "5           Some        Very important   Male  18-29  $25,000 - $49,999   \n",
       "6           Some        Very important   Male  18-29       $0 - $24,999   \n",
       "7          A lot        Very important   Male  18-29  $25,000 - $49,999   \n",
       "\n",
       "                          Education            Location  \n",
       "0                   Bachelor degree      South Atlantic  \n",
       "1                   Graduate degree            Mountain  \n",
       "5  Some college or Associate degree         New England  \n",
       "6  Some college or Associate degree             Pacific  \n",
       "7  Some college or Associate degree  East North Central  "
      ]
     },
     "execution_count": 20,
     "metadata": {},
     "output_type": "execute_result"
    }
   ],
   "source": [
    "comma = df2.replace(\"It's important for a person to be honest, kind, and loyal.\", 'Used').replace(\"It's important for a person to be honest, kind and loyal.\", 'Not Used')\n",
    "comma.head()"
   ]
  },
  {
   "cell_type": "code",
   "execution_count": 60,
   "metadata": {
    "collapsed": false
   },
   "outputs": [
    {
     "data": {
      "text/html": [
       "<div>\n",
       "<table border=\"1\" class=\"dataframe\">\n",
       "  <thead>\n",
       "    <tr style=\"text-align: right;\">\n",
       "      <th></th>\n",
       "      <th>Sentence</th>\n",
       "      <th>OxfordCommaHeard</th>\n",
       "      <th>OxfordCommaCare</th>\n",
       "      <th>Unnamed: 4</th>\n",
       "      <th>DataPlural</th>\n",
       "      <th>DataPluralCare</th>\n",
       "      <th>GrammarImportance</th>\n",
       "      <th>Gender</th>\n",
       "      <th>Age</th>\n",
       "      <th>Income</th>\n",
       "      <th>Education</th>\n",
       "      <th>Location</th>\n",
       "    </tr>\n",
       "  </thead>\n",
       "  <tbody>\n",
       "    <tr>\n",
       "      <th>count</th>\n",
       "      <td>825</td>\n",
       "      <td>825</td>\n",
       "      <td>825</td>\n",
       "      <td>825</td>\n",
       "      <td>825</td>\n",
       "      <td>825</td>\n",
       "      <td>825</td>\n",
       "      <td>825</td>\n",
       "      <td>825</td>\n",
       "      <td>825</td>\n",
       "      <td>825</td>\n",
       "      <td>825</td>\n",
       "    </tr>\n",
       "    <tr>\n",
       "      <th>unique</th>\n",
       "      <td>2</td>\n",
       "      <td>2</td>\n",
       "      <td>4</td>\n",
       "      <td>2</td>\n",
       "      <td>2</td>\n",
       "      <td>4</td>\n",
       "      <td>5</td>\n",
       "      <td>2</td>\n",
       "      <td>4</td>\n",
       "      <td>5</td>\n",
       "      <td>5</td>\n",
       "      <td>9</td>\n",
       "    </tr>\n",
       "    <tr>\n",
       "      <th>top</th>\n",
       "      <td>Used</td>\n",
       "      <td>Yes</td>\n",
       "      <td>Some</td>\n",
       "      <td>Some experts say it's important to drink milk,...</td>\n",
       "      <td>Yes</td>\n",
       "      <td>Not much</td>\n",
       "      <td>Very important</td>\n",
       "      <td>Female</td>\n",
       "      <td>45-60</td>\n",
       "      <td>$50,000 - $99,999</td>\n",
       "      <td>Bachelor degree</td>\n",
       "      <td>Pacific</td>\n",
       "    </tr>\n",
       "    <tr>\n",
       "      <th>freq</th>\n",
       "      <td>470</td>\n",
       "      <td>497</td>\n",
       "      <td>311</td>\n",
       "      <td>661</td>\n",
       "      <td>419</td>\n",
       "      <td>321</td>\n",
       "      <td>531</td>\n",
       "      <td>436</td>\n",
       "      <td>248</td>\n",
       "      <td>286</td>\n",
       "      <td>279</td>\n",
       "      <td>151</td>\n",
       "    </tr>\n",
       "  </tbody>\n",
       "</table>\n",
       "</div>"
      ],
      "text/plain": [
       "       Sentence OxfordCommaHeard OxfordCommaCare  \\\n",
       "count       825              825             825   \n",
       "unique        2                2               4   \n",
       "top        Used              Yes            Some   \n",
       "freq        470              497             311   \n",
       "\n",
       "                                               Unnamed: 4 DataPlural  \\\n",
       "count                                                 825        825   \n",
       "unique                                                  2          2   \n",
       "top     Some experts say it's important to drink milk,...        Yes   \n",
       "freq                                                  661        419   \n",
       "\n",
       "       DataPluralCare GrammarImportance  Gender    Age             Income  \\\n",
       "count             825               825     825    825                825   \n",
       "unique              4                 5       2      4                  5   \n",
       "top          Not much    Very important  Female  45-60  $50,000 - $99,999   \n",
       "freq              321               531     436    248                286   \n",
       "\n",
       "              Education Location  \n",
       "count               825      825  \n",
       "unique                5        9  \n",
       "top     Bachelor degree  Pacific  \n",
       "freq                279      151  "
      ]
     },
     "execution_count": 60,
     "metadata": {},
     "output_type": "execute_result"
    }
   ],
   "source": [
    "#explore data\n",
    "comma.describe(include=['O'])"
   ]
  },
  {
   "cell_type": "code",
   "execution_count": 21,
   "metadata": {
    "collapsed": false
   },
   "outputs": [
    {
     "data": {
      "image/png": "[encoded data removed]",
      "text/plain": [
       "<matplotlib.figure.Figure at 0xde35400>"
      ]
     },
     "metadata": {},
     "output_type": "display_data"
    }
   ],
   "source": [
    "sns.countplot(x=\"Age\", data=comma, hue = 'Sentence', order = ['18-29', '30-44', '45-60', '> 60']);"
   ]
  },
  {
   "cell_type": "code",
   "execution_count": 23,
   "metadata": {
    "collapsed": false
   },
   "outputs": [
    {
     "data": {
      "text/plain": [
       "<seaborn.axisgrid.FacetGrid at 0xe193a58>"
      ]
     },
     "execution_count": 23,
     "metadata": {},
     "output_type": "execute_result"
    },
    {
     "data": {
      "image/png": "[encoded data removed]",
      "text/plain": [
       "<matplotlib.figure.Figure at 0xe949048>"
      ]
     },
     "metadata": {},
     "output_type": "display_data"
    }
   ],
   "source": [
    "sns.factorplot(x=\"Age\", col=\"Education\", hue = 'Gender', data=comma,\n",
    "               kind=\"count\", size=4, aspect=1, ci=None, col_wrap = 5, legend_out =True,\n",
    "               #col_order = ['$0 - $24,999', '$25,000 - $49,999', '$50,000 - $99,999', '$100,000 - $149,999', '$150,000+'],\n",
    "               col_order = ['Less than high school degree', 'High school degree', 'Some college or Associate degree', 'Bachelor degree', 'Graduate degree'],\n",
    "               order = ['18-29', '30-44', '45-60', '> 60'],\n",
    "               #hue_order = ['Very unimportant', 'Somewhat unimportant', 'Neither important nor unimportant (neutral)', 'Somewhat important', 'Very important']\n",
    "              )"
   ]
  },
  {
   "cell_type": "code",
   "execution_count": 33,
   "metadata": {
    "collapsed": false
   },
   "outputs": [],
   "source": [
    "def comparison_graph_comma(x, y, hue, wrap):\n",
    "    Age_order = ['18-29', '30-44', '45-60', '> 60']\n",
    "    Income_order = ['$0 - $24,999', '$25,000 - $49,999', '$50,000 - $99,999', '$100,000 - $149,999', '$150,000+']\n",
    "    Education_order = ['Less than high school degree', 'High school degree', 'Some college or Associate degree', 'Bachelor degree', 'Graduate degree']\n",
    "    Grammar_order = ['Very unimportant', 'Somewhat unimportant', 'Neither important nor unimportant (neutral)', 'Somewhat important', 'Very important']\n",
    "    Gender_order = ['Male', 'Female']\n",
    "    Sentence_order = ['Used', 'Not Used']\n",
    "    Location_order = ['East North Central', 'East South Central', 'Middle Atlantic', 'Mountain', 'New England', 'Pacific', 'South Atlantic', 'West North Central', 'West South Central']\n",
    "    Heard_order = ['Yes', 'No']\n",
    "    Care_order = ['Not at all', 'Not much', 'Some', 'A lot']\n",
    "    \n",
    "    if x == 'Age':\n",
    "        x_order = Age_order\n",
    "    if x == 'Income':\n",
    "        x_order = Income_order\n",
    "    if x == 'Education':\n",
    "        x_order = Education_order\n",
    "    if x == 'GrammarImportance':\n",
    "        x_order = Grammar_order\n",
    "    if x == 'Gender':\n",
    "        x_order = Gender_order\n",
    "    if x == 'Sentence':\n",
    "        x_order = Sentence_order\n",
    "    if x == 'Location':\n",
    "        x_order = Location_order\n",
    "    if x == 'OxfordCommaHeard':\n",
    "        x_order = Heard_order\n",
    "    if x =='OxfordCommaCare':\n",
    "        x_order = Care_order\n",
    "        \n",
    "    if y == 'Age':\n",
    "        y_order = Age_order\n",
    "    if y == 'Income':\n",
    "        y_order = Income_order\n",
    "    if y == 'Education':\n",
    "        y_order = Education_order\n",
    "    if y == 'GrammarImportance':\n",
    "        y_order = Grammar_order\n",
    "    if y == 'Gender':\n",
    "        y_order = Gender_order\n",
    "    if y == 'Sentence':\n",
    "        y_order = Sentence_order\n",
    "    if y == 'Location':\n",
    "        y_order = Location_order\n",
    "    if y == 'OxfordCommaHeard':\n",
    "        y_order = Heard_order\n",
    "    if y =='OxfordCommaCare':\n",
    "        y_order = Care_order\n",
    "        \n",
    "    if hue == 'Age':\n",
    "        hue_ordered = Age_order\n",
    "    if hue == 'Income':\n",
    "        hue_ordered = Income_order\n",
    "    if hue == 'Education':\n",
    "        hue_ordered = Education_order\n",
    "    if hue == 'GrammarImportance':\n",
    "        hue_ordered = Grammar_order\n",
    "    if hue == 'Gender':\n",
    "        hue_ordered = Gender_order\n",
    "    if hue == 'Sentence':\n",
    "        hue_ordered = Sentence_order\n",
    "    if hue == 'Location':\n",
    "        hue_ordered = Location_order\n",
    "    if hue == 'OxfordCommaHeard':\n",
    "        hue_ordered = Heard_order\n",
    "    if hue =='OxfordCommaCare':\n",
    "        hue_ordered = Care_order\n",
    "    \n",
    "    sns.factorplot(x=x, col=y, hue = hue, data=comma,\n",
    "               kind=\"count\", size=4, aspect=1, ci=None, col_wrap = wrap, legend_out =True,\n",
    "               col_order = y_order, order = x_order, hue_order = hue_ordered)\n",
    "\n"
   ]
  },
  {
   "cell_type": "code",
   "execution_count": 32,
   "metadata": {
    "collapsed": false
   },
   "outputs": [
    {
     "data": {
      "image/png": "[encoded data removed]",
      "text/plain": [
       "<matplotlib.figure.Figure at 0xe066390>"
      ]
     },
     "metadata": {},
     "output_type": "display_data"
    }
   ],
   "source": [
    "comparison_graph_comma('OxfordCommaHeard', 'OxfordCommaCare', 'Sentence', 4)"
   ]
  },
  {
   "cell_type": "code",
   "execution_count": null,
   "metadata": {
    "collapsed": true
   },
   "outputs": [],
   "source": []
  }
 ],
 "metadata": {
  "anaconda-cloud": {},
  "kernelspec": {
   "display_name": "Python [conda root]",
   "language": "python",
   "name": "conda-root-py"
  },
  "language_info": {
   "codemirror_mode": {
    "name": "ipython",
    "version": 3
   },
   "file_extension": ".py",
   "mimetype": "text/x-python",
   "name": "python",
   "nbconvert_exporter": "python",
   "pygments_lexer": "ipython3",
   "version": "3.5.2"
  }
 },
 "nbformat": 4,
 "nbformat_minor": 1
}
