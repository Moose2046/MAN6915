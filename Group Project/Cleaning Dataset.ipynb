{
 "cells": [
  {
   "cell_type": "code",
   "execution_count": 2,
   "metadata": {
    "collapsed": false,
    "scrolled": true
   },
   "outputs": [],
   "source": [
    "import pandas as pd\n",
    "import numpy as np\n",
    "from sklearn import linear_model, datasets\n",
    "from sklearn.model_selection import train_test_split \n",
    "%matplotlib inline\n",
    "import matplotlib.pyplot as plt\n",
    "import seaborn as sns"
   ]
  },
  {
   "cell_type": "code",
   "execution_count": 3,
   "metadata": {
    "collapsed": true
   },
   "outputs": [],
   "source": [
    "df = pd.read_csv('Comma Data Updated Headers.csv')"
   ]
  },
  {
   "cell_type": "code",
   "execution_count": 4,
   "metadata": {
    "collapsed": false
   },
   "outputs": [
    {
     "data": {
      "text/html": [
       "<div>\n",
       "<table border=\"1\" class=\"dataframe\">\n",
       "  <thead>\n",
       "    <tr style=\"text-align: right;\">\n",
       "      <th></th>\n",
       "      <th>RespondentID</th>\n",
       "      <th>Sentence</th>\n",
       "      <th>OxfordCommaHeard</th>\n",
       "      <th>OxfordCommaCare</th>\n",
       "      <th>Unnamed: 4</th>\n",
       "      <th>DataPlural</th>\n",
       "      <th>DataPluralCare</th>\n",
       "      <th>GrammarImportance</th>\n",
       "      <th>Gender</th>\n",
       "      <th>Age</th>\n",
       "      <th>Income</th>\n",
       "      <th>Education</th>\n",
       "      <th>Location</th>\n",
       "    </tr>\n",
       "  </thead>\n",
       "  <tbody>\n",
       "    <tr>\n",
       "      <th>0</th>\n",
       "      <td>3292953864</td>\n",
       "      <td>It's important for a person to be honest, kind...</td>\n",
       "      <td>Yes</td>\n",
       "      <td>Some</td>\n",
       "      <td>Some experts say it's important to drink milk,...</td>\n",
       "      <td>No</td>\n",
       "      <td>Not much</td>\n",
       "      <td>Somewhat important</td>\n",
       "      <td>Male</td>\n",
       "      <td>30-44</td>\n",
       "      <td>$50,000 - $99,999</td>\n",
       "      <td>Bachelor degree</td>\n",
       "      <td>South Atlantic</td>\n",
       "    </tr>\n",
       "    <tr>\n",
       "      <th>1</th>\n",
       "      <td>3292950324</td>\n",
       "      <td>It's important for a person to be honest, kind...</td>\n",
       "      <td>No</td>\n",
       "      <td>Not much</td>\n",
       "      <td>Some experts say it's important to drink milk,...</td>\n",
       "      <td>No</td>\n",
       "      <td>Not much</td>\n",
       "      <td>Somewhat unimportant</td>\n",
       "      <td>Male</td>\n",
       "      <td>30-44</td>\n",
       "      <td>$50,000 - $99,999</td>\n",
       "      <td>Graduate degree</td>\n",
       "      <td>Mountain</td>\n",
       "    </tr>\n",
       "    <tr>\n",
       "      <th>2</th>\n",
       "      <td>3292942669</td>\n",
       "      <td>It's important for a person to be honest, kind...</td>\n",
       "      <td>Yes</td>\n",
       "      <td>Some</td>\n",
       "      <td>Some experts say it's important to drink milk,...</td>\n",
       "      <td>Yes</td>\n",
       "      <td>Not at all</td>\n",
       "      <td>Very important</td>\n",
       "      <td>Male</td>\n",
       "      <td>30-44</td>\n",
       "      <td>NaN</td>\n",
       "      <td>NaN</td>\n",
       "      <td>East North Central</td>\n",
       "    </tr>\n",
       "    <tr>\n",
       "      <th>3</th>\n",
       "      <td>3292932796</td>\n",
       "      <td>It's important for a person to be honest, kind...</td>\n",
       "      <td>Yes</td>\n",
       "      <td>Some</td>\n",
       "      <td>Some experts say it's important to drink milk,...</td>\n",
       "      <td>No</td>\n",
       "      <td>Some</td>\n",
       "      <td>Somewhat important</td>\n",
       "      <td>Male</td>\n",
       "      <td>18-29</td>\n",
       "      <td>NaN</td>\n",
       "      <td>Less than high school degree</td>\n",
       "      <td>Middle Atlantic</td>\n",
       "    </tr>\n",
       "    <tr>\n",
       "      <th>4</th>\n",
       "      <td>3292932522</td>\n",
       "      <td>It's important for a person to be honest, kind...</td>\n",
       "      <td>No</td>\n",
       "      <td>Not much</td>\n",
       "      <td>Some experts say it's important to drink milk,...</td>\n",
       "      <td>No</td>\n",
       "      <td>Not much</td>\n",
       "      <td>NaN</td>\n",
       "      <td>NaN</td>\n",
       "      <td>NaN</td>\n",
       "      <td>NaN</td>\n",
       "      <td>NaN</td>\n",
       "      <td>NaN</td>\n",
       "    </tr>\n",
       "  </tbody>\n",
       "</table>\n",
       "</div>"
      ],
      "text/plain": [
       "   RespondentID                                           Sentence  \\\n",
       "0    3292953864  It's important for a person to be honest, kind...   \n",
       "1    3292950324  It's important for a person to be honest, kind...   \n",
       "2    3292942669  It's important for a person to be honest, kind...   \n",
       "3    3292932796  It's important for a person to be honest, kind...   \n",
       "4    3292932522  It's important for a person to be honest, kind...   \n",
       "\n",
       "  OxfordCommaHeard OxfordCommaCare  \\\n",
       "0              Yes            Some   \n",
       "1               No        Not much   \n",
       "2              Yes            Some   \n",
       "3              Yes            Some   \n",
       "4               No        Not much   \n",
       "\n",
       "                                          Unnamed: 4 DataPlural  \\\n",
       "0  Some experts say it's important to drink milk,...         No   \n",
       "1  Some experts say it's important to drink milk,...         No   \n",
       "2  Some experts say it's important to drink milk,...        Yes   \n",
       "3  Some experts say it's important to drink milk,...         No   \n",
       "4  Some experts say it's important to drink milk,...         No   \n",
       "\n",
       "  DataPluralCare     GrammarImportance Gender    Age             Income  \\\n",
       "0       Not much    Somewhat important   Male  30-44  $50,000 - $99,999   \n",
       "1       Not much  Somewhat unimportant   Male  30-44  $50,000 - $99,999   \n",
       "2     Not at all        Very important   Male  30-44                NaN   \n",
       "3           Some    Somewhat important   Male  18-29                NaN   \n",
       "4       Not much                   NaN    NaN    NaN                NaN   \n",
       "\n",
       "                      Education            Location  \n",
       "0               Bachelor degree      South Atlantic  \n",
       "1               Graduate degree            Mountain  \n",
       "2                           NaN  East North Central  \n",
       "3  Less than high school degree     Middle Atlantic  \n",
       "4                           NaN                 NaN  "
      ]
     },
     "execution_count": 4,
     "metadata": {},
     "output_type": "execute_result"
    }
   ],
   "source": [
    "df.head()"
   ]
  },
  {
   "cell_type": "code",
   "execution_count": 5,
   "metadata": {
    "collapsed": false,
    "scrolled": false
   },
   "outputs": [],
   "source": [
    "df = df.dropna(subset = ['Gender', 'Age'])\n",
    "series = df.groupby([\"Gender\", \"Age\"]).transform(lambda x: x.fillna(x.value_counts().index[0]))"
   ]
  },
  {
   "cell_type": "code",
   "execution_count": 6,
   "metadata": {
    "collapsed": false
   },
   "outputs": [
    {
     "data": {
      "text/plain": [
       "pandas.core.frame.DataFrame"
      ]
     },
     "execution_count": 6,
     "metadata": {},
     "output_type": "execute_result"
    }
   ],
   "source": [
    "type(series)"
   ]
  },
  {
   "cell_type": "code",
   "execution_count": 7,
   "metadata": {
    "collapsed": false
   },
   "outputs": [
    {
     "data": {
      "text/html": [
       "<div>\n",
       "<table border=\"1\" class=\"dataframe\">\n",
       "  <thead>\n",
       "    <tr style=\"text-align: right;\">\n",
       "      <th></th>\n",
       "      <th>RespondentID</th>\n",
       "      <th>Sentence_It's important for a person to be honest, kind and loyal.</th>\n",
       "      <th>Sentence_It's important for a person to be honest, kind, and loyal.</th>\n",
       "      <th>OxfordCommaHeard_No</th>\n",
       "      <th>OxfordCommaHeard_Yes</th>\n",
       "      <th>OxfordCommaCare_A lot</th>\n",
       "      <th>OxfordCommaCare_Not at all</th>\n",
       "      <th>OxfordCommaCare_Not much</th>\n",
       "      <th>OxfordCommaCare_Some</th>\n",
       "      <th>Unnamed: 4_Some experts say it's important to drink milk, but the data are inconclusive.</th>\n",
       "      <th>...</th>\n",
       "      <th>Education_Some college or Associate degree</th>\n",
       "      <th>Location_East North Central</th>\n",
       "      <th>Location_East South Central</th>\n",
       "      <th>Location_Middle Atlantic</th>\n",
       "      <th>Location_Mountain</th>\n",
       "      <th>Location_New England</th>\n",
       "      <th>Location_Pacific</th>\n",
       "      <th>Location_South Atlantic</th>\n",
       "      <th>Location_West North Central</th>\n",
       "      <th>Location_West South Central</th>\n",
       "    </tr>\n",
       "  </thead>\n",
       "  <tbody>\n",
       "    <tr>\n",
       "      <th>0</th>\n",
       "      <td>3292953864</td>\n",
       "      <td>1.0</td>\n",
       "      <td>0.0</td>\n",
       "      <td>0.0</td>\n",
       "      <td>1.0</td>\n",
       "      <td>0.0</td>\n",
       "      <td>0.0</td>\n",
       "      <td>0.0</td>\n",
       "      <td>1.0</td>\n",
       "      <td>0.0</td>\n",
       "      <td>...</td>\n",
       "      <td>0.0</td>\n",
       "      <td>0.0</td>\n",
       "      <td>0.0</td>\n",
       "      <td>0.0</td>\n",
       "      <td>0.0</td>\n",
       "      <td>0.0</td>\n",
       "      <td>0.0</td>\n",
       "      <td>1.0</td>\n",
       "      <td>0.0</td>\n",
       "      <td>0.0</td>\n",
       "    </tr>\n",
       "  </tbody>\n",
       "</table>\n",
       "<p>1 rows × 41 columns</p>\n",
       "</div>"
      ],
      "text/plain": [
       "   RespondentID  \\\n",
       "0    3292953864   \n",
       "\n",
       "   Sentence_It's important for a person to be honest, kind and loyal.  \\\n",
       "0                                                1.0                    \n",
       "\n",
       "   Sentence_It's important for a person to be honest, kind, and loyal.  \\\n",
       "0                                                0.0                     \n",
       "\n",
       "   OxfordCommaHeard_No  OxfordCommaHeard_Yes  OxfordCommaCare_A lot  \\\n",
       "0                  0.0                   1.0                    0.0   \n",
       "\n",
       "   OxfordCommaCare_Not at all  OxfordCommaCare_Not much  OxfordCommaCare_Some  \\\n",
       "0                         0.0                       0.0                   1.0   \n",
       "\n",
       "   Unnamed: 4_Some experts say it's important to drink milk, but the data are inconclusive.  \\\n",
       "0                                                0.0                                          \n",
       "\n",
       "              ...               Education_Some college or Associate degree  \\\n",
       "0             ...                                                      0.0   \n",
       "\n",
       "   Location_East North Central  Location_East South Central  \\\n",
       "0                          0.0                          0.0   \n",
       "\n",
       "   Location_Middle Atlantic  Location_Mountain  Location_New England  \\\n",
       "0                       0.0                0.0                   0.0   \n",
       "\n",
       "   Location_Pacific  Location_South Atlantic  Location_West North Central  \\\n",
       "0               0.0                      1.0                          0.0   \n",
       "\n",
       "   Location_West South Central  \n",
       "0                          0.0  \n",
       "\n",
       "[1 rows x 41 columns]"
      ]
     },
     "execution_count": 7,
     "metadata": {},
     "output_type": "execute_result"
    }
   ],
   "source": [
    "df2 = series.dropna()\n",
    "df3 = pd.get_dummies(series)\n",
    "df3.head(1)"
   ]
  },
  {
   "cell_type": "code",
   "execution_count": 8,
   "metadata": {
    "collapsed": false
   },
   "outputs": [
    {
     "data": {
      "text/html": [
       "<div>\n",
       "<table border=\"1\" class=\"dataframe\">\n",
       "  <thead>\n",
       "    <tr style=\"text-align: right;\">\n",
       "      <th></th>\n",
       "      <th>RespondentID</th>\n",
       "      <th>Sentence_It's important for a person to be honest, kind and loyal.</th>\n",
       "      <th>Oxford Comma Use</th>\n",
       "      <th>Heard of Oxford Comma No</th>\n",
       "      <th>Heard of Oxford Comma</th>\n",
       "      <th>Oxford Care - A Lot</th>\n",
       "      <th>Oxford Care - Not at all</th>\n",
       "      <th>Oxford Care - Not much</th>\n",
       "      <th>Oxford Care - Some</th>\n",
       "      <th>Unnamed: 4_Some experts say it's important to drink milk, but the data are inconclusive.</th>\n",
       "      <th>...</th>\n",
       "      <th>Some college/Associate Degree</th>\n",
       "      <th>Location_East North Central</th>\n",
       "      <th>Location_East South Central</th>\n",
       "      <th>Location_Middle Atlantic</th>\n",
       "      <th>Location_Mountain</th>\n",
       "      <th>Location_New England</th>\n",
       "      <th>Location_Pacific</th>\n",
       "      <th>Location_South Atlantic</th>\n",
       "      <th>Location_West North Central</th>\n",
       "      <th>Location_West South Central</th>\n",
       "    </tr>\n",
       "  </thead>\n",
       "  <tbody>\n",
       "    <tr>\n",
       "      <th>0</th>\n",
       "      <td>3292953864</td>\n",
       "      <td>1.0</td>\n",
       "      <td>0.0</td>\n",
       "      <td>0.0</td>\n",
       "      <td>1.0</td>\n",
       "      <td>0.0</td>\n",
       "      <td>0.0</td>\n",
       "      <td>0.0</td>\n",
       "      <td>1.0</td>\n",
       "      <td>0.0</td>\n",
       "      <td>...</td>\n",
       "      <td>0.0</td>\n",
       "      <td>0.0</td>\n",
       "      <td>0.0</td>\n",
       "      <td>0.0</td>\n",
       "      <td>0.0</td>\n",
       "      <td>0.0</td>\n",
       "      <td>0.0</td>\n",
       "      <td>1.0</td>\n",
       "      <td>0.0</td>\n",
       "      <td>0.0</td>\n",
       "    </tr>\n",
       "  </tbody>\n",
       "</table>\n",
       "<p>1 rows × 41 columns</p>\n",
       "</div>"
      ],
      "text/plain": [
       "   RespondentID  \\\n",
       "0    3292953864   \n",
       "\n",
       "   Sentence_It's important for a person to be honest, kind and loyal.  \\\n",
       "0                                                1.0                    \n",
       "\n",
       "   Oxford Comma Use  Heard of Oxford Comma No  Heard of Oxford Comma  \\\n",
       "0               0.0                       0.0                    1.0   \n",
       "\n",
       "   Oxford Care - A Lot  Oxford Care - Not at all  Oxford Care - Not much  \\\n",
       "0                  0.0                       0.0                     0.0   \n",
       "\n",
       "   Oxford Care - Some  \\\n",
       "0                 1.0   \n",
       "\n",
       "   Unnamed: 4_Some experts say it's important to drink milk, but the data are inconclusive.  \\\n",
       "0                                                0.0                                          \n",
       "\n",
       "              ...               Some college/Associate Degree  \\\n",
       "0             ...                                         0.0   \n",
       "\n",
       "   Location_East North Central  Location_East South Central  \\\n",
       "0                          0.0                          0.0   \n",
       "\n",
       "   Location_Middle Atlantic  Location_Mountain  Location_New England  \\\n",
       "0                       0.0                0.0                   0.0   \n",
       "\n",
       "   Location_Pacific  Location_South Atlantic  Location_West North Central  \\\n",
       "0               0.0                      1.0                          0.0   \n",
       "\n",
       "   Location_West South Central  \n",
       "0                          0.0  \n",
       "\n",
       "[1 rows x 41 columns]"
      ]
     },
     "execution_count": 8,
     "metadata": {},
     "output_type": "execute_result"
    }
   ],
   "source": [
    "#rename column names\n",
    "df3 = df3.rename(index = str, columns ={\"Sentence_It's important for a person to be honest, kind, and loyal.\": \"Oxford Comma Use\", \n",
    "                                        \"OxfordCommaHeard_No\": \"Heard of Oxford Comma No\",\n",
    "                                        \"OxfordCommaHeard_Yes\":\"Heard of Oxford Comma\",\n",
    "                                        \"OxfordCommaCare_Not at all\" : \"Oxford Care - Not at all\", \n",
    "                                        \"OxfordCommaCare_Not much\" : \"Oxford Care - Not much\",\n",
    "                                        \"OxfordCommaCare_A lot\": \"Oxford Care - A Lot\",\n",
    "                                        \"OxfordCommaCare_Some\" : \"Oxford Care - Some\",\n",
    "                                        \"Unnamed: 4_Some experts say it's important to drink milk, but the data is inconclusive.\" : \"Data Use\",\n",
    "                                        \"DataPlural_No\": \"Data is not Plural\",\n",
    "                                        \"DataPlural_Yes\": \"Data is Plural\",\n",
    "                                        \"DataPluralCare_A lot\":  \"Data Plural Care -A lot\",\n",
    "                                        \"DataPluralCare_Not at all\": \"Data Plural Care - Not at all\",\n",
    "                                        \"DataPluralCare_Not much\" : \"Data Plural Care - Not much\",\n",
    "                                        \"DataPluralCare_Some\" : \"Data Plural Care - Some\",\n",
    "                                        \"GrammarImportance_Neither important nor unimportant (neutral)\": \"Grammar - neutral\",\n",
    "                                        \"GrammarImportance_Somewhat important\": \"Grammar - Somewhat Important\",\n",
    "                                        \"GrammarImportance_Somewhat unimportant\": \"Grammar - Somewhat Unimportant\",\n",
    "                                        \"GrammarImportance_Very important\": \"Grammar - Very Important\",\n",
    "                                        \"GrammarImportance_Very unimportant\": \"Grammar - Very Unimportant\",\n",
    "                                        \"Education_Bachelor degree\": \"Bachelor Degree\",\n",
    "                                        \"Education_Graduate degree\": \"Graduate Degree\",\n",
    "                                        \"Education_High school degree\" : \"High School Degree\", \n",
    "                                        \"Education_Less than high school degree\" : \"Less than HS Degree\",\n",
    "                                        \"Education_Some college or Associate degree\": \"Some college/Associate Degree\"})\n",
    "df3.head(1)"
   ]
  },
  {
   "cell_type": "code",
   "execution_count": 9,
   "metadata": {
    "collapsed": true
   },
   "outputs": [],
   "source": [
    "df3.to_csv('clean_data.csv')"
   ]
  },
  {
   "cell_type": "code",
   "execution_count": 10,
   "metadata": {
    "collapsed": false
   },
   "outputs": [],
   "source": [
    "y = df3[\"Oxford Comma Use\"]\n",
    "x = df3.drop([\"Oxford Comma Use\", \"RespondentID\"], axis=1)\n",
    "x_train, x_test, y_train, y_test = train_test_split(x, y, test_size = .2, random_state=42, stratify=y)"
   ]
  },
  {
   "cell_type": "code",
   "execution_count": 34,
   "metadata": {
    "collapsed": false
   },
   "outputs": [],
   "source": [
    "comma = df2\n",
    "comma['Sentence'] = comma['Sentence'].replace(\"It's important for a person to be honest, kind, and loyal.\", 1).replace(\"It's important for a person to be honest, kind and loyal.\", 0)"
   ]
  },
  {
   "cell_type": "code",
   "execution_count": 23,
   "metadata": {
    "collapsed": false
   },
   "outputs": [
    {
     "data": {
      "text/plain": [
       "<matplotlib.axes._subplots.AxesSubplot at 0xb4ff2e8>"
      ]
     },
     "execution_count": 23,
     "metadata": {},
     "output_type": "execute_result"
    },
    {
     "data": {
      "image/png": "[encoded data removed]",
      "text/plain": [
       "<matplotlib.figure.Figure at 0xb89b780>"
      ]
     },
     "metadata": {},
     "output_type": "display_data"
    }
   ],
   "source": [
    "sns.barplot(x=\"Gender\", y=\"Sentence\", hue=\"OxfordCommaHeard\", data=comma, ci = None)"
   ]
  },
  {
   "cell_type": "code",
   "execution_count": 24,
   "metadata": {
    "collapsed": false
   },
   "outputs": [
    {
     "data": {
      "image/png": "[encoded data removed]",
      "text/plain": [
       "<matplotlib.figure.Figure at 0xb8cd3c8>"
      ]
     },
     "metadata": {},
     "output_type": "display_data"
    }
   ],
   "source": [
    "sns.countplot(x=\"Age\", data=comma, hue = 'Sentence');"
   ]
  },
  {
   "cell_type": "code",
   "execution_count": 25,
   "metadata": {
    "collapsed": false
   },
   "outputs": [
    {
     "data": {
      "text/plain": [
       "<seaborn.axisgrid.FacetGrid at 0xbe3d208>"
      ]
     },
     "execution_count": 25,
     "metadata": {},
     "output_type": "execute_result"
    },
    {
     "data": {
      "image/png": "[encoded data removed]",
      "text/plain": [
       "<matplotlib.figure.Figure at 0xbe3d1d0>"
      ]
     },
     "metadata": {},
     "output_type": "display_data"
    }
   ],
   "source": [
    "sns.factorplot(x=\"Gender\", y=\"Sentence\", \n",
    "               col=\"Income\", data=comma, kind=\"bar\", size=4, aspect=.5, ci=None)"
   ]
  },
  {
   "cell_type": "code",
   "execution_count": 26,
   "metadata": {
    "collapsed": false
   },
   "outputs": [
    {
     "name": "stdout",
     "output_type": "stream",
     "text": [
      "Number of mislabeled points out of a total 208 points : 0\n"
     ]
    }
   ],
   "source": [
    "from sklearn.naive_bayes import GaussianNB\n",
    "gnb = GaussianNB()\n",
    "y_pred = gnb.fit(x_train, y_train).predict(x_test)\n",
    "print(\"Number of mislabeled points out of a total %d points : %d\"% (x_test.shape[0],(y_test != y_pred).sum()))"
   ]
  },
  {
   "cell_type": "code",
   "execution_count": 37,
   "metadata": {
    "collapsed": false
   },
   "outputs": [
    {
     "name": "stdout",
     "output_type": "stream",
     "text": [
      "{'polynomialfeatures__degree': 1, 'ridge__alpha': 0.1}\n"
     ]
    },
    {
     "data": {
      "text/plain": [
       "0.99532418349814555"
      ]
     },
     "execution_count": 37,
     "metadata": {},
     "output_type": "execute_result"
    }
   ],
   "source": [
    "from sklearn.model_selection import train_test_split, cross_val_score\n",
    "from sklearn.linear_model import Lasso, Ridge\n",
    "from sklearn.preprocessing import PolynomialFeatures, StandardScaler\n",
    "from sklearn.pipeline import make_pipeline\n",
    "from sklearn.model_selection import RandomizedSearchCV, GridSearchCV\n",
    "#Creates params for SearchCV\n",
    "param_grid_Ridge = {'polynomialfeatures__degree': np.arange(3),\n",
    "                    'ridge__alpha': [.1, .2, .3, .4, .5, .6, .7, .8]}\n",
    "#Creates Pipeline \n",
    "ridgeModel = make_pipeline(StandardScaler(),\n",
    "                           PolynomialFeatures(),\n",
    "                           Ridge(max_iter=10000))\n",
    "#Creates Ridge object with the SearchCV\n",
    "ridgeSearch = RandomizedSearchCV(ridgeModel, param_grid_Ridge)\n",
    "#finds best params\n",
    "ridgeSearch.fit(x_train,y_train);\n",
    "#prints best params \n",
    "print(ridgeSearch.best_params_)\n",
    "#scores training and test sets\n",
    "scoresRidgeTrain = cross_val_score(ridgeSearch, x_test, x_test)\n",
    "#prints the score of the training set\n",
    "scoresRidgeTrain.mean()"
   ]
  },
  {
   "cell_type": "code",
   "execution_count": 33,
   "metadata": {
    "collapsed": false
   },
   "outputs": [
    {
     "name": "stdout",
     "output_type": "stream",
     "text": [
      "                            OLS Regression Results                            \n",
      "==============================================================================\n",
      "Dep. Variable:       Oxford Comma Use   R-squared:                       1.000\n",
      "Model:                            OLS   Adj. R-squared:                  1.000\n",
      "Method:                 Least Squares   F-statistic:                 1.979e+30\n",
      "Date:                Wed, 12 Apr 2017   Prob (F-statistic):               0.00\n",
      "Time:                        23:17:49   Log-Likelihood:                 26963.\n",
      "No. Observations:                 829   AIC:                        -5.386e+04\n",
      "Df Residuals:                     798   BIC:                        -5.372e+04\n",
      "Df Model:                          30                                         \n",
      "Covariance Type:            nonrobust                                         \n",
      "============================================================================================================================================================\n",
      "                                                                                               coef    std err          t      P>|t|      [95.0% Conf. Int.]\n",
      "------------------------------------------------------------------------------------------------------------------------------------------------------------\n",
      "Sentence_It's important for a person to be honest, kind and loyal.                          -1.0000   1.41e-16   -7.1e+15      0.000        -1.000    -1.000\n",
      "Heard of Oxford Comma No                                                                     0.1844   9.23e-17      2e+15      0.000         0.184     0.184\n",
      "Heard of Oxford Comma                                                                        0.1844   8.99e-17   2.05e+15      0.000         0.184     0.184\n",
      "Oxford Care - A Lot                                                                          0.0922   1.39e-16   6.64e+14      0.000         0.092     0.092\n",
      "Oxford Care - Not at all                                                                     0.0922   1.87e-16   4.94e+14      0.000         0.092     0.092\n",
      "Oxford Care - Not much                                                                       0.0922   1.25e-16   7.35e+14      0.000         0.092     0.092\n",
      "Oxford Care - Some                                                                           0.0922   1.13e-16   8.19e+14      0.000         0.092     0.092\n",
      "Unnamed: 4_Some experts say it's important to drink milk, but the data are inconclusive.     0.1844    1.1e-16   1.67e+15      0.000         0.184     0.184\n",
      "Data Use                                                                                     0.1844   9.54e-17   1.93e+15      0.000         0.184     0.184\n",
      "Data is not Plural                                                                           0.1844    9.1e-17   2.03e+15      0.000         0.184     0.184\n",
      "Data is Plural                                                                               0.1844   9.45e-17   1.95e+15      0.000         0.184     0.184\n",
      "Data Plural Care -A lot                                                                      0.0922   1.74e-16   5.31e+14      0.000         0.092     0.092\n",
      "Data Plural Care - Not at all                                                                0.0922    1.5e-16   6.14e+14      0.000         0.092     0.092\n",
      "Data Plural Care - Not much                                                                  0.0922   1.11e-16   8.29e+14      0.000         0.092     0.092\n",
      "Data Plural Care - Some                                                                      0.0922   1.16e-16   7.92e+14      0.000         0.092     0.092\n",
      "Grammar - neutral                                                                            0.0738   4.34e-16    1.7e+14      0.000         0.074     0.074\n",
      "Grammar - Somewhat Important                                                                 0.0738   2.85e-16   2.59e+14      0.000         0.074     0.074\n",
      "Grammar - Somewhat Unimportant                                                               0.0738   7.17e-16   1.03e+14      0.000         0.074     0.074\n",
      "Grammar - Very Important                                                                     0.0738   2.84e-16    2.6e+14      0.000         0.074     0.074\n",
      "Grammar - Very Unimportant                                                                   0.0738   9.08e-16   8.12e+13      0.000         0.074     0.074\n",
      "Income_$0 - $24,999                                                                          0.0738   1.51e-16   4.88e+14      0.000         0.074     0.074\n",
      "Income_$100,000 - $149,999                                                                   0.0738    1.5e-16   4.93e+14      0.000         0.074     0.074\n",
      "Income_$150,000+                                                                             0.0738   1.88e-16   3.92e+14      0.000         0.074     0.074\n",
      "Income_$25,000 - $49,999                                                                     0.0738   1.49e-16   4.95e+14      0.000         0.074     0.074\n",
      "Income_$50,000 - $99,999                                                                     0.0738   1.09e-16   6.77e+14      0.000         0.074     0.074\n",
      "Bachelor Degree                                                                              0.0738   1.62e-16   4.57e+14      0.000         0.074     0.074\n",
      "Graduate Degree                                                                              0.0738   1.73e-16   4.26e+14      0.000         0.074     0.074\n",
      "High School Degree                                                                           0.0738   2.11e-16    3.5e+14      0.000         0.074     0.074\n",
      "Less than HS Degree                                                                          0.0738   4.97e-16   1.49e+14      0.000         0.074     0.074\n",
      "Some college/Associate Degree                                                                0.0738   1.64e-16   4.49e+14      0.000         0.074     0.074\n",
      "Location_East North Central                                                                  0.0410   1.55e-16   2.65e+14      0.000         0.041     0.041\n",
      "Location_East South Central                                                                  0.0410   2.89e-16   1.42e+14      0.000         0.041     0.041\n",
      "Location_Middle Atlantic                                                                     0.0410   1.76e-16   2.33e+14      0.000         0.041     0.041\n",
      "Location_Mountain                                                                            0.0410   2.21e-16   1.86e+14      0.000         0.041     0.041\n",
      "Location_New England                                                                         0.0410   2.26e-16   1.81e+14      0.000         0.041     0.041\n",
      "Location_Pacific                                                                             0.0410   1.54e-16   2.66e+14      0.000         0.041     0.041\n",
      "Location_South Atlantic                                                                      0.0410   1.58e-16   2.59e+14      0.000         0.041     0.041\n",
      "Location_West North Central                                                                  0.0410    2.1e-16   1.95e+14      0.000         0.041     0.041\n",
      "Location_West South Central                                                                  0.0410   2.14e-16   1.91e+14      0.000         0.041     0.041\n",
      "==============================================================================\n",
      "Omnibus:                       13.133   Durbin-Watson:                   0.590\n",
      "Prob(Omnibus):                  0.001   Jarque-Bera (JB):                8.504\n",
      "Skew:                           0.091   Prob(JB):                       0.0142\n",
      "Kurtosis:                       2.539   Cond. No.                     3.14e+16\n",
      "==============================================================================\n",
      "\n",
      "Warnings:\n",
      "[1] Standard Errors assume that the covariance matrix of the errors is correctly specified.\n",
      "[2] The smallest eigenvalue is 3.12e-30. This might indicate that there are\n",
      "strong multicollinearity problems or that the design matrix is singular.\n"
     ]
    }
   ],
   "source": [
    "import numpy as np\n",
    "import statsmodels.api as sm\n",
    "\n",
    "# Fit regression model\n",
    "results = sm.OLS(y_train, x_train).fit()\n",
    "\n",
    "# Inspect the results\n",
    "print(results.summary())"
   ]
  },
  {
   "cell_type": "code",
   "execution_count": 39,
   "metadata": {
    "collapsed": false
   },
   "outputs": [
    {
     "name": "stdout",
     "output_type": "stream",
     "text": [
      "{'polynomialfeatures__degree': 1, 'svc__C': 0.5}\n"
     ]
    },
    {
     "data": {
      "text/plain": [
       "0.9855742296918768"
      ]
     },
     "execution_count": 39,
     "metadata": {},
     "output_type": "execute_result"
    }
   ],
   "source": [
    "#runs SVC model \n",
    "from sklearn.svm import SVC\n",
    "param_grid_svc = {'polynomialfeatures__degree': np.arange(3),   \n",
    "              'svc__C': [0.5,0.75,1,2,3]}\n",
    "svcModel = make_pipeline(StandardScaler(),\n",
    "                           PolynomialFeatures(),\n",
    "                           SVC())\n",
    "\n",
    "svcSearchSVC = GridSearchCV(svcModel, param_grid_svc)\n",
    "svcSearchSVC.fit(x_train,y_train);\n",
    "print(svcSearchSVC.best_params_)\n",
    "#scores training and test sets\n",
    "# scoressvc = cross_val_score(svcSearchSVC, x_train, x_train)\n",
    "scoressvc = cross_val_score(svcSearchSVC, x_test, y_test)\n",
    "scoressvc.mean()"
   ]
  }
 ],
 "metadata": {
  "anaconda-cloud": {},
  "kernelspec": {
   "display_name": "Python [conda root]",
   "language": "python",
   "name": "conda-root-py"
  },
  "language_info": {
   "codemirror_mode": {
    "name": "ipython",
    "version": 3
   },
   "file_extension": ".py",
   "mimetype": "text/x-python",
   "name": "python",
   "nbconvert_exporter": "python",
   "pygments_lexer": "ipython3",
   "version": "3.5.2"
  }
 },
 "nbformat": 4,
 "nbformat_minor": 1
}
