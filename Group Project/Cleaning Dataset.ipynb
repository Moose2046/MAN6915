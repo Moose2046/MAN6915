{
 "cells": [
  {
   "cell_type": "code",
   "execution_count": 31,
   "metadata": {
    "collapsed": false,
    "scrolled": true
   },
   "outputs": [],
   "source": [
    "import pandas as pd\n",
    "import numpy as np\n",
    "from sklearn import linear_model, datasets\n",
    "from sklearn.model_selection import train_test_split \n",
    "%matplotlib inline\n",
    "import matplotlib.pyplot as plt\n",
    "import seaborn as sns"
   ]
  },
  {
   "cell_type": "code",
   "execution_count": 4,
   "metadata": {
    "collapsed": true
   },
   "outputs": [],
   "source": [
    "df = pd.read_csv('Comma Data Updated Headers.csv')"
   ]
  },
  {
   "cell_type": "code",
   "execution_count": 5,
   "metadata": {
    "collapsed": false
   },
   "outputs": [
    {
     "data": {
      "text/html": [
       "<div>\n",
       "<table border=\"1\" class=\"dataframe\">\n",
       "  <thead>\n",
       "    <tr style=\"text-align: right;\">\n",
       "      <th></th>\n",
       "      <th>RespondentID</th>\n",
       "      <th>Sentence</th>\n",
       "      <th>OxfordCommaHeard</th>\n",
       "      <th>OxfordCommaCare</th>\n",
       "      <th>Unnamed: 4</th>\n",
       "      <th>DataPlural</th>\n",
       "      <th>DataPluralCare</th>\n",
       "      <th>GrammarImportance</th>\n",
       "      <th>Gender</th>\n",
       "      <th>Age</th>\n",
       "      <th>Income</th>\n",
       "      <th>Education</th>\n",
       "      <th>Location</th>\n",
       "    </tr>\n",
       "  </thead>\n",
       "  <tbody>\n",
       "    <tr>\n",
       "      <th>0</th>\n",
       "      <td>3292953864</td>\n",
       "      <td>It's important for a person to be honest, kind...</td>\n",
       "      <td>Yes</td>\n",
       "      <td>Some</td>\n",
       "      <td>Some experts say it's important to drink milk,...</td>\n",
       "      <td>No</td>\n",
       "      <td>Not much</td>\n",
       "      <td>Somewhat important</td>\n",
       "      <td>Male</td>\n",
       "      <td>30-44</td>\n",
       "      <td>$50,000 - $99,999</td>\n",
       "      <td>Bachelor degree</td>\n",
       "      <td>South Atlantic</td>\n",
       "    </tr>\n",
       "    <tr>\n",
       "      <th>1</th>\n",
       "      <td>3292950324</td>\n",
       "      <td>It's important for a person to be honest, kind...</td>\n",
       "      <td>No</td>\n",
       "      <td>Not much</td>\n",
       "      <td>Some experts say it's important to drink milk,...</td>\n",
       "      <td>No</td>\n",
       "      <td>Not much</td>\n",
       "      <td>Somewhat unimportant</td>\n",
       "      <td>Male</td>\n",
       "      <td>30-44</td>\n",
       "      <td>$50,000 - $99,999</td>\n",
       "      <td>Graduate degree</td>\n",
       "      <td>Mountain</td>\n",
       "    </tr>\n",
       "    <tr>\n",
       "      <th>2</th>\n",
       "      <td>3292942669</td>\n",
       "      <td>It's important for a person to be honest, kind...</td>\n",
       "      <td>Yes</td>\n",
       "      <td>Some</td>\n",
       "      <td>Some experts say it's important to drink milk,...</td>\n",
       "      <td>Yes</td>\n",
       "      <td>Not at all</td>\n",
       "      <td>Very important</td>\n",
       "      <td>Male</td>\n",
       "      <td>30-44</td>\n",
       "      <td>NaN</td>\n",
       "      <td>NaN</td>\n",
       "      <td>East North Central</td>\n",
       "    </tr>\n",
       "    <tr>\n",
       "      <th>3</th>\n",
       "      <td>3292932796</td>\n",
       "      <td>It's important for a person to be honest, kind...</td>\n",
       "      <td>Yes</td>\n",
       "      <td>Some</td>\n",
       "      <td>Some experts say it's important to drink milk,...</td>\n",
       "      <td>No</td>\n",
       "      <td>Some</td>\n",
       "      <td>Somewhat important</td>\n",
       "      <td>Male</td>\n",
       "      <td>18-29</td>\n",
       "      <td>NaN</td>\n",
       "      <td>Less than high school degree</td>\n",
       "      <td>Middle Atlantic</td>\n",
       "    </tr>\n",
       "    <tr>\n",
       "      <th>4</th>\n",
       "      <td>3292932522</td>\n",
       "      <td>It's important for a person to be honest, kind...</td>\n",
       "      <td>No</td>\n",
       "      <td>Not much</td>\n",
       "      <td>Some experts say it's important to drink milk,...</td>\n",
       "      <td>No</td>\n",
       "      <td>Not much</td>\n",
       "      <td>NaN</td>\n",
       "      <td>NaN</td>\n",
       "      <td>NaN</td>\n",
       "      <td>NaN</td>\n",
       "      <td>NaN</td>\n",
       "      <td>NaN</td>\n",
       "    </tr>\n",
       "  </tbody>\n",
       "</table>\n",
       "</div>"
      ],
      "text/plain": [
       "   RespondentID                                           Sentence  \\\n",
       "0    3292953864  It's important for a person to be honest, kind...   \n",
       "1    3292950324  It's important for a person to be honest, kind...   \n",
       "2    3292942669  It's important for a person to be honest, kind...   \n",
       "3    3292932796  It's important for a person to be honest, kind...   \n",
       "4    3292932522  It's important for a person to be honest, kind...   \n",
       "\n",
       "  OxfordCommaHeard OxfordCommaCare  \\\n",
       "0              Yes            Some   \n",
       "1               No        Not much   \n",
       "2              Yes            Some   \n",
       "3              Yes            Some   \n",
       "4               No        Not much   \n",
       "\n",
       "                                          Unnamed: 4 DataPlural  \\\n",
       "0  Some experts say it's important to drink milk,...         No   \n",
       "1  Some experts say it's important to drink milk,...         No   \n",
       "2  Some experts say it's important to drink milk,...        Yes   \n",
       "3  Some experts say it's important to drink milk,...         No   \n",
       "4  Some experts say it's important to drink milk,...         No   \n",
       "\n",
       "  DataPluralCare     GrammarImportance Gender    Age             Income  \\\n",
       "0       Not much    Somewhat important   Male  30-44  $50,000 - $99,999   \n",
       "1       Not much  Somewhat unimportant   Male  30-44  $50,000 - $99,999   \n",
       "2     Not at all        Very important   Male  30-44                NaN   \n",
       "3           Some    Somewhat important   Male  18-29                NaN   \n",
       "4       Not much                   NaN    NaN    NaN                NaN   \n",
       "\n",
       "                      Education            Location  \n",
       "0               Bachelor degree      South Atlantic  \n",
       "1               Graduate degree            Mountain  \n",
       "2                           NaN  East North Central  \n",
       "3  Less than high school degree     Middle Atlantic  \n",
       "4                           NaN                 NaN  "
      ]
     },
     "execution_count": 5,
     "metadata": {},
     "output_type": "execute_result"
    }
   ],
   "source": [
    "df.head()"
   ]
  },
  {
   "cell_type": "code",
   "execution_count": 43,
   "metadata": {
    "collapsed": false,
    "scrolled": false
   },
   "outputs": [],
   "source": [
    "df = df.dropna(subset = ['Gender', 'Age'])\n",
    "series = df.groupby([\"Gender\", \"Age\"]).transform(lambda x: x.fillna(x.value_counts().index[0]))"
   ]
  },
  {
   "cell_type": "code",
   "execution_count": 7,
   "metadata": {
    "collapsed": false
   },
   "outputs": [
    {
     "data": {
      "text/plain": [
       "pandas.core.frame.DataFrame"
      ]
     },
     "execution_count": 7,
     "metadata": {},
     "output_type": "execute_result"
    }
   ],
   "source": [
    "type(series)"
   ]
  },
  {
   "cell_type": "code",
   "execution_count": 33,
   "metadata": {
    "collapsed": false
   },
   "outputs": [
    {
     "data": {
      "text/html": [
       "<div>\n",
       "<table border=\"1\" class=\"dataframe\">\n",
       "  <thead>\n",
       "    <tr style=\"text-align: right;\">\n",
       "      <th></th>\n",
       "      <th>RespondentID</th>\n",
       "      <th>Sentence</th>\n",
       "      <th>OxfordCommaHeard</th>\n",
       "      <th>OxfordCommaCare</th>\n",
       "      <th>Unnamed: 4</th>\n",
       "      <th>DataPlural</th>\n",
       "      <th>DataPluralCare</th>\n",
       "      <th>GrammarImportance</th>\n",
       "      <th>Income</th>\n",
       "      <th>Education</th>\n",
       "      <th>Location</th>\n",
       "    </tr>\n",
       "  </thead>\n",
       "  <tbody>\n",
       "    <tr>\n",
       "      <th>0</th>\n",
       "      <td>3292953864</td>\n",
       "      <td>It's important for a person to be honest, kind...</td>\n",
       "      <td>Yes</td>\n",
       "      <td>Some</td>\n",
       "      <td>Some experts say it's important to drink milk,...</td>\n",
       "      <td>No</td>\n",
       "      <td>Not much</td>\n",
       "      <td>Somewhat important</td>\n",
       "      <td>$50,000 - $99,999</td>\n",
       "      <td>Bachelor degree</td>\n",
       "      <td>South Atlantic</td>\n",
       "    </tr>\n",
       "    <tr>\n",
       "      <th>1</th>\n",
       "      <td>3292950324</td>\n",
       "      <td>It's important for a person to be honest, kind...</td>\n",
       "      <td>No</td>\n",
       "      <td>Not much</td>\n",
       "      <td>Some experts say it's important to drink milk,...</td>\n",
       "      <td>No</td>\n",
       "      <td>Not much</td>\n",
       "      <td>Somewhat unimportant</td>\n",
       "      <td>$50,000 - $99,999</td>\n",
       "      <td>Graduate degree</td>\n",
       "      <td>Mountain</td>\n",
       "    </tr>\n",
       "    <tr>\n",
       "      <th>2</th>\n",
       "      <td>3292942669</td>\n",
       "      <td>It's important for a person to be honest, kind...</td>\n",
       "      <td>Yes</td>\n",
       "      <td>Some</td>\n",
       "      <td>Some experts say it's important to drink milk,...</td>\n",
       "      <td>Yes</td>\n",
       "      <td>Not at all</td>\n",
       "      <td>Very important</td>\n",
       "      <td>$50,000 - $99,999</td>\n",
       "      <td>Bachelor degree</td>\n",
       "      <td>East North Central</td>\n",
       "    </tr>\n",
       "    <tr>\n",
       "      <th>3</th>\n",
       "      <td>3292932796</td>\n",
       "      <td>It's important for a person to be honest, kind...</td>\n",
       "      <td>Yes</td>\n",
       "      <td>Some</td>\n",
       "      <td>Some experts say it's important to drink milk,...</td>\n",
       "      <td>No</td>\n",
       "      <td>Some</td>\n",
       "      <td>Somewhat important</td>\n",
       "      <td>$0 - $24,999</td>\n",
       "      <td>Less than high school degree</td>\n",
       "      <td>Middle Atlantic</td>\n",
       "    </tr>\n",
       "    <tr>\n",
       "      <th>5</th>\n",
       "      <td>3292926586</td>\n",
       "      <td>It's important for a person to be honest, kind...</td>\n",
       "      <td>No</td>\n",
       "      <td>A lot</td>\n",
       "      <td>Some experts say it's important to drink milk,...</td>\n",
       "      <td>Yes</td>\n",
       "      <td>Some</td>\n",
       "      <td>Very important</td>\n",
       "      <td>$25,000 - $49,999</td>\n",
       "      <td>Some college or Associate degree</td>\n",
       "      <td>New England</td>\n",
       "    </tr>\n",
       "  </tbody>\n",
       "</table>\n",
       "</div>"
      ],
      "text/plain": [
       "   RespondentID                                           Sentence  \\\n",
       "0    3292953864  It's important for a person to be honest, kind...   \n",
       "1    3292950324  It's important for a person to be honest, kind...   \n",
       "2    3292942669  It's important for a person to be honest, kind...   \n",
       "3    3292932796  It's important for a person to be honest, kind...   \n",
       "5    3292926586  It's important for a person to be honest, kind...   \n",
       "\n",
       "  OxfordCommaHeard OxfordCommaCare  \\\n",
       "0              Yes            Some   \n",
       "1               No        Not much   \n",
       "2              Yes            Some   \n",
       "3              Yes            Some   \n",
       "5               No           A lot   \n",
       "\n",
       "                                          Unnamed: 4 DataPlural  \\\n",
       "0  Some experts say it's important to drink milk,...         No   \n",
       "1  Some experts say it's important to drink milk,...         No   \n",
       "2  Some experts say it's important to drink milk,...        Yes   \n",
       "3  Some experts say it's important to drink milk,...         No   \n",
       "5  Some experts say it's important to drink milk,...        Yes   \n",
       "\n",
       "  DataPluralCare     GrammarImportance             Income  \\\n",
       "0       Not much    Somewhat important  $50,000 - $99,999   \n",
       "1       Not much  Somewhat unimportant  $50,000 - $99,999   \n",
       "2     Not at all        Very important  $50,000 - $99,999   \n",
       "3           Some    Somewhat important       $0 - $24,999   \n",
       "5           Some        Very important  $25,000 - $49,999   \n",
       "\n",
       "                          Education            Location  \n",
       "0                   Bachelor degree      South Atlantic  \n",
       "1                   Graduate degree            Mountain  \n",
       "2                   Bachelor degree  East North Central  \n",
       "3      Less than high school degree     Middle Atlantic  \n",
       "5  Some college or Associate degree         New England  "
      ]
     },
     "execution_count": 33,
     "metadata": {},
     "output_type": "execute_result"
    }
   ],
   "source": [
    "df2 = df.dropna()\n",
    "df3 = pd.get_dummies(series, drop_first= True)"
   ]
  },
  {
   "cell_type": "code",
   "execution_count": 28,
   "metadata": {
    "collapsed": false
   },
   "outputs": [
    {
     "data": {
      "text/html": [
       "<div>\n",
       "<table border=\"1\" class=\"dataframe\">\n",
       "  <thead>\n",
       "    <tr style=\"text-align: right;\">\n",
       "      <th></th>\n",
       "      <th>RespondentID</th>\n",
       "      <th>Oxford Comma Use</th>\n",
       "      <th>Heard of Oxford Comma</th>\n",
       "      <th>Oxford Care - Not at all</th>\n",
       "      <th>Oxford Care - Not much</th>\n",
       "      <th>Oxford Care - Some</th>\n",
       "      <th>Data Use</th>\n",
       "      <th>Data is Plural</th>\n",
       "      <th>Data Plural Care - Not at all</th>\n",
       "      <th>Data Plural Care - Not much</th>\n",
       "      <th>...</th>\n",
       "      <th>Less than HS Degree</th>\n",
       "      <th>Some college/Associate Degree</th>\n",
       "      <th>Location_East South Central</th>\n",
       "      <th>Location_Middle Atlantic</th>\n",
       "      <th>Location_Mountain</th>\n",
       "      <th>Location_New England</th>\n",
       "      <th>Location_Pacific</th>\n",
       "      <th>Location_South Atlantic</th>\n",
       "      <th>Location_West North Central</th>\n",
       "      <th>Location_West South Central</th>\n",
       "    </tr>\n",
       "  </thead>\n",
       "  <tbody>\n",
       "    <tr>\n",
       "      <th>0</th>\n",
       "      <td>3292953864</td>\n",
       "      <td>0.0</td>\n",
       "      <td>1.0</td>\n",
       "      <td>0.0</td>\n",
       "      <td>0.0</td>\n",
       "      <td>1.0</td>\n",
       "      <td>1.0</td>\n",
       "      <td>0.0</td>\n",
       "      <td>0.0</td>\n",
       "      <td>1.0</td>\n",
       "      <td>...</td>\n",
       "      <td>0.0</td>\n",
       "      <td>0.0</td>\n",
       "      <td>0.0</td>\n",
       "      <td>0.0</td>\n",
       "      <td>0.0</td>\n",
       "      <td>0.0</td>\n",
       "      <td>0.0</td>\n",
       "      <td>1.0</td>\n",
       "      <td>0.0</td>\n",
       "      <td>0.0</td>\n",
       "    </tr>\n",
       "  </tbody>\n",
       "</table>\n",
       "<p>1 rows × 31 columns</p>\n",
       "</div>"
      ],
      "text/plain": [
       "   RespondentID  Oxford Comma Use  Heard of Oxford Comma  \\\n",
       "0    3292953864               0.0                    1.0   \n",
       "\n",
       "   Oxford Care - Not at all  Oxford Care - Not much  Oxford Care - Some  \\\n",
       "0                       0.0                     0.0                 1.0   \n",
       "\n",
       "   Data Use  Data is Plural  Data Plural Care - Not at all  \\\n",
       "0       1.0             0.0                            0.0   \n",
       "\n",
       "   Data Plural Care - Not much             ...               \\\n",
       "0                          1.0             ...                \n",
       "\n",
       "   Less than HS Degree  Some college/Associate Degree  \\\n",
       "0                  0.0                            0.0   \n",
       "\n",
       "   Location_East South Central  Location_Middle Atlantic  Location_Mountain  \\\n",
       "0                          0.0                       0.0                0.0   \n",
       "\n",
       "   Location_New England  Location_Pacific  Location_South Atlantic  \\\n",
       "0                   0.0               0.0                      1.0   \n",
       "\n",
       "   Location_West North Central  Location_West South Central  \n",
       "0                          0.0                          0.0  \n",
       "\n",
       "[1 rows x 31 columns]"
      ]
     },
     "execution_count": 28,
     "metadata": {},
     "output_type": "execute_result"
    }
   ],
   "source": [
    "#rename column names\n",
    "df3 = df3.rename(index = str, columns ={\"Sentence_It's important for a person to be honest, kind, and loyal.\": \"Oxford Comma Use\", \n",
    "                                        \"OxfordCommaHeard_Yes\":\"Heard of Oxford Comma\",\n",
    "                                        \"OxfordCommaCare_Not at all\" : \"Oxford Care - Not at all\", \n",
    "                                        \"OxfordCommaCare_Not much\" : \"Oxford Care - Not much\",\n",
    "                                        \"OxfordCommaCare_Some\" : \"Oxford Care - Some\",\n",
    "                                        \"Unnamed: 4_Some experts say it's important to drink milk, but the data is inconclusive.\" : \"Data Use\",\n",
    "                                        \"DataPlural_Yes\": \"Data is Plural\",\n",
    "                                        \"DataPluralCare_Not at all\": \"Data Plural Care - Not at all\",\n",
    "                                        \"DataPluralCare_Not much\" : \"Data Plural Care - Not much\",\n",
    "                                        \"DataPluralCare_Some\" : \"Data Plural Care - Some\",\n",
    "                                        \"GrammarImportance_Somewhat important\": \"Grammar - Somewhat Important\",\n",
    "                                        \"GrammarImportance_Somewhat unimportant\": \"Grammar - Somewhat Unimportant\",\n",
    "                                        \"GrammarImportance_Very important\": \"Grammar - Very Important\",\n",
    "                                        \"GrammarImportance_Very unimportant\": \"Grammar - Very Unimportant\",\n",
    "                                        \"Education_Graduate degree\": \"Graduate Degree\",\n",
    "                                        \"Education_High school degree\" : \"High School Degree\", \n",
    "                                        \"Education_Less than high school degree\" : \"Less than HS Degree\",\n",
    "                                        \"Education_Some college or Associate degree\": \"Some college/Associate Degree\"})\n",
    "df3.head(1)"
   ]
  },
  {
   "cell_type": "code",
   "execution_count": 29,
   "metadata": {
    "collapsed": false
   },
   "outputs": [],
   "source": [
    "df3.to_csv('clean_data.csv')\n",
    "y = df3[\"Oxford Comma Use\"]\n",
    "x = df3.drop([\"Oxford Comma Use\", \"RespondentID\"], axis=1)\n",
    "x_train, x_test, y_train, y_test = train_test_split(x, y, test_size = .2, random_state=42, stratify=y)"
   ]
  },
  {
   "cell_type": "code",
   "execution_count": 58,
   "metadata": {
    "collapsed": false
   },
   "outputs": [],
   "source": [
    "comma = df2\n",
    "comma['Sentence'] = comma['Sentence'].replace(\"It's important for a person to be honest, kind, and loyal.\", 1).replace(\"It's important for a person to be honest, kind and loyal.\", 0)\n"
   ]
  },
  {
   "cell_type": "code",
   "execution_count": 61,
   "metadata": {
    "collapsed": false
   },
   "outputs": [
    {
     "data": {
      "text/plain": [
       "<matplotlib.axes._subplots.AxesSubplot at 0xca2ce10>"
      ]
     },
     "execution_count": 61,
     "metadata": {},
     "output_type": "execute_result"
    },
    {
     "data": {
      "image/png": "[encoded data removed]",
      "text/plain": [
       "<matplotlib.figure.Figure at 0xb99fa20>"
      ]
     },
     "metadata": {},
     "output_type": "display_data"
    }
   ],
   "source": [
    "sns.barplot(x=\"Gender\", y=\"Sentence\", hue=\"OxfordCommaHeard\", data=comma, ci = None)"
   ]
  },
  {
   "cell_type": "code",
   "execution_count": 59,
   "metadata": {
    "collapsed": false
   },
   "outputs": [
    {
     "data": {
      "image/png": "[encoded data removed]",
      "text/plain": [
       "<matplotlib.figure.Figure at 0xb8a8470>"
      ]
     },
     "metadata": {},
     "output_type": "display_data"
    }
   ],
   "source": [
    "sns.countplot(x=\"Age\", data=comma, hue = 'Sentence');"
   ]
  },
  {
   "cell_type": "code",
   "execution_count": 82,
   "metadata": {
    "collapsed": false
   },
   "outputs": [
    {
     "data": {
      "text/plain": [
       "<seaborn.axisgrid.FacetGrid at 0x10957ac8>"
      ]
     },
     "execution_count": 82,
     "metadata": {},
     "output_type": "execute_result"
    },
    {
     "data": {
      "image/png": "[encoded data removed]",
      "text/plain": [
       "<matplotlib.figure.Figure at 0x10415940>"
      ]
     },
     "metadata": {},
     "output_type": "display_data"
    }
   ],
   "source": [
    "sns.factorplot(x=\"Gender\", y=\"Sentence\", \n",
    "               col=\"Income\", data=comma, kind=\"bar\", size=4, aspect=.5, ci=None)"
   ]
  },
  {
   "cell_type": "code",
   "execution_count": null,
   "metadata": {
    "collapsed": true
   },
   "outputs": [],
   "source": []
  }
 ],
 "metadata": {
  "anaconda-cloud": {},
  "kernelspec": {
   "display_name": "Python [conda root]",
   "language": "python",
   "name": "conda-root-py"
  },
  "language_info": {
   "codemirror_mode": {
    "name": "ipython",
    "version": 3
   },
   "file_extension": ".py",
   "mimetype": "text/x-python",
   "name": "python",
   "nbconvert_exporter": "python",
   "pygments_lexer": "ipython3",
   "version": "3.5.2"
  }
 },
 "nbformat": 4,
 "nbformat_minor": 1
}
